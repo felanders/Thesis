{
 "cells": [
  {
   "cell_type": "code",
   "execution_count": 1,
   "metadata": {},
   "outputs": [],
   "source": [
    "import sys\n",
    "import datasets\n",
    "import pandas as pd\n",
    "import numpy as np\n",
    "from dotenv import dotenv_values\n",
    "from pathlib import Path\n",
    "\n",
    "np.random.seed(19950808)\n",
    "\n",
    "config = dotenv_values(\"./../../config/.env\") # take environment variables from .env.\n",
    "base_path = Path(config[\"BASE_PATH\"])\n",
    "sys.path.append(str(base_path/\"code\"))"
   ]
  },
  {
   "cell_type": "code",
   "execution_count": 2,
   "metadata": {},
   "outputs": [],
   "source": [
    "df_main = pd.read_pickle(base_path/\"data/preprocessed/main.pkl\")\n",
    "df_main.reset_index(inplace=True)\n",
    "df_main.filing_type = df_main.filing_type.apply(lambda x: \"10-K\" if x[:4] == \"10-K\" else x)  # treat all SEC filings the same\n",
    "df_main.year = df_main.year.astype(int)\n",
    "df_main.report_id = df_main.report_id.astype(str)\n",
    "df_main = df_main[df_main.year >= 1993] # Do not use historical Swiss Re Reports for training\n",
    "df = pd.read_pickle(base_path/\"data/preprocessed/paragraphs_clean.pkl\")\n",
    "df.report_id = df.report_id.astype(str)"
   ]
  },
  {
   "cell_type": "code",
   "execution_count": 3,
   "metadata": {},
   "outputs": [],
   "source": [
    "df_zs = datasets.Dataset.load_from_disk(base_path/\"data/preprocessed/dataset/zero-shot\").to_pandas() \n",
    "df_zs[\"labeled\"] = 1.0\n",
    "df_zs[\"strategy\"] = \"zero-shot\"\n",
    "df_al = pd.read_pickle(base_path/\"data/labeling/active-learning-iteration-2.pkl\")\n",
    "df_al = df_al[df_al.labeled == 1.0]\n",
    "df_al[\"strategy\"] = \"active-learning\"\n",
    "df_labeled = pd.concat([df_zs[[\"report_id\", \"paragraph_nr\", \"labeled\", \"strategy\"]], df_al[[\"report_id\", \"paragraph_nr\", \"labeled\", \"strategy\"]]])\n",
    "df_labeled.report_id = df_labeled.report_id.astype(str)"
   ]
  },
  {
   "cell_type": "code",
   "execution_count": 4,
   "metadata": {},
   "outputs": [],
   "source": [
    "df = df.merge(df_labeled, on=[\"report_id\", \"paragraph_nr\"], how=\"left\")\n",
    "df.labeled = df.labeled.apply(lambda x: x if x == 1.0 else 0.0)\n",
    "df.sort_values(by=[\"report_id\", \"paragraph_nr\"], inplace=True)"
   ]
  },
  {
   "cell_type": "markdown",
   "metadata": {},
   "source": [
    "Note that labeling full reports is somewhat faster than labeling single paragraphs, as there is more context (ie. the preceeding paragraphs)."
   ]
  },
  {
   "cell_type": "code",
   "execution_count": 5,
   "metadata": {},
   "outputs": [],
   "source": [
    "reports_to_label = df_main.groupby(\"filing_type\").sample(5)[\"report_id\"].tolist()"
   ]
  },
  {
   "cell_type": "markdown",
   "metadata": {},
   "source": [
    "Comment: \n",
    "\n",
    "From these 10 sampled reports I only managed to label the first 5 (10K) and 2 (Beazley and Baloise) from the last 5 (PDF) due to time constraints.\n",
    "The PDF reports are longer and there are fewer reports (about 1 in 10) in the dataset thus this 5 to 2 split is actually closer to the underlying distribution, while allowing for at least 2 PDF reports."
   ]
  },
  {
   "cell_type": "code",
   "execution_count": 6,
   "metadata": {},
   "outputs": [
    {
     "data": {
      "text/plain": [
       "['3935',\n",
       " '4123',\n",
       " '5110',\n",
       " '3585',\n",
       " '5407',\n",
       " 'CNPAssurancesSA-AR_2019',\n",
       " 'de_allianz-AR_2009',\n",
       " 'BaloiseHoldingLtd-AR_2015',\n",
       " 'SwissLifeHoldingAG-AR_2012',\n",
       " 'BeazleyPLC-AR_2017']"
      ]
     },
     "execution_count": 6,
     "metadata": {},
     "output_type": "execute_result"
    }
   ],
   "source": [
    "reports_to_label"
   ]
  },
  {
   "cell_type": "markdown",
   "metadata": {},
   "source": [
    "Set labeled to -1 for the paragraphs which are to be labeled"
   ]
  },
  {
   "cell_type": "code",
   "execution_count": 7,
   "metadata": {},
   "outputs": [],
   "source": [
    "df.loc[df.report_id.isin(reports_to_label) & df.labeled.isin([0]), \"labeled\"] = -1"
   ]
  },
  {
   "cell_type": "code",
   "execution_count": 8,
   "metadata": {},
   "outputs": [],
   "source": [
    "df[\"loss\"] = None\n",
    "df[\"unexpected\"] = None\n",
    "df.reset_index(drop=True, inplace=True)\n",
    "df_report_id = df.report_id.astype(str)\n",
    "df = df.merge(df_main.drop(\"filing_type\", axis=1), how =\"left\", on=\"report_id\")"
   ]
  },
  {
   "cell_type": "markdown",
   "metadata": {},
   "source": [
    "Uncomment the following to generate the labeling dataset note this overwrites any existing file"
   ]
  },
  {
   "cell_type": "code",
   "execution_count": null,
   "metadata": {},
   "outputs": [],
   "source": [
    "# df.to_pickle(base_path/\"data/labeling/GT.pkl\")"
   ]
  }
 ],
 "metadata": {
  "kernelspec": {
   "display_name": ".venv",
   "language": "python",
   "name": "python3"
  },
  "language_info": {
   "codemirror_mode": {
    "name": "ipython",
    "version": 3
   },
   "file_extension": ".py",
   "mimetype": "text/x-python",
   "name": "python",
   "nbconvert_exporter": "python",
   "pygments_lexer": "ipython3",
   "version": "3.10.10"
  }
 },
 "nbformat": 4,
 "nbformat_minor": 2
}

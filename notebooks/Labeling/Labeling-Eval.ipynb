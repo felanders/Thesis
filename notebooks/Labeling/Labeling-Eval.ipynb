{
 "cells": [
  {
   "cell_type": "code",
   "execution_count": 1,
   "metadata": {},
   "outputs": [],
   "source": [
    "import sys\n",
    "import pandas as pd\n",
    "import numpy as np\n",
    "from dotenv import dotenv_values\n",
    "from pathlib import Path\n",
    "\n",
    "np.random.seed(19950808)\n",
    "\n",
    "config = dotenv_values(\"./../../config/.env\") # take environment variables from .env.\n",
    "base_path = Path(config[\"BASE_PATH\"])\n",
    "sys.path.append(str(base_path/\"code\"))\n",
    "\n",
    "from ZeDiAc.Annotators import ReportAnnotator"
   ]
  },
  {
   "cell_type": "code",
   "execution_count": 2,
   "metadata": {},
   "outputs": [],
   "source": [
    "annotator = ReportAnnotator(\n",
    "    data = \" \",\n",
    "    labels = {f\"loss_GT\": \"loss\", f\"unexpected_GT\": \"unexpected\"},\n",
    "    out_file = base_path/\"data/labeling/GT.pkl\",\n",
    "    text_column = \"text\",\n",
    "    batch_size = 50,\n",
    ")"
   ]
  },
  {
   "cell_type": "code",
   "execution_count": 3,
   "metadata": {},
   "outputs": [
    {
     "name": "stdout",
     "output_type": "stream",
     "text": [
      "Companies:  ['FIRST COMMONWEALTH CORP'] Years:  [1999.] Paragraphs: 305 to 407\n"
     ]
    },
    {
     "data": {
      "application/vnd.jupyter.widget-view+json": {
       "model_id": "d5c2f56345264bf2bfc17bf2e869303b",
       "version_major": 2,
       "version_minor": 0
      },
      "text/plain": [
       "HTML(value='0 of 50 Examples annotated, Current Position: 0 ')"
      ]
     },
     "metadata": {},
     "output_type": "display_data"
    },
    {
     "data": {
      "application/vnd.jupyter.widget-view+json": {
       "model_id": "bfa86879318d4b99b4c81f29cab59105",
       "version_major": 2,
       "version_minor": 0
      },
      "text/plain": [
       "VBox(children=(HBox(children=(ToggleButton(value=False, description='loss'), ToggleButton(value=False, descrip…"
      ]
     },
     "metadata": {},
     "output_type": "display_data"
    },
    {
     "data": {
      "application/vnd.jupyter.widget-view+json": {
       "model_id": "ec4d78dc488144a69d4ae40827bc7f0e",
       "version_major": 2,
       "version_minor": 0
      },
      "text/plain": [
       "Output()"
      ]
     },
     "metadata": {},
     "output_type": "display_data"
    }
   ],
   "source": [
    "annotator.label_batch(strategy=\"sequential\")"
   ]
  },
  {
   "cell_type": "markdown",
   "metadata": {},
   "source": [
    "### Insights into how much is already labeled   "
   ]
  },
  {
   "cell_type": "code",
   "execution_count": 14,
   "metadata": {},
   "outputs": [
    {
     "name": "stdout",
     "output_type": "stream",
     "text": [
      "Annotated this session: 0\n",
      "Remaining:             3306 of 6072 (54.4%)\n",
      "Annotated:             2766 of 6072 (45.6%)\n",
      "Labeled as Loss:        137 (4.95%)\n",
      "Labeled as Unexpected:   21 (0.76%)\n"
     ]
    }
   ],
   "source": [
    "n_annotated = annotator.data[annotator.data.strategy == \"sequential\"].shape[0]\n",
    "n_to_annotate = annotator.data[annotator.data.labeled==-1].shape[0]\n",
    "n_sample = n_annotated + n_to_annotate\n",
    "print(f\"Annotated this session: {n_annotated-2766}\")\n",
    "print(f\"Remaining:             {n_to_annotate} of {n_sample} ({n_to_annotate/n_sample:.1%})\")\n",
    "print(f\"Annotated:             {n_annotated} of {n_sample} ({n_annotated/n_sample:.1%})\")\n",
    "counts = annotator.data[annotator.data.strategy.isin([\"sequential\"])][[\"loss\", \"unexpected\"]].sum()\n",
    "print(f\"Labeled as Loss:        {counts.tolist()[0]} ({round(counts.tolist()[0]/n_annotated*100,2)}%)\")\n",
    "print(f\"Labeled as Unexpected:   {counts.tolist()[1]} ({round(counts.tolist()[1]/n_annotated*100,2)}%)\")"
   ]
  },
  {
   "cell_type": "code",
   "execution_count": 15,
   "metadata": {},
   "outputs": [
    {
     "data": {
      "text/plain": [
       "-1.0    523\n",
       " 1.0     24\n",
       "Name: labeled, dtype: int64"
      ]
     },
     "execution_count": 15,
     "metadata": {},
     "output_type": "execute_result"
    }
   ],
   "source": [
    "annotator.data[(annotator.data.company == 'ALLSTATE LIFE INSURANCE CO') & (annotator.data.year == 2009)].labeled.value_counts()"
   ]
  },
  {
   "cell_type": "code",
   "execution_count": 16,
   "metadata": {},
   "outputs": [
    {
     "data": {
      "text/plain": [
       "0"
      ]
     },
     "execution_count": 16,
     "metadata": {},
     "output_type": "execute_result"
    }
   ],
   "source": [
    "annotator.data[annotator.data.labeled.isin([-1]) & annotator.data.company.isin(['BeazleyPLC'])].shape[0]"
   ]
  }
 ],
 "metadata": {
  "kernelspec": {
   "display_name": ".venv",
   "language": "python",
   "name": "python3"
  },
  "language_info": {
   "codemirror_mode": {
    "name": "ipython",
    "version": 3
   },
   "file_extension": ".py",
   "mimetype": "text/x-python",
   "name": "python",
   "nbconvert_exporter": "python",
   "pygments_lexer": "ipython3",
   "version": "3.10.10"
  },
  "orig_nbformat": 4
 },
 "nbformat": 4,
 "nbformat_minor": 2
}

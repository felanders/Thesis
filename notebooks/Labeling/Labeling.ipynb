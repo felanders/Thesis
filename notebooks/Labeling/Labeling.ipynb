{
 "cells": [
  {
   "cell_type": "code",
   "execution_count": 2,
   "metadata": {},
   "outputs": [
    {
     "ename": "FileNotFoundError",
     "evalue": "Directory /home/andreas/Polybox/Project-Support-Material/Thesis/data/processed/active-learning-iteration-2 not found",
     "output_type": "error",
     "traceback": [
      "\u001b[0;31m---------------------------------------------------------------------------\u001b[0m",
      "\u001b[0;31mFileNotFoundError\u001b[0m                         Traceback (most recent call last)",
      "\u001b[1;32m/home/andreas/Polybox/Project-Support-Material/Thesis/notebooks/Labeling/Labeling.ipynb Cell 1\u001b[0m line \u001b[0;36m1\n\u001b[1;32m      <a href='vscode-notebook-cell:/home/andreas/Polybox/Project-Support-Material/Thesis/notebooks/Labeling/Labeling.ipynb#W0sZmlsZQ%3D%3D?line=8'>9</a>\u001b[0m \u001b[39mfrom\u001b[39;00m \u001b[39mZeDiAc\u001b[39;00m\u001b[39m.\u001b[39;00m\u001b[39mAnnotators\u001b[39;00m \u001b[39mimport\u001b[39;00m ActiveAnnotator\n\u001b[1;32m     <a href='vscode-notebook-cell:/home/andreas/Polybox/Project-Support-Material/Thesis/notebooks/Labeling/Labeling.ipynb#W0sZmlsZQ%3D%3D?line=10'>11</a>\u001b[0m iteration \u001b[39m=\u001b[39m \u001b[39m2\u001b[39m\n\u001b[0;32m---> <a href='vscode-notebook-cell:/home/andreas/Polybox/Project-Support-Material/Thesis/notebooks/Labeling/Labeling.ipynb#W0sZmlsZQ%3D%3D?line=12'>13</a>\u001b[0m data \u001b[39m=\u001b[39m datasets\u001b[39m.\u001b[39;49mload_from_disk(base_path\u001b[39m/\u001b[39;49m\u001b[39mf\u001b[39;49m\u001b[39m\"\u001b[39;49m\u001b[39mdata/processed/active-learning-iteration-\u001b[39;49m\u001b[39m{\u001b[39;49;00miteration\u001b[39m}\u001b[39;49;00m\u001b[39m\"\u001b[39;49m)\n",
      "File \u001b[0;32m~/Polybox/Project-Support-Material/Thesis/.venv/lib/python3.10/site-packages/datasets/load.py:1886\u001b[0m, in \u001b[0;36mload_from_disk\u001b[0;34m(dataset_path, fs, keep_in_memory, storage_options)\u001b[0m\n\u001b[1;32m   1883\u001b[0m     path_join \u001b[39m=\u001b[39m os\u001b[39m.\u001b[39mpath\u001b[39m.\u001b[39mjoin\n\u001b[1;32m   1885\u001b[0m \u001b[39mif\u001b[39;00m \u001b[39mnot\u001b[39;00m fs\u001b[39m.\u001b[39mexists(dest_dataset_path):\n\u001b[0;32m-> 1886\u001b[0m     \u001b[39mraise\u001b[39;00m \u001b[39mFileNotFoundError\u001b[39;00m(\u001b[39mf\u001b[39m\u001b[39m\"\u001b[39m\u001b[39mDirectory \u001b[39m\u001b[39m{\u001b[39;00mdataset_path\u001b[39m}\u001b[39;00m\u001b[39m not found\u001b[39m\u001b[39m\"\u001b[39m)\n\u001b[1;32m   1887\u001b[0m \u001b[39mif\u001b[39;00m fs\u001b[39m.\u001b[39misfile(path_join(dest_dataset_path, config\u001b[39m.\u001b[39mDATASET_INFO_FILENAME)) \u001b[39mand\u001b[39;00m fs\u001b[39m.\u001b[39misfile(\n\u001b[1;32m   1888\u001b[0m     path_join(dest_dataset_path, config\u001b[39m.\u001b[39mDATASET_STATE_JSON_FILENAME)\n\u001b[1;32m   1889\u001b[0m ):\n\u001b[1;32m   1890\u001b[0m     \u001b[39mreturn\u001b[39;00m Dataset\u001b[39m.\u001b[39mload_from_disk(dataset_path, keep_in_memory\u001b[39m=\u001b[39mkeep_in_memory, storage_options\u001b[39m=\u001b[39mstorage_options)\n",
      "\u001b[0;31mFileNotFoundError\u001b[0m: Directory /home/andreas/Polybox/Project-Support-Material/Thesis/data/processed/active-learning-iteration-2 not found"
     ]
    }
   ],
   "source": [
    "import sys\n",
    "import datasets\n",
    "from dotenv import dotenv_values\n",
    "from pathlib import Path\n",
    "\n",
    "config = dotenv_values(\"./../../config/.env\") # take environment variables from .env.\n",
    "base_path = Path(config[\"BASE_PATH\"])\n",
    "sys.path.append(str(base_path/\"code\"))\n",
    "from ZeDiAc.Annotators import ActiveAnnotator\n",
    "\n",
    "iteration = 2\n",
    "\n",
    "data = datasets.load_from_disk(base_path/f\"data/processed/active-learning-iteration-{iteration}\")"
   ]
  },
  {
   "cell_type": "code",
   "execution_count": 2,
   "metadata": {},
   "outputs": [],
   "source": [
    "import itertools\n",
    "import pandas as pd\n",
    "from dotenv import dotenv_values\n",
    "from pathlib import Path\n",
    "\n",
    "config = dotenv_values(\"./../../config/.env\") # take environment variables from .env.\n",
    "base_path = Path(config[\"BASE_PATH\"])\n"
   ]
  },
  {
   "cell_type": "code",
   "execution_count": 3,
   "metadata": {},
   "outputs": [],
   "source": [
    "annotations = pd.read_pickle(base_path/\"data/labeling/Eval-LLMs.pkl\")"
   ]
  },
  {
   "cell_type": "code",
   "execution_count": 5,
   "metadata": {},
   "outputs": [
    {
     "data": {
      "text/plain": [
       "2766"
      ]
     },
     "execution_count": 5,
     "metadata": {},
     "output_type": "execute_result"
    }
   ],
   "source": [
    "annotations.shape[0]"
   ]
  },
  {
   "cell_type": "code",
   "execution_count": 14,
   "metadata": {},
   "outputs": [
    {
     "data": {
      "text/plain": [
       "7"
      ]
     },
     "execution_count": 14,
     "metadata": {},
     "output_type": "execute_result"
    }
   ],
   "source": [
    "annotations.report_id.unique().shape[0]"
   ]
  },
  {
   "cell_type": "code",
   "execution_count": 16,
   "metadata": {},
   "outputs": [
    {
     "data": {
      "text/html": [
       "<div>\n",
       "<style scoped>\n",
       "    .dataframe tbody tr th:only-of-type {\n",
       "        vertical-align: middle;\n",
       "    }\n",
       "\n",
       "    .dataframe tbody tr th {\n",
       "        vertical-align: top;\n",
       "    }\n",
       "\n",
       "    .dataframe thead th {\n",
       "        text-align: right;\n",
       "    }\n",
       "</style>\n",
       "<table border=\"1\" class=\"dataframe\">\n",
       "  <thead>\n",
       "    <tr style=\"text-align: right;\">\n",
       "      <th></th>\n",
       "      <th>report_id</th>\n",
       "      <th>paragraph_nr</th>\n",
       "      <th>text</th>\n",
       "      <th>n_words</th>\n",
       "      <th>labeled</th>\n",
       "      <th>cohere_loss</th>\n",
       "      <th>cohere_unexpected</th>\n",
       "      <th>openai_loss</th>\n",
       "      <th>openai_unexpected</th>\n",
       "    </tr>\n",
       "  </thead>\n",
       "  <tbody>\n",
       "    <tr>\n",
       "      <th>345824</th>\n",
       "      <td>3585</td>\n",
       "      <td>513</td>\n",
       "      <td>The corporate headquarters of the Company is l...</td>\n",
       "      <td>42</td>\n",
       "      <td>True</td>\n",
       "      <td>False</td>\n",
       "      <td>False</td>\n",
       "      <td>NaN</td>\n",
       "      <td>NaN</td>\n",
       "    </tr>\n",
       "    <tr>\n",
       "      <th>345825</th>\n",
       "      <td>3585</td>\n",
       "      <td>530</td>\n",
       "      <td>The Company reported net income of $.3 million...</td>\n",
       "      <td>108</td>\n",
       "      <td>True</td>\n",
       "      <td>True</td>\n",
       "      <td>False</td>\n",
       "      <td>NaN</td>\n",
       "      <td>NaN</td>\n",
       "    </tr>\n",
       "    <tr>\n",
       "      <th>345826</th>\n",
       "      <td>3585</td>\n",
       "      <td>531</td>\n",
       "      <td>Contributing factors towards the Company’s 200...</td>\n",
       "      <td>176</td>\n",
       "      <td>True</td>\n",
       "      <td>True</td>\n",
       "      <td>False</td>\n",
       "      <td>NaN</td>\n",
       "      <td>NaN</td>\n",
       "    </tr>\n",
       "    <tr>\n",
       "      <th>345827</th>\n",
       "      <td>3585</td>\n",
       "      <td>534</td>\n",
       "      <td>Gross premiums written for the year ended Dece...</td>\n",
       "      <td>238</td>\n",
       "      <td>True</td>\n",
       "      <td>True</td>\n",
       "      <td>False</td>\n",
       "      <td>NaN</td>\n",
       "      <td>NaN</td>\n",
       "    </tr>\n",
       "    <tr>\n",
       "      <th>345828</th>\n",
       "      <td>3585</td>\n",
       "      <td>535</td>\n",
       "      <td>Premiums written refers to the total amount of...</td>\n",
       "      <td>139</td>\n",
       "      <td>True</td>\n",
       "      <td>False</td>\n",
       "      <td>False</td>\n",
       "      <td>NaN</td>\n",
       "      <td>NaN</td>\n",
       "    </tr>\n",
       "    <tr>\n",
       "      <th>...</th>\n",
       "      <td>...</td>\n",
       "      <td>...</td>\n",
       "      <td>...</td>\n",
       "      <td>...</td>\n",
       "      <td>...</td>\n",
       "      <td>...</td>\n",
       "      <td>...</td>\n",
       "      <td>...</td>\n",
       "      <td>...</td>\n",
       "    </tr>\n",
       "    <tr>\n",
       "      <th>1150793</th>\n",
       "      <td>BeazleyPLC-AR_2017</td>\n",
       "      <td>2301</td>\n",
       "      <td>Sidecar special purpose syndicate Specialty re...</td>\n",
       "      <td>67</td>\n",
       "      <td>False</td>\n",
       "      <td>None</td>\n",
       "      <td>None</td>\n",
       "      <td>NaN</td>\n",
       "      <td>NaN</td>\n",
       "    </tr>\n",
       "    <tr>\n",
       "      <th>1150794</th>\n",
       "      <td>BeazleyPLC-AR_2017</td>\n",
       "      <td>2305</td>\n",
       "      <td>Total shareholder return (TSR) The increase in...</td>\n",
       "      <td>25</td>\n",
       "      <td>False</td>\n",
       "      <td>None</td>\n",
       "      <td>None</td>\n",
       "      <td>NaN</td>\n",
       "      <td>NaN</td>\n",
       "    </tr>\n",
       "    <tr>\n",
       "      <th>1150795</th>\n",
       "      <td>BeazleyPLC-AR_2017</td>\n",
       "      <td>2307</td>\n",
       "      <td>Unearned premiums reserve The portion of premi...</td>\n",
       "      <td>25</td>\n",
       "      <td>False</td>\n",
       "      <td>None</td>\n",
       "      <td>None</td>\n",
       "      <td>NaN</td>\n",
       "      <td>NaN</td>\n",
       "    </tr>\n",
       "    <tr>\n",
       "      <th>1150796</th>\n",
       "      <td>BeazleyPLC-AR_2017</td>\n",
       "      <td>2309</td>\n",
       "      <td>If you have finished reading this report and n...</td>\n",
       "      <td>31</td>\n",
       "      <td>False</td>\n",
       "      <td>None</td>\n",
       "      <td>None</td>\n",
       "      <td>NaN</td>\n",
       "      <td>NaN</td>\n",
       "    </tr>\n",
       "    <tr>\n",
       "      <th>1150797</th>\n",
       "      <td>BeazleyPLC-AR_2017</td>\n",
       "      <td>2311</td>\n",
       "      <td>Beazley plc Plantation Place South 60 Great To...</td>\n",
       "      <td>14</td>\n",
       "      <td>False</td>\n",
       "      <td>None</td>\n",
       "      <td>None</td>\n",
       "      <td>NaN</td>\n",
       "      <td>NaN</td>\n",
       "    </tr>\n",
       "  </tbody>\n",
       "</table>\n",
       "<p>2766 rows × 9 columns</p>\n",
       "</div>"
      ],
      "text/plain": [
       "                  report_id  paragraph_nr  \\\n",
       "345824                 3585           513   \n",
       "345825                 3585           530   \n",
       "345826                 3585           531   \n",
       "345827                 3585           534   \n",
       "345828                 3585           535   \n",
       "...                     ...           ...   \n",
       "1150793  BeazleyPLC-AR_2017          2301   \n",
       "1150794  BeazleyPLC-AR_2017          2305   \n",
       "1150795  BeazleyPLC-AR_2017          2307   \n",
       "1150796  BeazleyPLC-AR_2017          2309   \n",
       "1150797  BeazleyPLC-AR_2017          2311   \n",
       "\n",
       "                                                      text  n_words  labeled  \\\n",
       "345824   The corporate headquarters of the Company is l...       42     True   \n",
       "345825   The Company reported net income of $.3 million...      108     True   \n",
       "345826   Contributing factors towards the Company’s 200...      176     True   \n",
       "345827   Gross premiums written for the year ended Dece...      238     True   \n",
       "345828   Premiums written refers to the total amount of...      139     True   \n",
       "...                                                    ...      ...      ...   \n",
       "1150793  Sidecar special purpose syndicate Specialty re...       67    False   \n",
       "1150794  Total shareholder return (TSR) The increase in...       25    False   \n",
       "1150795  Unearned premiums reserve The portion of premi...       25    False   \n",
       "1150796  If you have finished reading this report and n...       31    False   \n",
       "1150797  Beazley plc Plantation Place South 60 Great To...       14    False   \n",
       "\n",
       "        cohere_loss cohere_unexpected openai_loss openai_unexpected  \n",
       "345824        False             False         NaN               NaN  \n",
       "345825         True             False         NaN               NaN  \n",
       "345826         True             False         NaN               NaN  \n",
       "345827         True             False         NaN               NaN  \n",
       "345828        False             False         NaN               NaN  \n",
       "...             ...               ...         ...               ...  \n",
       "1150793        None              None         NaN               NaN  \n",
       "1150794        None              None         NaN               NaN  \n",
       "1150795        None              None         NaN               NaN  \n",
       "1150796        None              None         NaN               NaN  \n",
       "1150797        None              None         NaN               NaN  \n",
       "\n",
       "[2766 rows x 9 columns]"
      ]
     },
     "execution_count": 16,
     "metadata": {},
     "output_type": "execute_result"
    }
   ],
   "source": [
    "annotations"
   ]
  },
  {
   "cell_type": "code",
   "execution_count": 4,
   "metadata": {},
   "outputs": [
    {
     "data": {
      "text/html": [
       "<div>\n",
       "<style scoped>\n",
       "    .dataframe tbody tr th:only-of-type {\n",
       "        vertical-align: middle;\n",
       "    }\n",
       "\n",
       "    .dataframe tbody tr th {\n",
       "        vertical-align: top;\n",
       "    }\n",
       "\n",
       "    .dataframe thead th {\n",
       "        text-align: right;\n",
       "    }\n",
       "</style>\n",
       "<table border=\"1\" class=\"dataframe\">\n",
       "  <thead>\n",
       "    <tr style=\"text-align: right;\">\n",
       "      <th></th>\n",
       "      <th>paragraph_nr</th>\n",
       "      <th>text</th>\n",
       "      <th>n_words</th>\n",
       "      <th>labeled</th>\n",
       "      <th>cohere_loss</th>\n",
       "      <th>cohere_unexpected</th>\n",
       "      <th>openai_loss</th>\n",
       "      <th>openai_unexpected</th>\n",
       "    </tr>\n",
       "    <tr>\n",
       "      <th>report_id</th>\n",
       "      <th></th>\n",
       "      <th></th>\n",
       "      <th></th>\n",
       "      <th></th>\n",
       "      <th></th>\n",
       "      <th></th>\n",
       "      <th></th>\n",
       "      <th></th>\n",
       "    </tr>\n",
       "  </thead>\n",
       "  <tbody>\n",
       "    <tr>\n",
       "      <th>3585</th>\n",
       "      <td>39</td>\n",
       "      <td>39</td>\n",
       "      <td>39</td>\n",
       "      <td>39</td>\n",
       "      <td>39</td>\n",
       "      <td>39</td>\n",
       "      <td>0</td>\n",
       "      <td>0</td>\n",
       "    </tr>\n",
       "    <tr>\n",
       "      <th>3935</th>\n",
       "      <td>1</td>\n",
       "      <td>1</td>\n",
       "      <td>1</td>\n",
       "      <td>1</td>\n",
       "      <td>1</td>\n",
       "      <td>1</td>\n",
       "      <td>0</td>\n",
       "      <td>0</td>\n",
       "    </tr>\n",
       "    <tr>\n",
       "      <th>4123</th>\n",
       "      <td>157</td>\n",
       "      <td>157</td>\n",
       "      <td>157</td>\n",
       "      <td>157</td>\n",
       "      <td>157</td>\n",
       "      <td>157</td>\n",
       "      <td>0</td>\n",
       "      <td>0</td>\n",
       "    </tr>\n",
       "    <tr>\n",
       "      <th>5110</th>\n",
       "      <td>382</td>\n",
       "      <td>382</td>\n",
       "      <td>382</td>\n",
       "      <td>382</td>\n",
       "      <td>382</td>\n",
       "      <td>382</td>\n",
       "      <td>0</td>\n",
       "      <td>0</td>\n",
       "    </tr>\n",
       "    <tr>\n",
       "      <th>5407</th>\n",
       "      <td>184</td>\n",
       "      <td>184</td>\n",
       "      <td>184</td>\n",
       "      <td>184</td>\n",
       "      <td>184</td>\n",
       "      <td>184</td>\n",
       "      <td>0</td>\n",
       "      <td>0</td>\n",
       "    </tr>\n",
       "    <tr>\n",
       "      <th>BaloiseHoldingLtd-AR_2015</th>\n",
       "      <td>934</td>\n",
       "      <td>934</td>\n",
       "      <td>934</td>\n",
       "      <td>934</td>\n",
       "      <td>934</td>\n",
       "      <td>934</td>\n",
       "      <td>0</td>\n",
       "      <td>0</td>\n",
       "    </tr>\n",
       "    <tr>\n",
       "      <th>BeazleyPLC-AR_2017</th>\n",
       "      <td>1069</td>\n",
       "      <td>1069</td>\n",
       "      <td>1069</td>\n",
       "      <td>1069</td>\n",
       "      <td>886</td>\n",
       "      <td>886</td>\n",
       "      <td>0</td>\n",
       "      <td>0</td>\n",
       "    </tr>\n",
       "  </tbody>\n",
       "</table>\n",
       "</div>"
      ],
      "text/plain": [
       "                           paragraph_nr  text  n_words  labeled  cohere_loss  \\\n",
       "report_id                                                                      \n",
       "3585                                 39    39       39       39           39   \n",
       "3935                                  1     1        1        1            1   \n",
       "4123                                157   157      157      157          157   \n",
       "5110                                382   382      382      382          382   \n",
       "5407                                184   184      184      184          184   \n",
       "BaloiseHoldingLtd-AR_2015           934   934      934      934          934   \n",
       "BeazleyPLC-AR_2017                 1069  1069     1069     1069          886   \n",
       "\n",
       "                           cohere_unexpected  openai_loss  openai_unexpected  \n",
       "report_id                                                                     \n",
       "3585                                      39            0                  0  \n",
       "3935                                       1            0                  0  \n",
       "4123                                     157            0                  0  \n",
       "5110                                     382            0                  0  \n",
       "5407                                     184            0                  0  \n",
       "BaloiseHoldingLtd-AR_2015                934            0                  0  \n",
       "BeazleyPLC-AR_2017                       886            0                  0  "
      ]
     },
     "execution_count": 4,
     "metadata": {},
     "output_type": "execute_result"
    }
   ],
   "source": [
    "annotations.groupby([\"report_id\"]).count()"
   ]
  },
  {
   "cell_type": "code",
   "execution_count": 6,
   "metadata": {},
   "outputs": [
    {
     "data": {
      "text/plain": [
       "2583"
      ]
     },
     "execution_count": 6,
     "metadata": {},
     "output_type": "execute_result"
    }
   ],
   "source": [
    "annotations.labeled.sum()"
   ]
  },
  {
   "cell_type": "code",
   "execution_count": 13,
   "metadata": {},
   "outputs": [
    {
     "name": "stdout",
     "output_type": "stream",
     "text": [
      "261\n"
     ]
    },
    {
     "data": {
      "text/plain": [
       "151"
      ]
     },
     "execution_count": 13,
     "metadata": {},
     "output_type": "execute_result"
    }
   ],
   "source": [
    "print(annotations.cohere_loss.apply(lambda x: x == \"True\").sum())\n",
    "annotations.cohere_unexpected.apply(lambda x: x == \"True\").sum()"
   ]
  },
  {
   "cell_type": "code",
   "execution_count": 7,
   "metadata": {},
   "outputs": [
    {
     "name": "stderr",
     "output_type": "stream",
     "text": [
      "/tmp/ipykernel_6706/639203395.py:4: SettingWithCopyWarning: \n",
      "A value is trying to be set on a copy of a slice from a DataFrame.\n",
      "Try using .loc[row_indexer,col_indexer] = value instead\n",
      "\n",
      "See the caveats in the documentation: https://pandas.pydata.org/pandas-docs/stable/user_guide/indexing.html#returning-a-view-versus-a-copy\n",
      "  df_l[\"sampling-strategy\"] = df_l.strategy.apply(lambda x: \"least confidence\" if x.split(\"_\")[0] == \"lc\" else \"$\\mathcal{F}_{+}$\")\n",
      "/tmp/ipykernel_6706/639203395.py:5: SettingWithCopyWarning: \n",
      "A value is trying to be set on a copy of a slice from a DataFrame.\n",
      "Try using .loc[row_indexer,col_indexer] = value instead\n",
      "\n",
      "See the caveats in the documentation: https://pandas.pydata.org/pandas-docs/stable/user_guide/indexing.html#returning-a-view-versus-a-copy\n",
      "  df_l[\"class\"] = df_l.strategy.apply(lambda x: x.split(\"_\")[1] if x.split(\"_\")[0] == \"lc\" else x.split(\"_\")[2])\n",
      "/tmp/ipykernel_6706/639203395.py:6: SettingWithCopyWarning: \n",
      "A value is trying to be set on a copy of a slice from a DataFrame.\n",
      "Try using .loc[row_indexer,col_indexer] = value instead\n",
      "\n",
      "See the caveats in the documentation: https://pandas.pydata.org/pandas-docs/stable/user_guide/indexing.html#returning-a-view-versus-a-copy\n",
      "  df_l[\"iteration\"] = df_l.strategy.apply(lambda x: int(x.split(\"_\")[-1])+1 if len(x.split(\"_\")) > 3 else 1)\n"
     ]
    },
    {
     "name": "stdout",
     "output_type": "stream",
     "text": [
      "\\input{tables/active-learning-stats/sampling-strategy.tex}\n",
      "\\input{tables/active-learning-stats/iteration.tex}\n",
      "\\input{tables/active-learning-stats/class.tex}\n",
      "\\input{tables/active-learning-stats/sampling-strategy_iteration.tex}\n",
      "\\input{tables/active-learning-stats/sampling-strategy_class.tex}\n",
      "\\input{tables/active-learning-stats/iteration_sampling-strategy.tex}\n",
      "\\input{tables/active-learning-stats/iteration_class.tex}\n",
      "\\input{tables/active-learning-stats/class_sampling-strategy.tex}\n",
      "\\input{tables/active-learning-stats/class_iteration.tex}\n",
      "\\input{tables/active-learning-stats/sampling-strategy_iteration_class.tex}\n",
      "\\input{tables/active-learning-stats/sampling-strategy_class_iteration.tex}\n",
      "\\input{tables/active-learning-stats/iteration_sampling-strategy_class.tex}\n",
      "\\input{tables/active-learning-stats/iteration_class_sampling-strategy.tex}\n"
     ]
    },
    {
     "name": "stderr",
     "output_type": "stream",
     "text": [
      "/home/andreas/Polybox/Project-Support-Material/Thesis/.venv/lib/python3.10/site-packages/pandas/core/groupby/ops.py:591: RuntimeWarning: overflow encountered in scalar add\n",
      "  func(\n"
     ]
    },
    {
     "name": "stdout",
     "output_type": "stream",
     "text": [
      "\\input{tables/active-learning-stats/class_sampling-strategy_iteration.tex}\n",
      "\\input{tables/active-learning-stats/class_iteration_sampling-strategy.tex}\n"
     ]
    }
   ],
   "source": [
    "\n",
    "df = pd.read_pickle(base_path/\"data/labeling/active-learning-iteration-2.pkl\")\n",
    "df_l = df[df.labeled]\n",
    "df_l.strategy.value_counts()\n",
    "df_l[\"sampling-strategy\"] = df_l.strategy.apply(lambda x: \"least confidence\" if x.split(\"_\")[0] == \"lc\" else \"$\\mathcal{F}_{+}$\")\n",
    "df_l[\"class\"] = df_l.strategy.apply(lambda x: x.split(\"_\")[1] if x.split(\"_\")[0] == \"lc\" else x.split(\"_\")[2])\n",
    "df_l[\"iteration\"] = df_l.strategy.apply(lambda x: int(x.split(\"_\")[-1])+1 if len(x.split(\"_\")) > 3 else 1)\n",
    "\n",
    "table_path = base_path/\"writing\"/\"MSc-Thesis-Emerging-Risks\"/\"tables\"/\"active-learning-stats\"\n",
    "groups = [\"sampling-strategy\", \"iteration\", \"class\"]\n",
    "for i in range(len(groups)):\n",
    "    for g in list(itertools.permutations(groups, i+1)):\n",
    "        g = list(g)\n",
    "        if i == 0:\n",
    "            capt = \"Overview of active-learning samples grouped by \"+\", \".join(g)+\".\",\n",
    "        else:\n",
    "            capt = \"Overview of active-learning samples grouped by \"+\", \".join(g[:-1])+\" and \"+ g[-1]+\".\",\n",
    "        t = df_l.groupby(g).agg({\"labeled\": \"count\", \"loss\": \"sum\", \"unexpected\": \"sum\"}).rename(columns={\"labeled\": \"count\"})\n",
    "        t.loss = t.loss.astype(str) + t.loss.div(t[\"count\"]).mul(100).apply(lambda x: f\"\"\" ({x:.1f} \\\\%)\"\"\")\n",
    "        t.unexpected = t.unexpected.astype(str) + t.unexpected.div(t[\"count\"]).mul(100).apply(lambda x: f\"\"\" ({x:.1f} \\\\%)\"\"\")\n",
    "        t.rename(columns={\"labeled\": \"count\"}).style.format().to_latex(\n",
    "            table_path/str(\"_\".join(g)+\".tex\"),\n",
    "            position=\"H\",\n",
    "            caption=capt[0],\n",
    "            label=\"tab:al_overview_\"+\"_\".join(g),\n",
    "            environment=\"longtable\",\n",
    "            sparse_index=True,\n",
    "            sparse_columns=True,\n",
    "            hrules=True)\n",
    "        print(\"\\input{tables/active-learning-stats/\"+\"_\".join(g)+\".tex}\")\n"
   ]
  },
  {
   "cell_type": "code",
   "execution_count": 50,
   "metadata": {},
   "outputs": [
    {
     "name": "stdout",
     "output_type": "stream",
     "text": [
      "\\input{tables/active-learning-stats/sampling-strategy.tex}\n",
      "\\input{tables/active-learning-stats/iteration.tex}\n",
      "\\input{tables/active-learning-stats/class.tex}\n",
      "\\input{tables/active-learning-stats/sampling-strategy_iteration.tex}\n",
      "\\input{tables/active-learning-stats/sampling-strategy_class.tex}\n",
      "\\input{tables/active-learning-stats/iteration_sampling-strategy.tex}\n",
      "\\input{tables/active-learning-stats/iteration_class.tex}\n",
      "\\input{tables/active-learning-stats/class_sampling-strategy.tex}\n",
      "\\input{tables/active-learning-stats/class_iteration.tex}\n",
      "\\input{tables/active-learning-stats/sampling-strategy_iteration_class.tex}\n",
      "\\input{tables/active-learning-stats/sampling-strategy_class_iteration.tex}\n",
      "\\input{tables/active-learning-stats/iteration_sampling-strategy_class.tex}\n",
      "\\input{tables/active-learning-stats/iteration_class_sampling-strategy.tex}\n",
      "\\input{tables/active-learning-stats/class_sampling-strategy_iteration.tex}\n",
      "\\input{tables/active-learning-stats/class_iteration_sampling-strategy.tex}\n"
     ]
    },
    {
     "name": "stderr",
     "output_type": "stream",
     "text": [
      "/home/andreas/Polybox/Project-Support-Material/Thesis/.venv/lib/python3.10/site-packages/pandas/core/groupby/ops.py:591: RuntimeWarning: overflow encountered in scalar add\n",
      "  func(\n"
     ]
    }
   ],
   "source": []
  },
  {
   "cell_type": "code",
   "execution_count": null,
   "metadata": {},
   "outputs": [],
   "source": [
    "\n",
    "\n",
    "    print(df_l.groupby(group).agg({\"labeled\": \"count\", \"loss\": \"sum\", \"unexpected\": \"sum\"}).rename(columns={\"labeled\": \"count\"}))\n",
    "\n",
    "df_l.groupby([\"sampling-strategy\"]).agg({\"labeled\": \"count\", \"loss\": \"sum\", \"unexpected\": \"sum\"}).rename(columns={\"labeled\": \"count\"})"
   ]
  },
  {
   "cell_type": "code",
   "execution_count": 22,
   "metadata": {},
   "outputs": [
    {
     "data": {
      "text/html": [
       "<div>\n",
       "<style scoped>\n",
       "    .dataframe tbody tr th:only-of-type {\n",
       "        vertical-align: middle;\n",
       "    }\n",
       "\n",
       "    .dataframe tbody tr th {\n",
       "        vertical-align: top;\n",
       "    }\n",
       "\n",
       "    .dataframe thead th {\n",
       "        text-align: right;\n",
       "    }\n",
       "</style>\n",
       "<table border=\"1\" class=\"dataframe\">\n",
       "  <thead>\n",
       "    <tr style=\"text-align: right;\">\n",
       "      <th></th>\n",
       "      <th></th>\n",
       "      <th>labeled</th>\n",
       "      <th>loss</th>\n",
       "      <th>unexpected</th>\n",
       "    </tr>\n",
       "    <tr>\n",
       "      <th>iteration</th>\n",
       "      <th>class</th>\n",
       "      <th></th>\n",
       "      <th></th>\n",
       "      <th></th>\n",
       "    </tr>\n",
       "  </thead>\n",
       "  <tbody>\n",
       "    <tr>\n",
       "      <th rowspan=\"2\" valign=\"top\">1</th>\n",
       "      <th>loss</th>\n",
       "      <td>200</td>\n",
       "      <td>113</td>\n",
       "      <td>4</td>\n",
       "    </tr>\n",
       "    <tr>\n",
       "      <th>unexpected</th>\n",
       "      <td>300</td>\n",
       "      <td>54</td>\n",
       "      <td>34</td>\n",
       "    </tr>\n",
       "    <tr>\n",
       "      <th rowspan=\"2\" valign=\"top\">2</th>\n",
       "      <th>loss</th>\n",
       "      <td>250</td>\n",
       "      <td>69</td>\n",
       "      <td>5</td>\n",
       "    </tr>\n",
       "    <tr>\n",
       "      <th>unexpected</th>\n",
       "      <td>250</td>\n",
       "      <td>50</td>\n",
       "      <td>57</td>\n",
       "    </tr>\n",
       "    <tr>\n",
       "      <th rowspan=\"2\" valign=\"top\">3</th>\n",
       "      <th>loss</th>\n",
       "      <td>150</td>\n",
       "      <td>81</td>\n",
       "      <td>4</td>\n",
       "    </tr>\n",
       "    <tr>\n",
       "      <th>unexpected</th>\n",
       "      <td>350</td>\n",
       "      <td>84</td>\n",
       "      <td>79</td>\n",
       "    </tr>\n",
       "  </tbody>\n",
       "</table>\n",
       "</div>"
      ],
      "text/plain": [
       "                      labeled loss unexpected\n",
       "iteration class                              \n",
       "1         loss            200  113          4\n",
       "          unexpected      300   54         34\n",
       "2         loss            250   69          5\n",
       "          unexpected      250   50         57\n",
       "3         loss            150   81          4\n",
       "          unexpected      350   84         79"
      ]
     },
     "execution_count": 22,
     "metadata": {},
     "output_type": "execute_result"
    }
   ],
   "source": [
    "df_l.groupby([\"iteration\", \"class\"]).agg({\"labeled\": \"count\", \"loss\": \"sum\", \"unexpected\": \"sum\"})"
   ]
  },
  {
   "cell_type": "code",
   "execution_count": 23,
   "metadata": {},
   "outputs": [
    {
     "data": {
      "text/html": [
       "<div>\n",
       "<style scoped>\n",
       "    .dataframe tbody tr th:only-of-type {\n",
       "        vertical-align: middle;\n",
       "    }\n",
       "\n",
       "    .dataframe tbody tr th {\n",
       "        vertical-align: top;\n",
       "    }\n",
       "\n",
       "    .dataframe thead th {\n",
       "        text-align: right;\n",
       "    }\n",
       "</style>\n",
       "<table border=\"1\" class=\"dataframe\">\n",
       "  <thead>\n",
       "    <tr style=\"text-align: right;\">\n",
       "      <th></th>\n",
       "      <th></th>\n",
       "      <th></th>\n",
       "      <th>labeled</th>\n",
       "      <th>loss</th>\n",
       "      <th>unexpected</th>\n",
       "    </tr>\n",
       "    <tr>\n",
       "      <th>sampling</th>\n",
       "      <th>iteration</th>\n",
       "      <th>class</th>\n",
       "      <th></th>\n",
       "      <th></th>\n",
       "      <th></th>\n",
       "    </tr>\n",
       "  </thead>\n",
       "  <tbody>\n",
       "    <tr>\n",
       "      <th rowspan=\"6\" valign=\"top\">F+</th>\n",
       "      <th rowspan=\"2\" valign=\"top\">1</th>\n",
       "      <th>loss</th>\n",
       "      <td>100</td>\n",
       "      <td>95</td>\n",
       "      <td>3</td>\n",
       "    </tr>\n",
       "    <tr>\n",
       "      <th>unexpected</th>\n",
       "      <td>100</td>\n",
       "      <td>27</td>\n",
       "      <td>26</td>\n",
       "    </tr>\n",
       "    <tr>\n",
       "      <th rowspan=\"2\" valign=\"top\">2</th>\n",
       "      <th>loss</th>\n",
       "      <td>50</td>\n",
       "      <td>36</td>\n",
       "      <td>4</td>\n",
       "    </tr>\n",
       "    <tr>\n",
       "      <th>unexpected</th>\n",
       "      <td>50</td>\n",
       "      <td>13</td>\n",
       "      <td>20</td>\n",
       "    </tr>\n",
       "    <tr>\n",
       "      <th rowspan=\"2\" valign=\"top\">3</th>\n",
       "      <th>loss</th>\n",
       "      <td>50</td>\n",
       "      <td>49</td>\n",
       "      <td>1</td>\n",
       "    </tr>\n",
       "    <tr>\n",
       "      <th>unexpected</th>\n",
       "      <td>100</td>\n",
       "      <td>28</td>\n",
       "      <td>46</td>\n",
       "    </tr>\n",
       "    <tr>\n",
       "      <th rowspan=\"6\" valign=\"top\">least confidence</th>\n",
       "      <th rowspan=\"2\" valign=\"top\">1</th>\n",
       "      <th>loss</th>\n",
       "      <td>100</td>\n",
       "      <td>18</td>\n",
       "      <td>1</td>\n",
       "    </tr>\n",
       "    <tr>\n",
       "      <th>unexpected</th>\n",
       "      <td>200</td>\n",
       "      <td>27</td>\n",
       "      <td>8</td>\n",
       "    </tr>\n",
       "    <tr>\n",
       "      <th rowspan=\"2\" valign=\"top\">2</th>\n",
       "      <th>loss</th>\n",
       "      <td>200</td>\n",
       "      <td>33</td>\n",
       "      <td>1</td>\n",
       "    </tr>\n",
       "    <tr>\n",
       "      <th>unexpected</th>\n",
       "      <td>200</td>\n",
       "      <td>37</td>\n",
       "      <td>37</td>\n",
       "    </tr>\n",
       "    <tr>\n",
       "      <th rowspan=\"2\" valign=\"top\">3</th>\n",
       "      <th>loss</th>\n",
       "      <td>100</td>\n",
       "      <td>32</td>\n",
       "      <td>3</td>\n",
       "    </tr>\n",
       "    <tr>\n",
       "      <th>unexpected</th>\n",
       "      <td>250</td>\n",
       "      <td>56</td>\n",
       "      <td>33</td>\n",
       "    </tr>\n",
       "  </tbody>\n",
       "</table>\n",
       "</div>"
      ],
      "text/plain": [
       "                                       labeled loss unexpected\n",
       "sampling         iteration class                              \n",
       "F+               1         loss            100   95          3\n",
       "                           unexpected      100   27         26\n",
       "                 2         loss             50   36          4\n",
       "                           unexpected       50   13         20\n",
       "                 3         loss             50   49          1\n",
       "                           unexpected      100   28         46\n",
       "least confidence 1         loss            100   18          1\n",
       "                           unexpected      200   27          8\n",
       "                 2         loss            200   33          1\n",
       "                           unexpected      200   37         37\n",
       "                 3         loss            100   32          3\n",
       "                           unexpected      250   56         33"
      ]
     },
     "execution_count": 23,
     "metadata": {},
     "output_type": "execute_result"
    }
   ],
   "source": [
    "df_l.groupby([\"sampling\", \"iteration\", \"class\"]).agg({\"labeled\": \"count\", \"loss\": \"sum\", \"unexpected\": \"sum\"})"
   ]
  },
  {
   "cell_type": "code",
   "execution_count": 21,
   "metadata": {},
   "outputs": [
    {
     "data": {
      "text/html": [
       "<div>\n",
       "<style scoped>\n",
       "    .dataframe tbody tr th:only-of-type {\n",
       "        vertical-align: middle;\n",
       "    }\n",
       "\n",
       "    .dataframe tbody tr th {\n",
       "        vertical-align: top;\n",
       "    }\n",
       "\n",
       "    .dataframe thead th {\n",
       "        text-align: right;\n",
       "    }\n",
       "</style>\n",
       "<table border=\"1\" class=\"dataframe\">\n",
       "  <thead>\n",
       "    <tr style=\"text-align: right;\">\n",
       "      <th></th>\n",
       "      <th></th>\n",
       "      <th></th>\n",
       "      <th>labeled</th>\n",
       "      <th>loss</th>\n",
       "      <th>unexpected</th>\n",
       "    </tr>\n",
       "    <tr>\n",
       "      <th>class</th>\n",
       "      <th>iteration</th>\n",
       "      <th>sampling</th>\n",
       "      <th></th>\n",
       "      <th></th>\n",
       "      <th></th>\n",
       "    </tr>\n",
       "  </thead>\n",
       "  <tbody>\n",
       "    <tr>\n",
       "      <th rowspan=\"6\" valign=\"top\">loss</th>\n",
       "      <th rowspan=\"2\" valign=\"top\">1</th>\n",
       "      <th>F+</th>\n",
       "      <td>100</td>\n",
       "      <td>95</td>\n",
       "      <td>3</td>\n",
       "    </tr>\n",
       "    <tr>\n",
       "      <th>least confidence</th>\n",
       "      <td>100</td>\n",
       "      <td>18</td>\n",
       "      <td>1</td>\n",
       "    </tr>\n",
       "    <tr>\n",
       "      <th rowspan=\"2\" valign=\"top\">2</th>\n",
       "      <th>F+</th>\n",
       "      <td>50</td>\n",
       "      <td>36</td>\n",
       "      <td>4</td>\n",
       "    </tr>\n",
       "    <tr>\n",
       "      <th>least confidence</th>\n",
       "      <td>200</td>\n",
       "      <td>33</td>\n",
       "      <td>1</td>\n",
       "    </tr>\n",
       "    <tr>\n",
       "      <th rowspan=\"2\" valign=\"top\">3</th>\n",
       "      <th>F+</th>\n",
       "      <td>50</td>\n",
       "      <td>49</td>\n",
       "      <td>1</td>\n",
       "    </tr>\n",
       "    <tr>\n",
       "      <th>least confidence</th>\n",
       "      <td>100</td>\n",
       "      <td>32</td>\n",
       "      <td>3</td>\n",
       "    </tr>\n",
       "    <tr>\n",
       "      <th rowspan=\"6\" valign=\"top\">unexpected</th>\n",
       "      <th rowspan=\"2\" valign=\"top\">1</th>\n",
       "      <th>F+</th>\n",
       "      <td>100</td>\n",
       "      <td>27</td>\n",
       "      <td>26</td>\n",
       "    </tr>\n",
       "    <tr>\n",
       "      <th>least confidence</th>\n",
       "      <td>200</td>\n",
       "      <td>27</td>\n",
       "      <td>8</td>\n",
       "    </tr>\n",
       "    <tr>\n",
       "      <th rowspan=\"2\" valign=\"top\">2</th>\n",
       "      <th>F+</th>\n",
       "      <td>50</td>\n",
       "      <td>13</td>\n",
       "      <td>20</td>\n",
       "    </tr>\n",
       "    <tr>\n",
       "      <th>least confidence</th>\n",
       "      <td>200</td>\n",
       "      <td>37</td>\n",
       "      <td>37</td>\n",
       "    </tr>\n",
       "    <tr>\n",
       "      <th rowspan=\"2\" valign=\"top\">3</th>\n",
       "      <th>F+</th>\n",
       "      <td>100</td>\n",
       "      <td>28</td>\n",
       "      <td>46</td>\n",
       "    </tr>\n",
       "    <tr>\n",
       "      <th>least confidence</th>\n",
       "      <td>250</td>\n",
       "      <td>56</td>\n",
       "      <td>33</td>\n",
       "    </tr>\n",
       "  </tbody>\n",
       "</table>\n",
       "</div>"
      ],
      "text/plain": [
       "                                       labeled loss unexpected\n",
       "class      iteration sampling                                 \n",
       "loss       1         F+                    100   95          3\n",
       "                     least confidence      100   18          1\n",
       "           2         F+                     50   36          4\n",
       "                     least confidence      200   33          1\n",
       "           3         F+                     50   49          1\n",
       "                     least confidence      100   32          3\n",
       "unexpected 1         F+                    100   27         26\n",
       "                     least confidence      200   27          8\n",
       "           2         F+                     50   13         20\n",
       "                     least confidence      200   37         37\n",
       "           3         F+                    100   28         46\n",
       "                     least confidence      250   56         33"
      ]
     },
     "execution_count": 21,
     "metadata": {},
     "output_type": "execute_result"
    }
   ],
   "source": [
    "df_l.groupby([\"class\", \"iteration\", \"sampling\"]).agg({\"labeled\": \"count\", \"loss\": \"sum\", \"unexpected\": \"sum\"})"
   ]
  },
  {
   "cell_type": "code",
   "execution_count": 48,
   "metadata": {},
   "outputs": [],
   "source": [
    "annotator = ActiveAnnotator(\n",
    "    data = data,\n",
    "    labels = {f\"loss_AL_{iteration}\": \"loss\", f\"unexpected_AL_{iteration}\": \"unexpected\"},\n",
    "    out_file = base_path/f\"data/labeling/active-learning-iteration-{iteration}.pkl\",\n",
    "    text_column = \"text\",\n",
    "    batch_size = 25,\n",
    "    target_label = f\"unexpected_AL_{iteration}\",\n",
    "    target_true_id = 0\n",
    ")"
   ]
  },
  {
   "cell_type": "code",
   "execution_count": null,
   "metadata": {},
   "outputs": [],
   "source": [
    "annotator.label_batch(strategy=\"lc\")"
   ]
  },
  {
   "cell_type": "markdown",
   "metadata": {},
   "source": [
    "Unexpected quirks\n",
    "\n",
    "exceptional != unexpected\n",
    "forward looking statements"
   ]
  },
  {
   "cell_type": "code",
   "execution_count": 74,
   "metadata": {},
   "outputs": [
    {
     "data": {
      "text/plain": [
       "lc_unexpected_AL_2      250\n",
       "lc_unexpected_AL_1      200\n",
       "lc_loss_AL_1            200\n",
       "lc_unexpected           200\n",
       "hc_t_unexpected         100\n",
       "lc_loss                 100\n",
       "hc_t_loss               100\n",
       "lc_loss_AL_2            100\n",
       "hc_t_unexpected_AL_2    100\n",
       "hc_t_loss_AL_1           50\n",
       "hc_t_loss_AL_2           50\n",
       "hc_t_unexpected_AL_1     50\n",
       "Name: strategy, dtype: int64"
      ]
     },
     "execution_count": 74,
     "metadata": {},
     "output_type": "execute_result"
    }
   ],
   "source": [
    "annotator.data.strategy.value_counts()"
   ]
  },
  {
   "cell_type": "code",
   "execution_count": 75,
   "metadata": {},
   "outputs": [
    {
     "data": {
      "text/html": [
       "<div>\n",
       "<style scoped>\n",
       "    .dataframe tbody tr th:only-of-type {\n",
       "        vertical-align: middle;\n",
       "    }\n",
       "\n",
       "    .dataframe tbody tr th {\n",
       "        vertical-align: top;\n",
       "    }\n",
       "\n",
       "    .dataframe thead th {\n",
       "        text-align: right;\n",
       "    }\n",
       "</style>\n",
       "<table border=\"1\" class=\"dataframe\">\n",
       "  <thead>\n",
       "    <tr style=\"text-align: right;\">\n",
       "      <th></th>\n",
       "      <th>loss</th>\n",
       "      <th>unexpected</th>\n",
       "      <th>labeled_examples</th>\n",
       "    </tr>\n",
       "  </thead>\n",
       "  <tbody>\n",
       "    <tr>\n",
       "      <th>count</th>\n",
       "      <td>451</td>\n",
       "      <td>183</td>\n",
       "      <td>1500</td>\n",
       "    </tr>\n",
       "  </tbody>\n",
       "</table>\n",
       "</div>"
      ],
      "text/plain": [
       "      loss unexpected  labeled_examples\n",
       "count  451        183              1500"
      ]
     },
     "execution_count": 75,
     "metadata": {},
     "output_type": "execute_result"
    }
   ],
   "source": [
    "annotator.get_annotations_count_per_label()"
   ]
  },
  {
   "cell_type": "code",
   "execution_count": null,
   "metadata": {},
   "outputs": [],
   "source": [
    "print(\"unexpected\")\n",
    "print((annotator.data.p_unexpected > 0.5).sum())\n",
    "print((annotator.data.p_unexpected_AL_1 > 0.5).sum())\n",
    "print((annotator.data.p_unexpected_AL_2 > 0.5).sum())\n",
    "print(\"loss\")\n",
    "print((annotator.data.p_loss > 0.5).sum())\n",
    "print((annotator.data.p_loss_AL_1 > 0.5).sum())\n",
    "print((annotator.data.p_loss_AL_2 > 0.5).sum())"
   ]
  },
  {
   "cell_type": "code",
   "execution_count": 35,
   "metadata": {},
   "outputs": [
    {
     "name": "stdout",
     "output_type": "stream",
     "text": [
      "1294\n",
      "717\n",
      "301\n"
     ]
    }
   ],
   "source": [
    "print(((annotator.data.p_loss > 0.5)&(annotator.data.p_unexpected > 0.5)).sum())\n",
    "print(((annotator.data.p_loss_AL_1 > 0.5)&(annotator.data.p_unexpected_AL_1 > 0.5)).sum())\n",
    "print(((annotator.data.p_loss_AL_2 > 0.5)&(annotator.data.p_unexpected_AL_2 > 0.5)).sum())"
   ]
  },
  {
   "cell_type": "markdown",
   "metadata": {},
   "source": [
    "# Initialize the labeling pickle for NEW round"
   ]
  },
  {
   "cell_type": "code",
   "execution_count": 24,
   "metadata": {},
   "outputs": [],
   "source": [
    "import datasets\n",
    "import pandas as pd\n",
    "from scipy.special import softmax\n",
    "\n",
    "iteration = 1\n",
    "\n",
    "data_loss = datasets.load_from_disk(base_path/f\"data/processed/loss/active-learning-iteration-{iteration}\")\n",
    "\n",
    "data_unexpected = datasets.load_from_disk(base_path/f\"data/processed/unexpected/active-learning-iteration-{iteration}\")\n",
    "annotations = pd.read_pickle(Path(config[\"BASE_PATH\"])/f\"data/labeling/active-learning-iteration-{iteration-1}.pkl\")\n",
    "\n",
    "df = data_loss.to_pandas().merge(data_unexpected.to_pandas()[[\"report_id\", \"paragraph_nr\", f\"logits_unexpected_AL_{iteration}\"]], on=[\"report_id\", \"paragraph_nr\"])\n",
    "df.drop(columns=[\"input_ids\", \"token_type_ids\", \"attention_mask\", \"text\", \"n_words\", \"filing_type\"], inplace=True)\n",
    "df[f\"p_loss_AL_{iteration}\"] = df[f\"logits_loss_AL_{iteration}\"].apply(lambda x: softmax(x)[0])\n",
    "df[f\"p_unexpected_AL_{iteration}\"] = df[f\"logits_unexpected_AL_{iteration}\"].apply(lambda x: softmax(x)[0])"
   ]
  },
  {
   "cell_type": "markdown",
   "metadata": {},
   "source": [
    "# Be careful with this line as it potentially overwrites already existing labels"
   ]
  },
  {
   "cell_type": "code",
   "execution_count": null,
   "metadata": {},
   "outputs": [],
   "source": [
    "#df.merge(annotations, on=[\"report_id\", \"paragraph_nr\"]).to_pickle(Path(config[\"BASE_PATH\"])/f\"data/labeling/active-learning-iteration-{iteration}.pkl\")"
   ]
  },
  {
   "cell_type": "markdown",
   "metadata": {},
   "source": [
    "# Unbiased Report-Wise Labeling"
   ]
  },
  {
   "cell_type": "code",
   "execution_count": 1,
   "metadata": {},
   "outputs": [],
   "source": [
    "import sys\n",
    "import datasets\n",
    "import pandas as pd\n",
    "import numpy as np\n",
    "from dotenv import dotenv_values\n",
    "from pathlib import Path\n",
    "\n",
    "np.random.seed(19950808)\n",
    "\n",
    "config = dotenv_values(\"./../../config/.env\") # take environment variables from .env.\n",
    "base_path = Path(config[\"BASE_PATH\"])\n",
    "sys.path.append(str(base_path/\"code\"))"
   ]
  },
  {
   "cell_type": "code",
   "execution_count": 2,
   "metadata": {},
   "outputs": [],
   "source": [
    "df_main = pd.read_pickle(base_path/\"data/preprocessed/main.pkl\")\n",
    "df_main.reset_index(inplace=True)\n",
    "df_main.filing_type = df_main.filing_type.apply(lambda x: \"10-K\" if x[:4] == \"10-K\" else x)  # treat all SEC filings the same\n",
    "df_main.year = df_main.year.astype(int)\n",
    "df_main.report_id = df_main.report_id.astype(str)\n",
    "df_main = df_main[df_main.year >= 1993] # Do not use historical Swiss Re Reports for training\n",
    "df = pd.read_pickle(base_path/\"data/preprocessed/paragraphs_clean.pkl\")\n",
    "df.report_id = df.report_id.astype(str)"
   ]
  },
  {
   "cell_type": "code",
   "execution_count": 3,
   "metadata": {},
   "outputs": [],
   "source": [
    "df_zs = datasets.Dataset.load_from_disk(base_path/\"data/preprocessed/dataset/zero-shot\").to_pandas() \n",
    "df_zs[\"labeled\"] = 1.0\n",
    "df_zs[\"strategy\"] = \"zero-shot\"\n",
    "df_al = pd.read_pickle(base_path/\"data/labeling/active-learning-iteration-2.pkl\")\n",
    "df_al = df_al[df_al.labeled == 1.0]\n",
    "df_al[\"strategy\"] = \"active-learning\"\n",
    "df_labeled = pd.concat([df_zs[[\"report_id\", \"paragraph_nr\", \"labeled\", \"strategy\"]], df_al[[\"report_id\", \"paragraph_nr\", \"labeled\", \"strategy\"]]])\n",
    "df_labeled.report_id = df_labeled.report_id.astype(str)"
   ]
  },
  {
   "cell_type": "code",
   "execution_count": 4,
   "metadata": {},
   "outputs": [],
   "source": [
    "df = df.merge(df_labeled, on=[\"report_id\", \"paragraph_nr\"], how=\"left\")\n",
    "df.labeled = df.labeled.apply(lambda x: x if x == 1.0 else 0.0)\n",
    "df.sort_values(by=[\"report_id\", \"paragraph_nr\"], inplace=True)"
   ]
  },
  {
   "cell_type": "code",
   "execution_count": 5,
   "metadata": {},
   "outputs": [],
   "source": [
    "reports_to_label = df_main.groupby(\"filing_type\").sample(5)[\"report_id\"].tolist()"
   ]
  },
  {
   "cell_type": "code",
   "execution_count": 6,
   "metadata": {},
   "outputs": [],
   "source": [
    "df.loc[df.report_id.isin(reports_to_label) & df.labeled.isin([0]), \"labeled\"] = -1"
   ]
  },
  {
   "cell_type": "code",
   "execution_count": 7,
   "metadata": {},
   "outputs": [],
   "source": [
    "df[\"loss\"] = None\n",
    "df[\"unexpected\"] = None\n",
    "df.reset_index(drop=True, inplace=True)\n",
    "df_report_id =df.report_id.astype(str)\n",
    "df = df.merge(df_main.drop(\"filing_type\", axis=1), how =\"left\", on=\"report_id\")"
   ]
  },
  {
   "cell_type": "code",
   "execution_count": 8,
   "metadata": {},
   "outputs": [],
   "source": [
    "df.to_pickle(base_path/\"data/labeling/GT.pkl\")"
   ]
  },
  {
   "cell_type": "code",
   "execution_count": 12,
   "metadata": {},
   "outputs": [],
   "source": [
    "import sys\n",
    "import pandas as pd\n",
    "import numpy as np\n",
    "from dotenv import dotenv_values\n",
    "from pathlib import Path\n",
    "\n",
    "np.random.seed(19950808)\n",
    "\n",
    "config = dotenv_values(\"./../../config/.env\") # take environment variables from .env.\n",
    "base_path = Path(config[\"BASE_PATH\"])\n",
    "sys.path.append(str(base_path/\"code\"))\n",
    "\n",
    "from ZeDiAc.Annotators import ReportAnnotator"
   ]
  },
  {
   "cell_type": "code",
   "execution_count": 5,
   "metadata": {},
   "outputs": [],
   "source": [
    "df= pd.read_pickle(base_path/\"data/labeling/GT.pkl\")"
   ]
  },
  {
   "cell_type": "code",
   "execution_count": 9,
   "metadata": {},
   "outputs": [
    {
     "data": {
      "text/html": [
       "<div>\n",
       "<style scoped>\n",
       "    .dataframe tbody tr th:only-of-type {\n",
       "        vertical-align: middle;\n",
       "    }\n",
       "\n",
       "    .dataframe tbody tr th {\n",
       "        vertical-align: top;\n",
       "    }\n",
       "\n",
       "    .dataframe thead th {\n",
       "        text-align: right;\n",
       "    }\n",
       "</style>\n",
       "<table border=\"1\" class=\"dataframe\">\n",
       "  <thead>\n",
       "    <tr style=\"text-align: right;\">\n",
       "      <th></th>\n",
       "      <th>report_id</th>\n",
       "      <th>paragraph_nr</th>\n",
       "      <th>text</th>\n",
       "      <th>n_words</th>\n",
       "      <th>filing_type</th>\n",
       "      <th>labeled</th>\n",
       "      <th>strategy</th>\n",
       "      <th>loss</th>\n",
       "      <th>unexpected</th>\n",
       "      <th>company</th>\n",
       "      <th>year</th>\n",
       "    </tr>\n",
       "  </thead>\n",
       "  <tbody>\n",
       "    <tr>\n",
       "      <th>345824</th>\n",
       "      <td>3585</td>\n",
       "      <td>513</td>\n",
       "      <td>The corporate headquarters of the Company is l...</td>\n",
       "      <td>42</td>\n",
       "      <td>10K</td>\n",
       "      <td>True</td>\n",
       "      <td>sequential</td>\n",
       "      <td>0</td>\n",
       "      <td>0</td>\n",
       "      <td>ASSURANCEAMERICA CORP</td>\n",
       "      <td>2007.0</td>\n",
       "    </tr>\n",
       "    <tr>\n",
       "      <th>345825</th>\n",
       "      <td>3585</td>\n",
       "      <td>530</td>\n",
       "      <td>The Company reported net income of $.3 million...</td>\n",
       "      <td>108</td>\n",
       "      <td>10K</td>\n",
       "      <td>True</td>\n",
       "      <td>sequential</td>\n",
       "      <td>0</td>\n",
       "      <td>0</td>\n",
       "      <td>ASSURANCEAMERICA CORP</td>\n",
       "      <td>2007.0</td>\n",
       "    </tr>\n",
       "    <tr>\n",
       "      <th>345826</th>\n",
       "      <td>3585</td>\n",
       "      <td>531</td>\n",
       "      <td>Contributing factors towards the Company’s 200...</td>\n",
       "      <td>176</td>\n",
       "      <td>10K</td>\n",
       "      <td>True</td>\n",
       "      <td>sequential</td>\n",
       "      <td>1</td>\n",
       "      <td>0</td>\n",
       "      <td>ASSURANCEAMERICA CORP</td>\n",
       "      <td>2007.0</td>\n",
       "    </tr>\n",
       "    <tr>\n",
       "      <th>345827</th>\n",
       "      <td>3585</td>\n",
       "      <td>534</td>\n",
       "      <td>Gross premiums written for the year ended Dece...</td>\n",
       "      <td>238</td>\n",
       "      <td>10K</td>\n",
       "      <td>True</td>\n",
       "      <td>sequential</td>\n",
       "      <td>0</td>\n",
       "      <td>0</td>\n",
       "      <td>ASSURANCEAMERICA CORP</td>\n",
       "      <td>2007.0</td>\n",
       "    </tr>\n",
       "    <tr>\n",
       "      <th>345828</th>\n",
       "      <td>3585</td>\n",
       "      <td>535</td>\n",
       "      <td>Premiums written refers to the total amount of...</td>\n",
       "      <td>139</td>\n",
       "      <td>10K</td>\n",
       "      <td>True</td>\n",
       "      <td>sequential</td>\n",
       "      <td>0</td>\n",
       "      <td>0</td>\n",
       "      <td>ASSURANCEAMERICA CORP</td>\n",
       "      <td>2007.0</td>\n",
       "    </tr>\n",
       "    <tr>\n",
       "      <th>...</th>\n",
       "      <td>...</td>\n",
       "      <td>...</td>\n",
       "      <td>...</td>\n",
       "      <td>...</td>\n",
       "      <td>...</td>\n",
       "      <td>...</td>\n",
       "      <td>...</td>\n",
       "      <td>...</td>\n",
       "      <td>...</td>\n",
       "      <td>...</td>\n",
       "      <td>...</td>\n",
       "    </tr>\n",
       "    <tr>\n",
       "      <th>1150793</th>\n",
       "      <td>BeazleyPLC-AR_2017</td>\n",
       "      <td>2301</td>\n",
       "      <td>Sidecar special purpose syndicate Specialty re...</td>\n",
       "      <td>67</td>\n",
       "      <td>annual_report</td>\n",
       "      <td>True</td>\n",
       "      <td>sequential</td>\n",
       "      <td>0</td>\n",
       "      <td>0</td>\n",
       "      <td>BeazleyPLC</td>\n",
       "      <td>2017.0</td>\n",
       "    </tr>\n",
       "    <tr>\n",
       "      <th>1150794</th>\n",
       "      <td>BeazleyPLC-AR_2017</td>\n",
       "      <td>2305</td>\n",
       "      <td>Total shareholder return (TSR) The increase in...</td>\n",
       "      <td>25</td>\n",
       "      <td>annual_report</td>\n",
       "      <td>True</td>\n",
       "      <td>sequential</td>\n",
       "      <td>0</td>\n",
       "      <td>0</td>\n",
       "      <td>BeazleyPLC</td>\n",
       "      <td>2017.0</td>\n",
       "    </tr>\n",
       "    <tr>\n",
       "      <th>1150795</th>\n",
       "      <td>BeazleyPLC-AR_2017</td>\n",
       "      <td>2307</td>\n",
       "      <td>Unearned premiums reserve The portion of premi...</td>\n",
       "      <td>25</td>\n",
       "      <td>annual_report</td>\n",
       "      <td>True</td>\n",
       "      <td>sequential</td>\n",
       "      <td>0</td>\n",
       "      <td>0</td>\n",
       "      <td>BeazleyPLC</td>\n",
       "      <td>2017.0</td>\n",
       "    </tr>\n",
       "    <tr>\n",
       "      <th>1150796</th>\n",
       "      <td>BeazleyPLC-AR_2017</td>\n",
       "      <td>2309</td>\n",
       "      <td>If you have finished reading this report and n...</td>\n",
       "      <td>31</td>\n",
       "      <td>annual_report</td>\n",
       "      <td>True</td>\n",
       "      <td>sequential</td>\n",
       "      <td>0</td>\n",
       "      <td>0</td>\n",
       "      <td>BeazleyPLC</td>\n",
       "      <td>2017.0</td>\n",
       "    </tr>\n",
       "    <tr>\n",
       "      <th>1150797</th>\n",
       "      <td>BeazleyPLC-AR_2017</td>\n",
       "      <td>2311</td>\n",
       "      <td>Beazley plc Plantation Place South 60 Great To...</td>\n",
       "      <td>14</td>\n",
       "      <td>annual_report</td>\n",
       "      <td>True</td>\n",
       "      <td>sequential</td>\n",
       "      <td>0</td>\n",
       "      <td>0</td>\n",
       "      <td>BeazleyPLC</td>\n",
       "      <td>2017.0</td>\n",
       "    </tr>\n",
       "  </tbody>\n",
       "</table>\n",
       "<p>2766 rows × 11 columns</p>\n",
       "</div>"
      ],
      "text/plain": [
       "                  report_id  paragraph_nr  \\\n",
       "345824                 3585           513   \n",
       "345825                 3585           530   \n",
       "345826                 3585           531   \n",
       "345827                 3585           534   \n",
       "345828                 3585           535   \n",
       "...                     ...           ...   \n",
       "1150793  BeazleyPLC-AR_2017          2301   \n",
       "1150794  BeazleyPLC-AR_2017          2305   \n",
       "1150795  BeazleyPLC-AR_2017          2307   \n",
       "1150796  BeazleyPLC-AR_2017          2309   \n",
       "1150797  BeazleyPLC-AR_2017          2311   \n",
       "\n",
       "                                                      text  n_words  \\\n",
       "345824   The corporate headquarters of the Company is l...       42   \n",
       "345825   The Company reported net income of $.3 million...      108   \n",
       "345826   Contributing factors towards the Company’s 200...      176   \n",
       "345827   Gross premiums written for the year ended Dece...      238   \n",
       "345828   Premiums written refers to the total amount of...      139   \n",
       "...                                                    ...      ...   \n",
       "1150793  Sidecar special purpose syndicate Specialty re...       67   \n",
       "1150794  Total shareholder return (TSR) The increase in...       25   \n",
       "1150795  Unearned premiums reserve The portion of premi...       25   \n",
       "1150796  If you have finished reading this report and n...       31   \n",
       "1150797  Beazley plc Plantation Place South 60 Great To...       14   \n",
       "\n",
       "           filing_type labeled    strategy loss unexpected  \\\n",
       "345824             10K    True  sequential    0          0   \n",
       "345825             10K    True  sequential    0          0   \n",
       "345826             10K    True  sequential    1          0   \n",
       "345827             10K    True  sequential    0          0   \n",
       "345828             10K    True  sequential    0          0   \n",
       "...                ...     ...         ...  ...        ...   \n",
       "1150793  annual_report    True  sequential    0          0   \n",
       "1150794  annual_report    True  sequential    0          0   \n",
       "1150795  annual_report    True  sequential    0          0   \n",
       "1150796  annual_report    True  sequential    0          0   \n",
       "1150797  annual_report    True  sequential    0          0   \n",
       "\n",
       "                       company    year  \n",
       "345824   ASSURANCEAMERICA CORP  2007.0  \n",
       "345825   ASSURANCEAMERICA CORP  2007.0  \n",
       "345826   ASSURANCEAMERICA CORP  2007.0  \n",
       "345827   ASSURANCEAMERICA CORP  2007.0  \n",
       "345828   ASSURANCEAMERICA CORP  2007.0  \n",
       "...                        ...     ...  \n",
       "1150793             BeazleyPLC  2017.0  \n",
       "1150794             BeazleyPLC  2017.0  \n",
       "1150795             BeazleyPLC  2017.0  \n",
       "1150796             BeazleyPLC  2017.0  \n",
       "1150797             BeazleyPLC  2017.0  \n",
       "\n",
       "[2766 rows x 11 columns]"
      ]
     },
     "execution_count": 9,
     "metadata": {},
     "output_type": "execute_result"
    }
   ],
   "source": [
    "df= pd.read_pickle(base_path/\"data/labeling/GT.pkl\")\n",
    "tf = df[(df.labeled == True) & (df.strategy == \"sequential\") ]\n",
    "tf"
   ]
  },
  {
   "cell_type": "code",
   "execution_count": 11,
   "metadata": {},
   "outputs": [
    {
     "data": {
      "text/html": [
       "<div>\n",
       "<style scoped>\n",
       "    .dataframe tbody tr th:only-of-type {\n",
       "        vertical-align: middle;\n",
       "    }\n",
       "\n",
       "    .dataframe tbody tr th {\n",
       "        vertical-align: top;\n",
       "    }\n",
       "\n",
       "    .dataframe thead th {\n",
       "        text-align: right;\n",
       "    }\n",
       "</style>\n",
       "<table border=\"1\" class=\"dataframe\">\n",
       "  <thead>\n",
       "    <tr style=\"text-align: right;\">\n",
       "      <th></th>\n",
       "      <th></th>\n",
       "      <th>count</th>\n",
       "      <th>loss</th>\n",
       "      <th>unexpected</th>\n",
       "    </tr>\n",
       "    <tr>\n",
       "      <th>filing_type</th>\n",
       "      <th>report_id</th>\n",
       "      <th></th>\n",
       "      <th></th>\n",
       "      <th></th>\n",
       "    </tr>\n",
       "  </thead>\n",
       "  <tbody>\n",
       "    <tr>\n",
       "      <th rowspan=\"5\" valign=\"top\">10K</th>\n",
       "      <th>3585</th>\n",
       "      <td>39</td>\n",
       "      <td>3</td>\n",
       "      <td>0</td>\n",
       "    </tr>\n",
       "    <tr>\n",
       "      <th>3935</th>\n",
       "      <td>1</td>\n",
       "      <td>0</td>\n",
       "      <td>0</td>\n",
       "    </tr>\n",
       "    <tr>\n",
       "      <th>4123</th>\n",
       "      <td>157</td>\n",
       "      <td>29</td>\n",
       "      <td>4</td>\n",
       "    </tr>\n",
       "    <tr>\n",
       "      <th>5110</th>\n",
       "      <td>382</td>\n",
       "      <td>27</td>\n",
       "      <td>11</td>\n",
       "    </tr>\n",
       "    <tr>\n",
       "      <th>5407</th>\n",
       "      <td>184</td>\n",
       "      <td>10</td>\n",
       "      <td>0</td>\n",
       "    </tr>\n",
       "    <tr>\n",
       "      <th rowspan=\"2\" valign=\"top\">annual_report</th>\n",
       "      <th>BaloiseHoldingLtd-AR_2015</th>\n",
       "      <td>934</td>\n",
       "      <td>19</td>\n",
       "      <td>4</td>\n",
       "    </tr>\n",
       "    <tr>\n",
       "      <th>BeazleyPLC-AR_2017</th>\n",
       "      <td>1069</td>\n",
       "      <td>49</td>\n",
       "      <td>2</td>\n",
       "    </tr>\n",
       "  </tbody>\n",
       "</table>\n",
       "</div>"
      ],
      "text/plain": [
       "                                         count loss unexpected\n",
       "filing_type   report_id                                       \n",
       "10K           3585                          39    3          0\n",
       "              3935                           1    0          0\n",
       "              4123                         157   29          4\n",
       "              5110                         382   27         11\n",
       "              5407                         184   10          0\n",
       "annual_report BaloiseHoldingLtd-AR_2015    934   19          4\n",
       "              BeazleyPLC-AR_2017          1069   49          2"
      ]
     },
     "execution_count": 11,
     "metadata": {},
     "output_type": "execute_result"
    }
   ],
   "source": [
    "tf.groupby([\"filing_type\", \"report_id\"]).agg({\"labeled\": \"count\", \"loss\": \"sum\", \"unexpected\": \"sum\"}).rename(columns={\"labeled\": \"count\"})"
   ]
  },
  {
   "cell_type": "code",
   "execution_count": 5,
   "metadata": {},
   "outputs": [],
   "source": [
    "tf = df[(df.labeled == True) & (df.strategy == \"sequential\") | (df.labeled == -1)]"
   ]
  },
  {
   "cell_type": "code",
   "execution_count": 6,
   "metadata": {},
   "outputs": [],
   "source": [
    "tf[[\"report_id\", \"paragraph_nr\", \"text\", \"n_words\"]].to_pickle(base_path/\"data/labeling/Eval.pkl\")"
   ]
  },
  {
   "cell_type": "code",
   "execution_count": 13,
   "metadata": {},
   "outputs": [],
   "source": [
    "annotator = ReportAnnotator(\n",
    "    data = \" \",\n",
    "    labels = {f\"loss_GT\": \"loss\", f\"unexpected_GT\": \"unexpected\"},\n",
    "    out_file = base_path/\"data/labeling/GT.pkl\",\n",
    "    text_column = \"text\",\n",
    "    batch_size = 50,\n",
    ")"
   ]
  },
  {
   "cell_type": "code",
   "execution_count": 15,
   "metadata": {},
   "outputs": [
    {
     "data": {
      "text/plain": [
       "True    367\n",
       "-1      180\n",
       "Name: labeled, dtype: int64"
      ]
     },
     "execution_count": 15,
     "metadata": {},
     "output_type": "execute_result"
    }
   ],
   "source": [
    "annotator.data[(annotator.data.company == 'ALLSTATE LIFE INSURANCE CO') & (annotator.data.year == 2009)].labeled.value_counts()"
   ]
  },
  {
   "cell_type": "code",
   "execution_count": 14,
   "metadata": {},
   "outputs": [
    {
     "name": "stdout",
     "output_type": "stream",
     "text": [
      "Companies:  ['FIRST COMMONWEALTH CORP'] Years:  [1999.] Paragraphs: 305 to 407\n"
     ]
    },
    {
     "data": {
      "application/vnd.jupyter.widget-view+json": {
       "model_id": "6dd5834b64b54b6dbc960c5d4878f573",
       "version_major": 2,
       "version_minor": 0
      },
      "text/plain": [
       "HTML(value='0 of 50 Examples annotated, Current Position: 0 ')"
      ]
     },
     "metadata": {},
     "output_type": "display_data"
    },
    {
     "data": {
      "application/vnd.jupyter.widget-view+json": {
       "model_id": "1faae5d6ef674e0f823fc19c58276960",
       "version_major": 2,
       "version_minor": 0
      },
      "text/plain": [
       "VBox(children=(HBox(children=(ToggleButton(value=False, description='loss'), ToggleButton(value=False, descrip…"
      ]
     },
     "metadata": {},
     "output_type": "display_data"
    },
    {
     "data": {
      "application/vnd.jupyter.widget-view+json": {
       "model_id": "b91474620a1d4af68448a311c37d48c4",
       "version_major": 2,
       "version_minor": 0
      },
      "text/plain": [
       "Output()"
      ]
     },
     "metadata": {},
     "output_type": "display_data"
    }
   ],
   "source": [
    "annotator.label_batch(strategy=\"sequential\")"
   ]
  },
  {
   "cell_type": "code",
   "execution_count": 14,
   "metadata": {},
   "outputs": [
    {
     "name": "stdout",
     "output_type": "stream",
     "text": [
      "Annotated this session: 1250\n",
      "Remaining:             2056 of 6072 (33.9%)\n",
      "Annotated:             4016 of 6072 (66.1%)\n",
      "Labeled as Loss:        228 (5.68%)\n",
      "Labeled as Unexpected:   26 (0.65%)\n"
     ]
    }
   ],
   "source": [
    "n_annotated = annotator.data[annotator.data.strategy == \"sequential\"].shape[0]\n",
    "n_to_annotate = annotator.data[annotator.data.labeled==-1].shape[0]\n",
    "n_sample = n_annotated + n_to_annotate\n",
    "print(f\"Annotated this session: {n_annotated-2766}\")\n",
    "print(f\"Remaining:             {n_to_annotate} of {n_sample} ({n_to_annotate/n_sample:.1%})\")\n",
    "print(f\"Annotated:             {n_annotated} of {n_sample} ({n_annotated/n_sample:.1%})\")\n",
    "counts = annotator.data[annotator.data.strategy.isin([\"sequential\"])][[\"loss\", \"unexpected\"]].sum()\n",
    "print(f\"Labeled as Loss:        {counts.tolist()[0]} ({round(counts.tolist()[0]/n_annotated*100,2)}%)\")\n",
    "print(f\"Labeled as Unexpected:   {counts.tolist()[1]} ({round(counts.tolist()[1]/n_annotated*100,2)}%)\")"
   ]
  },
  {
   "cell_type": "code",
   "execution_count": 18,
   "metadata": {},
   "outputs": [
    {
     "data": {
      "text/plain": [
       "50"
      ]
     },
     "execution_count": 18,
     "metadata": {},
     "output_type": "execute_result"
    }
   ],
   "source": [
    "annotator.data[annotator.data.labeled.isin([-1]) & annotator.data.company.isin(['BeazleyPLC'])].shape[0]"
   ]
  },
  {
   "cell_type": "code",
   "execution_count": 30,
   "metadata": {},
   "outputs": [
    {
     "data": {
      "text/plain": [
       "10-K             5959\n",
       "annual_report     616\n",
       "Name: filing_type, dtype: int64"
      ]
     },
     "execution_count": 30,
     "metadata": {},
     "output_type": "execute_result"
    }
   ],
   "source": [
    "df_main = pd.read_pickle(base_path/\"data/preprocessed/main.pkl\")\n",
    "df_main.reset_index(inplace=True)\n",
    "df_main.filing_type = df_main.filing_type.apply(lambda x: \"10-K\" if x[:4] == \"10-K\" else x)  # treat all SEC filings the same\n",
    "df_main.year = df_main.year.astype(int)\n",
    "df_main.report_id = df_main.report_id.astype(str)\n",
    "df_main = df_main[df_main.year >= 1993]\n",
    "df_main.filing_type.value_counts()"
   ]
  },
  {
   "cell_type": "code",
   "execution_count": 31,
   "metadata": {},
   "outputs": [
    {
     "data": {
      "text/plain": [
       "9.6737012987013"
      ]
     },
     "execution_count": 31,
     "metadata": {},
     "output_type": "execute_result"
    }
   ],
   "source": [
    "5959/616"
   ]
  },
  {
   "cell_type": "code",
   "execution_count": 32,
   "metadata": {},
   "outputs": [],
   "source": [
    "df = pd.read_pickle(base_path/\"data/labeling/GT.pkl\")"
   ]
  },
  {
   "cell_type": "code",
   "execution_count": 34,
   "metadata": {},
   "outputs": [
    {
     "data": {
      "text/plain": [
       "report_id                  filing_type  \n",
       "3585                       10K                39\n",
       "3935                       10K                 1\n",
       "4123                       10K               157\n",
       "5110                       10K               382\n",
       "5407                       10K               184\n",
       "BaloiseHoldingLtd-AR_2015  annual_report     934\n",
       "BeazleyPLC-AR_2017         annual_report    1069\n",
       "Name: filing_type, dtype: int64"
      ]
     },
     "execution_count": 34,
     "metadata": {},
     "output_type": "execute_result"
    }
   ],
   "source": [
    "df[df.strategy == \"sequential\"].groupby(\"report_id\").filing_type.value_counts()"
   ]
  },
  {
   "cell_type": "code",
   "execution_count": 36,
   "metadata": {},
   "outputs": [
    {
     "data": {
      "text/plain": [
       "14.3474025974026"
      ]
     },
     "execution_count": 36,
     "metadata": {},
     "output_type": "execute_result"
    }
   ],
   "source": [
    "2*5959/616 - 5"
   ]
  },
  {
   "cell_type": "code",
   "execution_count": 45,
   "metadata": {},
   "outputs": [],
   "source": [
    "labeled_10_k_s = df[(df.strategy == \"sequential\")& (df.filing_type == \"10K\")].report_id.unique()"
   ]
  },
  {
   "cell_type": "code",
   "execution_count": 57,
   "metadata": {},
   "outputs": [],
   "source": [
    "np.random.seed(19950808)\n",
    "reports_to_label = df_main[(~df_main.report_id.isin(labeled_10_k_s)) & df_main.filing_type.isin([\"10-K\"])].sample(14).report_id.tolist()"
   ]
  },
  {
   "cell_type": "code",
   "execution_count": 60,
   "metadata": {},
   "outputs": [],
   "source": [
    "df.loc[df.report_id.isin(reports_to_label) & df.labeled.isin([0]), \"labeled\"] = -1\n",
    "df.to_pickle(base_path/\"data/labeling/GT.pkl\")"
   ]
  }
 ],
 "metadata": {
  "kernelspec": {
   "display_name": ".venv",
   "language": "python",
   "name": "python3"
  },
  "language_info": {
   "codemirror_mode": {
    "name": "ipython",
    "version": 3
   },
   "file_extension": ".py",
   "mimetype": "text/x-python",
   "name": "python",
   "nbconvert_exporter": "python",
   "pygments_lexer": "ipython3",
   "version": "3.10.10"
  },
  "orig_nbformat": 4
 },
 "nbformat": 4,
 "nbformat_minor": 2
}

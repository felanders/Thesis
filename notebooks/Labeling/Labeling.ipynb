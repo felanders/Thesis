{
 "cells": [
  {
   "cell_type": "code",
   "execution_count": 1,
   "metadata": {},
   "outputs": [],
   "source": [
    "import sys\n",
    "import datasets\n",
    "from dotenv import dotenv_values\n",
    "from pathlib import Path\n",
    "\n",
    "config = dotenv_values(\"./../../config/.env\") # take environment variables from .env.\n",
    "base_path = Path(config[\"BASE_PATH\"])\n",
    "sys.path.append(str(base_path/\"code\"))\n",
    "from ZeDiAc.Annotators import ActiveAnnotator\n",
    "\n",
    "iteration = 2\n",
    "\n",
    "data = datasets.load_from_disk(base_path/f\"data/processed/active-learning-iteration-{iteration}\")"
   ]
  },
  {
   "cell_type": "code",
   "execution_count": 48,
   "metadata": {},
   "outputs": [],
   "source": [
    "annotator = ActiveAnnotator(\n",
    "    data = data,\n",
    "    labels = {f\"loss_AL_{iteration}\": \"loss\", f\"unexpected_AL_{iteration}\": \"unexpected\"},\n",
    "    out_file = base_path/f\"data/labeling/active-learning-iteration-{iteration}.pkl\",\n",
    "    text_column = \"text\",\n",
    "    batch_size = 25,\n",
    "    target_label = f\"unexpected_AL_{iteration}\",\n",
    "    target_true_id = 0\n",
    ")"
   ]
  },
  {
   "cell_type": "code",
   "execution_count": null,
   "metadata": {},
   "outputs": [],
   "source": [
    "annotator.label_batch(strategy=\"lc\")"
   ]
  },
  {
   "cell_type": "markdown",
   "metadata": {},
   "source": [
    "Unexpected quirks\n",
    "\n",
    "exceptional != unexpected\n",
    "forward looking statements"
   ]
  },
  {
   "cell_type": "code",
   "execution_count": 74,
   "metadata": {},
   "outputs": [
    {
     "data": {
      "text/plain": [
       "lc_unexpected_AL_2      250\n",
       "lc_unexpected_AL_1      200\n",
       "lc_loss_AL_1            200\n",
       "lc_unexpected           200\n",
       "hc_t_unexpected         100\n",
       "lc_loss                 100\n",
       "hc_t_loss               100\n",
       "lc_loss_AL_2            100\n",
       "hc_t_unexpected_AL_2    100\n",
       "hc_t_loss_AL_1           50\n",
       "hc_t_loss_AL_2           50\n",
       "hc_t_unexpected_AL_1     50\n",
       "Name: strategy, dtype: int64"
      ]
     },
     "execution_count": 74,
     "metadata": {},
     "output_type": "execute_result"
    }
   ],
   "source": [
    "annotator.data.strategy.value_counts()"
   ]
  },
  {
   "cell_type": "code",
   "execution_count": 75,
   "metadata": {},
   "outputs": [
    {
     "data": {
      "text/html": [
       "<div>\n",
       "<style scoped>\n",
       "    .dataframe tbody tr th:only-of-type {\n",
       "        vertical-align: middle;\n",
       "    }\n",
       "\n",
       "    .dataframe tbody tr th {\n",
       "        vertical-align: top;\n",
       "    }\n",
       "\n",
       "    .dataframe thead th {\n",
       "        text-align: right;\n",
       "    }\n",
       "</style>\n",
       "<table border=\"1\" class=\"dataframe\">\n",
       "  <thead>\n",
       "    <tr style=\"text-align: right;\">\n",
       "      <th></th>\n",
       "      <th>loss</th>\n",
       "      <th>unexpected</th>\n",
       "      <th>labeled_examples</th>\n",
       "    </tr>\n",
       "  </thead>\n",
       "  <tbody>\n",
       "    <tr>\n",
       "      <th>count</th>\n",
       "      <td>451</td>\n",
       "      <td>183</td>\n",
       "      <td>1500</td>\n",
       "    </tr>\n",
       "  </tbody>\n",
       "</table>\n",
       "</div>"
      ],
      "text/plain": [
       "      loss unexpected  labeled_examples\n",
       "count  451        183              1500"
      ]
     },
     "execution_count": 75,
     "metadata": {},
     "output_type": "execute_result"
    }
   ],
   "source": [
    "annotator.get_annotations_count_per_label()"
   ]
  },
  {
   "cell_type": "code",
   "execution_count": null,
   "metadata": {},
   "outputs": [],
   "source": [
    "print(\"unexpected\")\n",
    "print((annotator.data.p_unexpected > 0.5).sum())\n",
    "print((annotator.data.p_unexpected_AL_1 > 0.5).sum())\n",
    "print((annotator.data.p_unexpected_AL_2 > 0.5).sum())\n",
    "print(\"loss\")\n",
    "print((annotator.data.p_loss > 0.5).sum())\n",
    "print((annotator.data.p_loss_AL_1 > 0.5).sum())\n",
    "print((annotator.data.p_loss_AL_2 > 0.5).sum())"
   ]
  },
  {
   "cell_type": "code",
   "execution_count": 35,
   "metadata": {},
   "outputs": [
    {
     "name": "stdout",
     "output_type": "stream",
     "text": [
      "1294\n",
      "717\n",
      "301\n"
     ]
    }
   ],
   "source": [
    "print(((annotator.data.p_loss > 0.5)&(annotator.data.p_unexpected > 0.5)).sum())\n",
    "print(((annotator.data.p_loss_AL_1 > 0.5)&(annotator.data.p_unexpected_AL_1 > 0.5)).sum())\n",
    "print(((annotator.data.p_loss_AL_2 > 0.5)&(annotator.data.p_unexpected_AL_2 > 0.5)).sum())"
   ]
  },
  {
   "cell_type": "markdown",
   "metadata": {},
   "source": [
    "# Initialize the labeling pickle for NEW round"
   ]
  },
  {
   "cell_type": "code",
   "execution_count": 24,
   "metadata": {},
   "outputs": [],
   "source": [
    "import datasets\n",
    "import pandas as pd\n",
    "from scipy.special import softmax\n",
    "\n",
    "iteration = 1\n",
    "\n",
    "data_loss = datasets.load_from_disk(base_path/f\"data/processed/loss/active-learning-iteration-{iteration}\")\n",
    "\n",
    "data_unexpected = datasets.load_from_disk(base_path/f\"data/processed/unexpected/active-learning-iteration-{iteration}\")\n",
    "annotations = pd.read_pickle(Path(config[\"BASE_PATH\"])/f\"data/labeling/active-learning-iteration-{iteration-1}.pkl\")\n",
    "\n",
    "df = data_loss.to_pandas().merge(data_unexpected.to_pandas()[[\"report_id\", \"paragraph_nr\", f\"logits_unexpected_AL_{iteration}\"]], on=[\"report_id\", \"paragraph_nr\"])\n",
    "df.drop(columns=[\"input_ids\", \"token_type_ids\", \"attention_mask\", \"text\", \"n_words\", \"filing_type\"], inplace=True)\n",
    "df[f\"p_loss_AL_{iteration}\"] = df[f\"logits_loss_AL_{iteration}\"].apply(lambda x: softmax(x)[0])\n",
    "df[f\"p_unexpected_AL_{iteration}\"] = df[f\"logits_unexpected_AL_{iteration}\"].apply(lambda x: softmax(x)[0])"
   ]
  },
  {
   "cell_type": "markdown",
   "metadata": {},
   "source": [
    "# Be careful with this line as it potentially overwrites already existing labels"
   ]
  },
  {
   "cell_type": "code",
   "execution_count": null,
   "metadata": {},
   "outputs": [],
   "source": [
    "#df.merge(annotations, on=[\"report_id\", \"paragraph_nr\"]).to_pickle(Path(config[\"BASE_PATH\"])/f\"data/labeling/active-learning-iteration-{iteration}.pkl\")"
   ]
  }
 ],
 "metadata": {
  "kernelspec": {
   "display_name": ".venv",
   "language": "python",
   "name": "python3"
  },
  "language_info": {
   "codemirror_mode": {
    "name": "ipython",
    "version": 3
   },
   "file_extension": ".py",
   "mimetype": "text/x-python",
   "name": "python",
   "nbconvert_exporter": "python",
   "pygments_lexer": "ipython3",
   "version": "3.10.10"
  },
  "orig_nbformat": 4
 },
 "nbformat": 4,
 "nbformat_minor": 2
}

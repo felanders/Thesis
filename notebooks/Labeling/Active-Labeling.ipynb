{
 "cells": [
  {
   "cell_type": "code",
   "execution_count": 3,
   "metadata": {},
   "outputs": [],
   "source": [
    "import sys\n",
    "import pandas as pd\n",
    "from dotenv import dotenv_values\n",
    "from pathlib import Path\n",
    "\n",
    "config = dotenv_values(\"./../../config/.env\") # take environment variables from .env.\n",
    "base_path = Path(config[\"BASE_PATH\"])\n",
    "sys.path.append(str(base_path/\"code\"))\n",
    "from ZeDiAc.Annotators import ActiveAnnotator"
   ]
  },
  {
   "cell_type": "code",
   "execution_count": 4,
   "metadata": {},
   "outputs": [],
   "source": [
    "iteration = 2"
   ]
  },
  {
   "cell_type": "code",
   "execution_count": 5,
   "metadata": {},
   "outputs": [],
   "source": [
    "data = pd.read_pickle(base_path/\"data/labeling/active-learning-iteration-2.pkl\")"
   ]
  },
  {
   "cell_type": "code",
   "execution_count": 6,
   "metadata": {},
   "outputs": [],
   "source": [
    "annotator = ActiveAnnotator(\n",
    "    data = data,\n",
    "    labels = {f\"loss_AL_{iteration}\": \"loss\", f\"unexpected_AL_{iteration}\": \"unexpected\"},\n",
    "    out_file = base_path/f\"data/labeling/active-learning-iteration-{iteration}.pkl\",\n",
    "    text_column = \"text\",\n",
    "    batch_size = 25,\n",
    "    target_label = f\"unexpected_AL_{iteration}\",\n",
    "    target_true_id = 0\n",
    ")"
   ]
  },
  {
   "cell_type": "code",
   "execution_count": 9,
   "metadata": {},
   "outputs": [
    {
     "data": {
      "application/vnd.jupyter.widget-view+json": {
       "model_id": "decd0b310200416bb8d75737e332e756",
       "version_major": 2,
       "version_minor": 0
      },
      "text/plain": [
       "HTML(value='0 of 25 Examples annotated, Current Position: 0 ')"
      ]
     },
     "metadata": {},
     "output_type": "display_data"
    },
    {
     "data": {
      "application/vnd.jupyter.widget-view+json": {
       "model_id": "cf8a2eb797bb4c1cbf56671389f58565",
       "version_major": 2,
       "version_minor": 0
      },
      "text/plain": [
       "VBox(children=(HBox(children=(ToggleButton(value=False, description='loss'), ToggleButton(value=False, descrip…"
      ]
     },
     "metadata": {},
     "output_type": "display_data"
    },
    {
     "data": {
      "application/vnd.jupyter.widget-view+json": {
       "model_id": "6c05ffb37a4848939982fdce6bee8da4",
       "version_major": 2,
       "version_minor": 0
      },
      "text/plain": [
       "Output()"
      ]
     },
     "metadata": {},
     "output_type": "display_data"
    }
   ],
   "source": [
    "annotator.label_batch(strategy=\"lc\")"
   ]
  },
  {
   "cell_type": "code",
   "execution_count": 7,
   "metadata": {},
   "outputs": [
    {
     "data": {
      "text/plain": [
       "lc_unexpected_AL_2      250\n",
       "lc_unexpected_AL_1      200\n",
       "lc_loss_AL_1            200\n",
       "lc_unexpected           200\n",
       "hc_t_unexpected         100\n",
       "lc_loss                 100\n",
       "hc_t_loss               100\n",
       "lc_loss_AL_2            100\n",
       "hc_t_unexpected_AL_2    100\n",
       "hc_t_loss_AL_1           50\n",
       "hc_t_loss_AL_2           50\n",
       "hc_t_unexpected_AL_1     50\n",
       "Name: strategy, dtype: int64"
      ]
     },
     "execution_count": 7,
     "metadata": {},
     "output_type": "execute_result"
    }
   ],
   "source": [
    "annotator.data.strategy.value_counts()"
   ]
  },
  {
   "cell_type": "code",
   "execution_count": 8,
   "metadata": {},
   "outputs": [
    {
     "data": {
      "text/html": [
       "<div>\n",
       "<style scoped>\n",
       "    .dataframe tbody tr th:only-of-type {\n",
       "        vertical-align: middle;\n",
       "    }\n",
       "\n",
       "    .dataframe tbody tr th {\n",
       "        vertical-align: top;\n",
       "    }\n",
       "\n",
       "    .dataframe thead th {\n",
       "        text-align: right;\n",
       "    }\n",
       "</style>\n",
       "<table border=\"1\" class=\"dataframe\">\n",
       "  <thead>\n",
       "    <tr style=\"text-align: right;\">\n",
       "      <th></th>\n",
       "      <th>loss</th>\n",
       "      <th>unexpected</th>\n",
       "      <th>labeled_examples</th>\n",
       "    </tr>\n",
       "  </thead>\n",
       "  <tbody>\n",
       "    <tr>\n",
       "      <th>count</th>\n",
       "      <td>451</td>\n",
       "      <td>183</td>\n",
       "      <td>1500</td>\n",
       "    </tr>\n",
       "  </tbody>\n",
       "</table>\n",
       "</div>"
      ],
      "text/plain": [
       "      loss unexpected  labeled_examples\n",
       "count  451        183              1500"
      ]
     },
     "execution_count": 8,
     "metadata": {},
     "output_type": "execute_result"
    }
   ],
   "source": [
    "annotator.get_annotations_count_per_label()"
   ]
  }
 ],
 "metadata": {
  "kernelspec": {
   "display_name": ".venv",
   "language": "python",
   "name": "python3"
  },
  "language_info": {
   "codemirror_mode": {
    "name": "ipython",
    "version": 3
   },
   "file_extension": ".py",
   "mimetype": "text/x-python",
   "name": "python",
   "nbconvert_exporter": "python",
   "pygments_lexer": "ipython3",
   "version": "3.10.10"
  }
 },
 "nbformat": 4,
 "nbformat_minor": 2
}

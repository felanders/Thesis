{
 "cells": [
  {
   "cell_type": "code",
   "execution_count": 1,
   "metadata": {},
   "outputs": [],
   "source": [
    "import pandas as pd\n",
    "from dotenv import dotenv_values\n",
    "from pathlib import Path\n",
    "import datasets\n",
    "import pandas as pd\n",
    "from scipy.special import softmax\n",
    "\n",
    "config = dotenv_values(\"./../../config/.env\") # take environment variables from .env.\n",
    "base_path = Path(config[\"BASE_PATH\"])"
   ]
  },
  {
   "cell_type": "markdown",
   "metadata": {},
   "source": [
    "Set the iteration to one higher than the previous iteration.\n",
    "\n",
    "i.e. set it to 0 for the beginnning, 1 for the first round etc."
   ]
  },
  {
   "cell_type": "code",
   "execution_count": 3,
   "metadata": {},
   "outputs": [],
   "source": [
    "iteration = 1"
   ]
  },
  {
   "cell_type": "code",
   "execution_count": null,
   "metadata": {},
   "outputs": [],
   "source": [
    "data_loss = datasets.load_from_disk(base_path/f\"data/processed/loss/active-learning-iteration-{iteration}\")\n",
    "\n",
    "data_unexpected = datasets.load_from_disk(base_path/f\"data/processed/unexpected/active-learning-iteration-{iteration}\")\n",
    "annotations = pd.read_pickle(Path(config[\"BASE_PATH\"])/f\"data/labeling/active-learning-iteration-{iteration-1}.pkl\")\n",
    "\n",
    "df = data_loss.to_pandas().merge(data_unexpected.to_pandas()[[\"report_id\", \"paragraph_nr\", f\"logits_unexpected_AL_{iteration}\"]], on=[\"report_id\", \"paragraph_nr\"])\n",
    "if \"input_ids\" in df.columns:\n",
    "    df.drop(columns=[\"input_ids\", \"token_type_ids\", \"attention_mask\", \"text\", \"n_words\", \"filing_type\"], inplace=True)\n",
    "else:\n",
    "    df.drop(columns=[\"text\", \"n_words\", \"filing_type\"], inplace=True)\n",
    "df[f\"p_loss_AL_{iteration}\"] = df[f\"logits_loss_AL_{iteration}\"].apply(lambda x: softmax(x)[0])\n",
    "df[f\"p_unexpected_AL_{iteration}\"] = df[f\"logits_unexpected_AL_{iteration}\"].apply(lambda x: softmax(x)[0])"
   ]
  },
  {
   "cell_type": "markdown",
   "metadata": {},
   "source": [
    "# Be careful with the following line as it potentially overwrites already existing labels"
   ]
  },
  {
   "cell_type": "code",
   "execution_count": null,
   "metadata": {},
   "outputs": [],
   "source": [
    "#df.merge(annotations, on=[\"report_id\", \"paragraph_nr\"]).to_pickle(Path(config[\"BASE_PATH\"])/f\"data/labeling/active-learning-iteration-{iteration}.pkl\")"
   ]
  }
 ],
 "metadata": {
  "kernelspec": {
   "display_name": ".venv",
   "language": "python",
   "name": "python3"
  },
  "language_info": {
   "codemirror_mode": {
    "name": "ipython",
    "version": 3
   },
   "file_extension": ".py",
   "mimetype": "text/x-python",
   "name": "python",
   "nbconvert_exporter": "python",
   "pygments_lexer": "ipython3",
   "version": "3.10.10"
  }
 },
 "nbformat": 4,
 "nbformat_minor": 2
}

{
 "cells": [
  {
   "cell_type": "code",
   "execution_count": null,
   "metadata": {},
   "outputs": [],
   "source": [
    "import pandas as pd\n",
    "import datasets\n",
    "from dotenv import dotenv_values\n",
    "from datasets import disable_caching\n",
    "from pathlib import Path\n",
    "config = dotenv_values(\"./../../../config/.env\") # take environment variables from .env.\n",
    "\n",
    "disable_caching()\n",
    "\n",
    "BASE_PATH = Path(config[\"BASE_PATH\"])\n",
    "paths = {\n",
    "    \"base\": BASE_PATH,\n",
    "    \"data\": BASE_PATH/\"data\",\n",
    "    \"10k\": BASE_PATH/\"data\"/\"10k\",\n",
    "    \"stoxx\": BASE_PATH/\"data\"/\"stoxx\",\n",
    "    \"writing\": BASE_PATH/\"writing\"/\"MSc-Thesis-Emerging-Risks\",\n",
    "    \"tables\": BASE_PATH/\"writing\"/\"MSc-Thesis-Emerging-Risks\"/\"tables\",\n",
    "    \"figures\": BASE_PATH/\"writing\"/\"MSc-Thesis-Emerging-Risks\"/\"figures\"/\"plots\"\n",
    "}"
   ]
  },
  {
   "cell_type": "code",
   "execution_count": null,
   "metadata": {},
   "outputs": [],
   "source": [
    "for iteration in range(3):\n",
    "    for target in [\"loss\", \"unexpected\"]:\n",
    "        path = paths[\"data\"]/\"processed\"/target/f\"active-learning-iteration-{iteration}\"\n",
    "        dat = datasets.load_from_disk(path)\n",
    "        if \"token_type_ids\" in dat.column_names:\n",
    "            dat = dat.map(lambda x: x, remove_columns=[\"token_type_ids\", \"attention_mask\", \"input_ids\"], batched=True)\n",
    "            dat.save_to_disk(path)"
   ]
  }
 ],
 "metadata": {
  "language_info": {
   "name": "python"
  }
 },
 "nbformat": 4,
 "nbformat_minor": 2
}

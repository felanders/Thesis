{
 "cells": [
  {
   "cell_type": "code",
   "execution_count": 4,
   "metadata": {},
   "outputs": [],
   "source": [
    "import datasets\n",
    "import transformers"
   ]
  },
  {
   "cell_type": "code",
   "execution_count": 5,
   "metadata": {},
   "outputs": [],
   "source": [
    "model = transformers.AutoModelForSequenceClassification.from_pretrained(\"/home/andreas/Polybox/Project-Support-Material/Thesis/models/loss/deberta-v3-large-distill-al-3/\")\n",
    "model.push_to_hub(\"ZeDiAc-Loss\")"
   ]
  },
  {
   "cell_type": "code",
   "execution_count": null,
   "metadata": {},
   "outputs": [],
   "source": [
    "tokenizer = transformers.AutoTokenizer.from_pretrained(\"microsoft/deberta-v3-large\")\n",
    "tokenizer.push_to_hub(\"ZeDiAc-Loss\")\n",
    "tokenizer.push_to_hub(\"ZeDiAc-Unexpected\")"
   ]
  },
  {
   "cell_type": "code",
   "execution_count": null,
   "metadata": {},
   "outputs": [],
   "source": [
    "model = transformers.AutoModelForSequenceClassification.from_pretrained(\"/home/andreas/Polybox/Project-Support-Material/Thesis/models/unexpected/deberta-v3-large-distill-al-3/\")\n",
    "model.push_to_hub(\"ZeDiAc-Unexpected\")"
   ]
  },
  {
   "cell_type": "code",
   "execution_count": 11,
   "metadata": {},
   "outputs": [],
   "source": [
    "dataset = datasets.load_from_disk(\"/home/andreas/Polybox/Project-Support-Material/Thesis/data/preprocessed/dataset\")\n",
    "dataset[\"zero_shot\"] = dataset.pop(\"zero-shot\")\n",
    "dataset[\"active_learning\"] = dataset.pop(\"active-learning\")\n",
    "dataset.push_to_hub(\"preprocessed\")"
   ]
  }
 ],
 "metadata": {
  "kernelspec": {
   "display_name": ".venv",
   "language": "python",
   "name": "python3"
  },
  "language_info": {
   "codemirror_mode": {
    "name": "ipython",
    "version": 3
   },
   "file_extension": ".py",
   "mimetype": "text/x-python",
   "name": "python",
   "nbconvert_exporter": "python",
   "pygments_lexer": "ipython3",
   "version": "3.10.10"
  },
  "orig_nbformat": 4
 },
 "nbformat": 4,
 "nbformat_minor": 2
}

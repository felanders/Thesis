{
 "cells": [
  {
   "cell_type": "code",
   "execution_count": 1,
   "metadata": {},
   "outputs": [],
   "source": [
    "import sys\n",
    "import datasets\n",
    "from dotenv import dotenv_values\n",
    "from pathlib import Path\n",
    "from scipy.special import softmax\n",
    "import pandas as pd\n",
    "import numpy as np\n",
    "\n",
    "config = dotenv_values(\"./../../config/.env\") # take environment variables from .env.\n",
    "base_path = Path(config[\"BASE_PATH\"])\n",
    "sys.path.append(str(base_path/\"code\"))"
   ]
  },
  {
   "cell_type": "code",
   "execution_count": 2,
   "metadata": {},
   "outputs": [],
   "source": [
    "df_l = datasets.concatenate_datasets([\n",
    "    datasets.load_from_disk(base_path/\"data/predictions/loss/active-learning-iteration-3\"),\n",
    "    datasets.load_from_disk(base_path/\"data/predictions/loss/zero-shot-iteration-3\"),\n",
    "    datasets.load_from_disk(base_path/\"data/predictions/loss/evaluate-iteration-3\")]\n",
    ").to_pandas()\n",
    "df_l.drop(columns=[\"input_ids\", \"token_type_ids\", \"attention_mask\"], inplace=True)"
   ]
  },
  {
   "cell_type": "code",
   "execution_count": 8,
   "metadata": {},
   "outputs": [],
   "source": [
    "df_u = datasets.concatenate_datasets([\n",
    "    datasets.load_from_disk(base_path/\"data/predictions/unexpected/active-learning-iteration-3\"),\n",
    "    datasets.load_from_disk(base_path/\"data/predictions/unexpected/zero-shot-iteration-3\"),\n",
    "    datasets.load_from_disk(base_path/\"data/predictions/unexpected/evaluate-iteration-3\")]\n",
    ").to_pandas()\n",
    "df_u.drop(columns=[\"input_ids\", \"token_type_ids\", \"attention_mask\"], inplace=True)"
   ]
  },
  {
   "cell_type": "code",
   "execution_count": 10,
   "metadata": {},
   "outputs": [],
   "source": [
    "df = df_l.merge(df_u[[\"report_id\", \"paragraph_nr\", \"logits_unexpected_AL_3\"]], on=[\"report_id\", \"paragraph_nr\"])\n",
    "del df_l, df_u"
   ]
  },
  {
   "cell_type": "code",
   "execution_count": 15,
   "metadata": {},
   "outputs": [],
   "source": [
    "df[\"p_loss\"] = df[\"logits_loss_AL_3\"].apply(lambda x: softmax(x)[0])\n",
    "df[\"p_unexpected\"] = df[\"logits_unexpected_AL_3\"].apply(lambda x: softmax(x)[0])"
   ]
  },
  {
   "cell_type": "code",
   "execution_count": 16,
   "metadata": {},
   "outputs": [],
   "source": [
    "df.to_pickle(base_path/\"data/predictions/data.pkl\")"
   ]
  },
  {
   "cell_type": "code",
   "execution_count": 2,
   "metadata": {},
   "outputs": [],
   "source": [
    "df = pd.read_pickle(base_path/\"data/predictions/data.pkl\")"
   ]
  },
  {
   "cell_type": "code",
   "execution_count": 3,
   "metadata": {},
   "outputs": [
    {
     "data": {
      "text/plain": [
       "(5936, 9)"
      ]
     },
     "execution_count": 3,
     "metadata": {},
     "output_type": "execute_result"
    }
   ],
   "source": [
    "df_ul = df[(df.p_unexpected>0.5)& (df.p_loss>0.5)]\n",
    "df_ul.shape"
   ]
  },
  {
   "cell_type": "code",
   "execution_count": 4,
   "metadata": {},
   "outputs": [],
   "source": [
    "del df"
   ]
  },
  {
   "cell_type": "code",
   "execution_count": 8,
   "metadata": {},
   "outputs": [
    {
     "data": {
      "text/plain": [
       "<Axes: >"
      ]
     },
     "execution_count": 8,
     "metadata": {},
     "output_type": "execute_result"
    },
    {
     "data": {
      "image/png": "[encoded data removed]",
      "text/plain": [
       "<Figure size 640x480 with 1 Axes>"
      ]
     },
     "metadata": {},
     "output_type": "display_data"
    }
   ],
   "source": [
    "df_ul.n_words.hist(bins=100)"
   ]
  },
  {
   "cell_type": "code",
   "execution_count": 5,
   "metadata": {},
   "outputs": [],
   "source": [
    "from nltk import sent_tokenize"
   ]
  },
  {
   "cell_type": "code",
   "execution_count": 8,
   "metadata": {},
   "outputs": [],
   "source": [
    "df_ul[\"n_sentences\"] = df_ul[\"text\"].apply(lambda x: len(sent_tokenize(x)))"
   ]
  },
  {
   "cell_type": "code",
   "execution_count": 26,
   "metadata": {},
   "outputs": [
    {
     "data": {
      "text/plain": [
       "<Axes: >"
      ]
     },
     "execution_count": 26,
     "metadata": {},
     "output_type": "execute_result"
    },
    {
     "data": {
      "image/png": "[encoded data removed]",
      "text/plain": [
       "<Figure size 640x480 with 1 Axes>"
      ]
     },
     "metadata": {},
     "output_type": "display_data"
    }
   ],
   "source": [
    "df_ul[\"n_sentences\"].hist(bins=20)"
   ]
  },
  {
   "cell_type": "code",
   "execution_count": 9,
   "metadata": {},
   "outputs": [],
   "source": [
    "df_ul[\"sentences\"] = df_ul[\"text\"].apply(lambda x: sent_tokenize(x))"
   ]
  },
  {
   "cell_type": "code",
   "execution_count": 6,
   "metadata": {},
   "outputs": [],
   "source": [
    "def create_sliding_window_sentence_chunks(sentences, chunk_size):\n",
    "    chunks = []\n",
    "    chunk_id = []\n",
    "    for i in range(len(sentences)-chunk_size+1):\n",
    "        chunks.append(\" \".join(sentences[i:i+chunk_size]))\n",
    "        chunk_id.append(f\"{chunk_size}_{i}\")\n",
    "    return {\"chunk\": chunks, \"chunk_id\": chunk_id}\n",
    "\n",
    "def create_sentence_chunks(text, max_chunk_size=5):\n",
    "    sentences = sent_tokenize(text)\n",
    "    result = {\"text\": [], \"chunk_id\": []}\n",
    "    for chunk_size in range(1, max_chunk_size+1):\n",
    "        chunks = create_sliding_window_sentence_chunks(sentences, chunk_size)\n",
    "        result[\"text\"].extend(chunks[\"chunk\"])\n",
    "        result[\"chunk_id\"].extend(chunks[\"chunk_id\"])\n",
    "    return result"
   ]
  },
  {
   "cell_type": "code",
   "execution_count": 7,
   "metadata": {},
   "outputs": [],
   "source": [
    "df_ul[\"chunks\"] = df_ul.text.apply(lambda x: create_sentence_chunks(x, max_chunk_size=5))"
   ]
  },
  {
   "cell_type": "code",
   "execution_count": 8,
   "metadata": {},
   "outputs": [],
   "source": [
    "df_ul[\"chunk_nr\"] = df_ul.chunks.apply(lambda x:  x[\"chunk_id\"])\n",
    "df_ul[\"chunk\"] = df_ul.chunks.apply(lambda x:  x[\"text\"])"
   ]
  },
  {
   "cell_type": "code",
   "execution_count": 11,
   "metadata": {},
   "outputs": [],
   "source": [
    "df_ul = df_ul.drop(columns=[\"chunks\", \"text\", \"logits_loss_AL_3\", \"logits_unexpected_AL_3\", \"p_loss\", \"p_unexpected\"])"
   ]
  },
  {
   "cell_type": "code",
   "execution_count": 12,
   "metadata": {},
   "outputs": [],
   "source": [
    "df_chunks = df_ul.explode([\"chunk\", \"chunk_nr\"])"
   ]
  },
  {
   "cell_type": "code",
   "execution_count": 14,
   "metadata": {},
   "outputs": [],
   "source": [
    "df_chunks.rename(columns={'chunk': 'text'}, inplace=True)"
   ]
  },
  {
   "cell_type": "code",
   "execution_count": 19,
   "metadata": {},
   "outputs": [],
   "source": [
    "dataset = datasets.Dataset.from_pandas(df_chunks, preserve_index=False)"
   ]
  },
  {
   "cell_type": "code",
   "execution_count": 21,
   "metadata": {},
   "outputs": [
    {
     "data": {
      "application/vnd.jupyter.widget-view+json": {
       "model_id": "8ce07591fcc74c9397b061dc4d3fd924",
       "version_major": 2,
       "version_minor": 0
      },
      "text/plain": [
       "Saving the dataset (0/1 shards):   0%|          | 0/78022 [00:00<?, ? examples/s]"
      ]
     },
     "metadata": {},
     "output_type": "display_data"
    }
   ],
   "source": [
    "dataset.save_to_disk(base_path/\"data\"/\"preprocessed\"/\"chunks\")"
   ]
  }
 ],
 "metadata": {
  "kernelspec": {
   "display_name": ".venv",
   "language": "python",
   "name": "python3"
  },
  "language_info": {
   "codemirror_mode": {
    "name": "ipython",
    "version": 3
   },
   "file_extension": ".py",
   "mimetype": "text/x-python",
   "name": "python",
   "nbconvert_exporter": "python",
   "pygments_lexer": "ipython3",
   "version": "3.10.10"
  },
  "orig_nbformat": 4
 },
 "nbformat": 4,
 "nbformat_minor": 2
}

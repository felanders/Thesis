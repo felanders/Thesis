{
 "cells": [
  {
   "cell_type": "code",
   "execution_count": 1,
   "metadata": {},
   "outputs": [],
   "source": [
    "import pandas as pd\n",
    "from dotenv import dotenv_values\n",
    "from pathlib import Path\n",
    "from datasets import Dataset\n",
    "\n",
    "config = dotenv_values(\"./../../config/.env\") # take environment variables from .env.\n",
    "base_path = Path(config[\"BASE_PATH\"])\n",
    "data_path = base_path/\"data\""
   ]
  },
  {
   "cell_type": "code",
   "execution_count": 4,
   "metadata": {},
   "outputs": [],
   "source": [
    "df = pd.read_pickle(data_path/\"preprocessed\"/\"paragraphs_clean.pkl\")\n",
    "df.report_id = df.report_id.astype(str)\n",
    "dataset = Dataset.from_pandas(df, preserve_index=False)\n",
    "dataset = dataset.train_test_split(test_size=100_000, seed=950808)\n",
    "dataset[\"zero-shot\"] = dataset.pop(\"test\")\n",
    "train_split = dataset.pop(\"train\")\n",
    "train_split = train_split.train_test_split(test_size=100_000, seed=950808)\n",
    "dataset[\"active-learning\"] = train_split.pop(\"test\")\n",
    "dataset[\"evaluate\"] = train_split.pop(\"train\")\n",
    "dataset.save_to_disk(data_path/\"preprocessed\"/\"dataset\")"
   ]
  }
 ],
 "metadata": {
  "kernelspec": {
   "display_name": ".venv",
   "language": "python",
   "name": "python3"
  },
  "language_info": {
   "codemirror_mode": {
    "name": "ipython",
    "version": 3
   },
   "file_extension": ".py",
   "mimetype": "text/x-python",
   "name": "python",
   "nbconvert_exporter": "python",
   "pygments_lexer": "ipython3",
   "version": "3.10.10"
  }
 },
 "nbformat": 4,
 "nbformat_minor": 2
}

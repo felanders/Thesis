{
 "cells": [
  {
   "cell_type": "code",
   "execution_count": 1,
   "metadata": {},
   "outputs": [],
   "source": [
    "from dotenv import dotenv_values\n",
    "from pathlib import Path\n",
    "import pandas as pd\n",
    "from sklearn.feature_extraction.text import TfidfVectorizer\n",
    "from sklearn import svm\n",
    "from sklearn.pipeline import Pipeline\n",
    "from sklearn.model_selection import GridSearchCV\n",
    "from sklearn.metrics import f1_score, fbeta_score, precision_score, accuracy_score, recall_score\n",
    "\n",
    "# take environment variables from .env.\n",
    "config = dotenv_values(\"./../../config/.env\")\n",
    "base_path = Path(config[\"BASE_PATH\"])\n",
    "data_path = base_path/\"data\"\n",
    "path_10k = data_path/\"raw\"/\"10k\"\n",
    "path_stoxx = data_path/\"raw\"/\"stoxx\"\n",
    "writing_path = base_path/\"writing\"/\"MSc-Thesis-Emerging-Risks\"\n",
    "table_path = writing_path/\"tables\"\n",
    "figure_path = writing_path/\"figures\"/\"plots\""
   ]
  },
  {
   "cell_type": "code",
   "execution_count": 2,
   "metadata": {},
   "outputs": [],
   "source": [
    "df = pd.read_pickle(data_path/\"labeling\"/\"active-learning-iteration-2.pkl\")\n",
    "df_test = pd.read_pickle(data_path/\"labeling\"/\"GT.pkl\")\n",
    "df_test = df_test[df_test.strategy == \"sequential\"]\n",
    "df_test.to_pickle(data_path/\"evaluation\"/\"GT.pkl\")"
   ]
  },
  {
   "cell_type": "code",
   "execution_count": 3,
   "metadata": {},
   "outputs": [],
   "source": [
    "X_train = df[df.labeled][\"text\"].tolist()\n",
    "y_train_l = df[df.labeled][\"loss\"].tolist()\n",
    "y_train_u = df[df.labeled][\"unexpected\"].tolist()\n",
    "X_test = df_test[\"text\"].tolist()\n",
    "y_test_l = df_test[\"loss\"].tolist()\n",
    "y_test_u = df_test[\"unexpected\"].tolist()"
   ]
  },
  {
   "cell_type": "markdown",
   "metadata": {},
   "source": [
    "Find Hyperparameters inspired by:\n",
    "- https://github.com/MoritzLaurer/less-annotating-with-bert-nli/blob/master/analysis-classical-hyperparams.py\n",
    "- https://stackoverflow.com/questions/44066264/how-to-choose-parameters-in-tfidfvectorizer-in-sklearn-during-unsupervised-clust"
   ]
  },
  {
   "cell_type": "markdown",
   "metadata": {},
   "source": [
    "### Loss"
   ]
  },
  {
   "cell_type": "code",
   "execution_count": 4,
   "metadata": {},
   "outputs": [
    {
     "name": "stdout",
     "output_type": "stream",
     "text": [
      "Fitting 2 folds for each of 1152 candidates, totalling 2304 fits\n",
      "Best parameters set:\n",
      "[('tfidf', TfidfVectorizer(max_df=0.9, min_df=0.03, ngram_range=(1, 2),\n",
      "                stop_words='english')), ('clf', SVC(C=100, class_weight='balanced', gamma='auto', kernel='sigmoid'))]\n"
     ]
    }
   ],
   "source": [
    "pipeline = Pipeline([\n",
    "    ('tfidf', TfidfVectorizer(lowercase=True, stop_words='english', norm=\"l2\", use_idf=True, smooth_idf=True, analyzer=\"word\")),\n",
    "    ('clf', svm.SVC()),\n",
    "])\n",
    "parameters = {\n",
    "    'tfidf__max_df': [0.9, 0.8, 0.7],\n",
    "    'tfidf__min_df': [0.01, 0.03, 0.06],\n",
    "    'tfidf__ngram_range': [(1, 2), (1, 3)],\n",
    "    'clf__kernel': [\"linear\", \"poly\", \"rbf\", \"sigmoid\"],\n",
    "    'clf__class_weight': [\"balanced\", None],\n",
    "    'clf__C': [1, 10, 100, 1000],\n",
    "    'clf__gamma': [\"scale\", \"auto\"],\n",
    "}\n",
    "\n",
    "grid_search_tune = GridSearchCV(pipeline, parameters, cv=2, n_jobs=2, verbose=1, scoring=\"f1\")\n",
    "grid_search_tune.fit(X_train, y_train_l)\n",
    "print(\"Best parameters set:\")\n",
    "print(grid_search_tune.best_estimator_.steps)"
   ]
  },
  {
   "cell_type": "code",
   "execution_count": 5,
   "metadata": {},
   "outputs": [
    {
     "name": "stdout",
     "output_type": "stream",
     "text": [
      "F1 0.367\n",
      "Pr 0.272\n",
      "Re 0.562\n",
      "F2 0.463\n",
      "Ac 0.904\n"
     ]
    }
   ],
   "source": [
    "vectorizer_l = TfidfVectorizer(\n",
    "    lowercase=True, \n",
    "    stop_words='english', \n",
    "    norm=\"l2\", \n",
    "    use_idf=True, \n",
    "    smooth_idf=True, \n",
    "    analyzer=\"word\",\n",
    "    max_df=0.9,\n",
    "    min_df=0.03,\n",
    "    ngram_range=(1,2))\n",
    "\n",
    "cls_l = svm.SVC(\n",
    "    kernel=\"sigmoid\",\n",
    "    class_weight=\"balanced\",\n",
    "    C=100,\n",
    "    gamma=\"auto\"\n",
    ")\n",
    "\n",
    "X_train_counts_l = vectorizer_l.fit_transform(X_train)\n",
    "X_test_counts_l = vectorizer_l.transform(X_test)\n",
    "cls_l.fit(X_train_counts_l, y_train_l)\n",
    "y_pred_l = cls_l.predict(X_test_counts_l)\n",
    "\n",
    "print(\"F1\", round(f1_score(y_test_l, y_pred_l, average=\"binary\"),3))\n",
    "print(\"Pr\", round(precision_score(y_test_l, y_pred_l, average=\"binary\", zero_division=0),3))\n",
    "print(\"Re\", round(recall_score(y_test_l, y_pred_l, average=\"binary\"),3))\n",
    "print(\"F2\", round(fbeta_score(y_test_l, y_pred_l, beta=2, average=\"binary\"),3))\n",
    "print(\"Ac\", round(accuracy_score(y_test_l, y_pred_l),3))"
   ]
  },
  {
   "cell_type": "markdown",
   "metadata": {},
   "source": [
    "### Unexpected"
   ]
  },
  {
   "cell_type": "code",
   "execution_count": 6,
   "metadata": {},
   "outputs": [
    {
     "name": "stdout",
     "output_type": "stream",
     "text": [
      "Fitting 2 folds for each of 1152 candidates, totalling 2304 fits\n",
      "Best parameters set:\n",
      "[('tfidf', TfidfVectorizer(max_df=0.9, min_df=0.03, ngram_range=(1, 2),\n",
      "                stop_words='english')), ('clf', SVC(C=100, class_weight='balanced', gamma='auto'))]\n"
     ]
    }
   ],
   "source": [
    "grid_search_tune_u = GridSearchCV(pipeline, parameters, cv=2, n_jobs=2, verbose=1, scoring=\"f1\")\n",
    "grid_search_tune_u.fit(X_train, y_train_u)\n",
    "print(\"Best parameters set:\")\n",
    "print(grid_search_tune_u.best_estimator_.steps)"
   ]
  },
  {
   "cell_type": "code",
   "execution_count": 8,
   "metadata": {},
   "outputs": [
    {
     "name": "stdout",
     "output_type": "stream",
     "text": [
      "F1 0.079\n",
      "Pr 0.042\n",
      "Re 0.762\n",
      "F2 0.171\n",
      "Ac 0.865\n"
     ]
    }
   ],
   "source": [
    "vectorizer_u = TfidfVectorizer(\n",
    "    lowercase=True, \n",
    "    stop_words='english', \n",
    "    norm=\"l2\", \n",
    "    use_idf=True, \n",
    "    smooth_idf=True, \n",
    "    analyzer=\"word\",\n",
    "    max_df=0.9,\n",
    "    min_df=0.03,\n",
    "    ngram_range=(1,2))\n",
    "\n",
    "cls_u = svm.SVC(\n",
    "    kernel=\"sigmoid\",\n",
    "    class_weight=\"balanced\",\n",
    "    C=100,\n",
    "    gamma=\"auto\"\n",
    ")\n",
    "\n",
    "X_train_counts_u = vectorizer_u.fit_transform(X_train)\n",
    "X_test_counts_u = vectorizer_u.transform(X_test)\n",
    "cls_u.fit(X_train_counts_u, y_train_u)\n",
    "y_pred_u = cls_u.predict(X_test_counts_u)\n",
    "\n",
    "print(\"F1\", round(f1_score(y_test_u, y_pred_u, average=\"binary\"),3))\n",
    "print(\"Pr\", round(precision_score(y_test_u, y_pred_u, average=\"binary\", zero_division=0),3))\n",
    "print(\"Re\", round(recall_score(y_test_u, y_pred_u, average=\"binary\"),3))\n",
    "print(\"F2\", round(fbeta_score(y_test_u, y_pred_u, beta=2, average=\"binary\"),3))\n",
    "print(\"Ac\", round(accuracy_score(y_test_u, y_pred_u),3))"
   ]
  }
 ],
 "metadata": {
  "kernelspec": {
   "display_name": ".venv",
   "language": "python",
   "name": "python3"
  },
  "language_info": {
   "codemirror_mode": {
    "name": "ipython",
    "version": 3
   },
   "file_extension": ".py",
   "mimetype": "text/x-python",
   "name": "python",
   "nbconvert_exporter": "python",
   "pygments_lexer": "ipython3",
   "version": "3.10.10"
  }
 },
 "nbformat": 4,
 "nbformat_minor": 2
}

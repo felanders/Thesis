{
 "cells": [
  {
   "cell_type": "code",
   "execution_count": 2,
   "metadata": {},
   "outputs": [],
   "source": [
    "import sys\n",
    "import os\n",
    "import datasets\n",
    "from dotenv import dotenv_values\n",
    "from pathlib import Path\n",
    "from scipy.special import softmax\n",
    "import pandas as pd\n",
    "import numpy as np\n",
    "\n",
    "import matplotlib\n",
    "import matplotlib.pyplot as plt\n",
    "import seaborn as sns\n",
    "import plotly.express as px\n",
    "cmap = matplotlib.cm.RdYlGn\n",
    "\n",
    "# take environment variables from .env.\n",
    "config = dotenv_values(\"./../../config/.env\")\n",
    "base_path = Path(config[\"BASE_PATH\"])\n",
    "data_path = base_path/\"data\"\n",
    "path_10k = data_path/\"raw\"/\"10k\"\n",
    "path_stoxx = data_path/\"raw\"/\"stoxx\"\n",
    "writing_path = base_path/\"writing\"/\"MSc-Thesis-Emerging-Risks\"\n",
    "table_path = writing_path/\"tables\"\n",
    "figure_path = writing_path/\"figures\"/\"plots\"\n",
    "\n",
    "mm = 25.4\n",
    "textwidth = 149/mm\n",
    "\n",
    "# plt.rcParams.keys()\n",
    "aspect =  1.618\n",
    "width = textwidth*0.9\n",
    "height = width / aspect\n",
    "matplotlib.rcParams.update({\n",
    "    \"font.family\": 'sans',  # use serif/main font for text elements\n",
    "    \"font.size\": 7,\n",
    "    \"text.usetex\": False,   # use inline math for ticks\n",
    "    \"pgf.rcfonts\": False,   # don't setup fonts from rc parameters\n",
    "    \"pgf.texsystem\" : \"lualatex\",\n",
    "    \"figure.figsize\": [width, height]})\n",
    "cmap = matplotlib.cm.tab10\n",
    "colors = [cmap(i) for i in range(cmap.N)]\n"
   ]
  },
  {
   "cell_type": "code",
   "execution_count": 3,
   "metadata": {},
   "outputs": [],
   "source": [
    "embedding = os.listdir(base_path/'data/evaluation/topic_models')[0]\n",
    "\n",
    "data_path = base_path/'data/evaluation/topic_models'/embedding\n",
    "\n",
    "df_master = pd.read_csv(data_path/'topic_evaluation_for_python.csv')\n",
    "\n",
    "df_risks = pd.read_pickle(base_path/\"data/preprocessed\"/'df_risk_descriptions.pkl')\n",
    "df_risks = df_risks.drop(\"emb_bge_large_en\", axis=1)\n"
   ]
  },
  {
   "cell_type": "code",
   "execution_count": 4,
   "metadata": {},
   "outputs": [],
   "source": [
    "df_tm = pd.read_pickle(base_path/\"Dashboard/topic_models\"/embedding/\"df.pkl\")\n",
    "df_tm.filing_type = df_tm.filing_type.apply(lambda x: \"PDF\" if x == \".pdf\" else x)\n",
    "df_tm = df_tm.set_index(\"Topic\")"
   ]
  },
  {
   "cell_type": "code",
   "execution_count": 5,
   "metadata": {},
   "outputs": [
    {
     "name": "stdout",
     "output_type": "stream",
     "text": [
      "30_topic_31.csv\n",
      "24_topic_126.csv\n",
      "44_topic_85.csv\n",
      "0-1_topic_-1_sample_of_30.csv\n",
      "21_topic_178.csv\n",
      "51_topic_34.csv\n",
      "36_topic_49.csv\n",
      "13_topic_109.csv\n",
      "52_topic_33.csv\n",
      "42_topic_98.csv\n",
      "41_topic_78.csv\n",
      "33_topic_197.csv\n",
      "15_topic_139.csv\n",
      "54_topic_45.csv\n",
      "1_topic_159.csv\n",
      "20_topic_135.csv\n",
      "29_topic_83.csv\n",
      "48_topic_132.csv\n",
      "26_topic_184.csv\n",
      "35_topic_120.csv\n",
      "38_topic_91.csv\n"
     ]
    },
    {
     "name": "stderr",
     "output_type": "stream",
     "text": [
      "/tmp/ipykernel_148370/4281240930.py:4: FutureWarning: In a future version, object-dtype columns with all-bool values will not be included in reductions with bool_only=True. Explicitly cast to bool dtype instead.\n",
      "  df = pd.concat([df, pd.read_csv(data_path/file_name).iloc[:-1, :]], axis=0)\n",
      "/tmp/ipykernel_148370/4281240930.py:4: FutureWarning: In a future version, object-dtype columns with all-bool values will not be included in reductions with bool_only=True. Explicitly cast to bool dtype instead.\n",
      "  df = pd.concat([df, pd.read_csv(data_path/file_name).iloc[:-1, :]], axis=0)\n",
      "/tmp/ipykernel_148370/4281240930.py:4: FutureWarning: In a future version, object-dtype columns with all-bool values will not be included in reductions with bool_only=True. Explicitly cast to bool dtype instead.\n",
      "  df = pd.concat([df, pd.read_csv(data_path/file_name).iloc[:-1, :]], axis=0)\n",
      "/tmp/ipykernel_148370/4281240930.py:4: FutureWarning: In a future version, object-dtype columns with all-bool values will not be included in reductions with bool_only=True. Explicitly cast to bool dtype instead.\n",
      "  df = pd.concat([df, pd.read_csv(data_path/file_name).iloc[:-1, :]], axis=0)\n",
      "/tmp/ipykernel_148370/4281240930.py:4: FutureWarning: In a future version, object-dtype columns with all-bool values will not be included in reductions with bool_only=True. Explicitly cast to bool dtype instead.\n",
      "  df = pd.concat([df, pd.read_csv(data_path/file_name).iloc[:-1, :]], axis=0)\n",
      "/tmp/ipykernel_148370/4281240930.py:4: FutureWarning: In a future version, object-dtype columns with all-bool values will not be included in reductions with bool_only=True. Explicitly cast to bool dtype instead.\n",
      "  df = pd.concat([df, pd.read_csv(data_path/file_name).iloc[:-1, :]], axis=0)\n",
      "/tmp/ipykernel_148370/4281240930.py:4: FutureWarning: In a future version, object-dtype columns with all-bool values will not be included in reductions with bool_only=True. Explicitly cast to bool dtype instead.\n",
      "  df = pd.concat([df, pd.read_csv(data_path/file_name).iloc[:-1, :]], axis=0)\n",
      "/tmp/ipykernel_148370/4281240930.py:4: FutureWarning: In a future version, object-dtype columns with all-bool values will not be included in reductions with bool_only=True. Explicitly cast to bool dtype instead.\n",
      "  df = pd.concat([df, pd.read_csv(data_path/file_name).iloc[:-1, :]], axis=0)\n",
      "/tmp/ipykernel_148370/4281240930.py:4: FutureWarning: In a future version, object-dtype columns with all-bool values will not be included in reductions with bool_only=True. Explicitly cast to bool dtype instead.\n",
      "  df = pd.concat([df, pd.read_csv(data_path/file_name).iloc[:-1, :]], axis=0)\n",
      "/tmp/ipykernel_148370/4281240930.py:4: FutureWarning: In a future version, object-dtype columns with all-bool values will not be included in reductions with bool_only=True. Explicitly cast to bool dtype instead.\n",
      "  df = pd.concat([df, pd.read_csv(data_path/file_name).iloc[:-1, :]], axis=0)\n",
      "/tmp/ipykernel_148370/4281240930.py:4: FutureWarning: In a future version, object-dtype columns with all-bool values will not be included in reductions with bool_only=True. Explicitly cast to bool dtype instead.\n",
      "  df = pd.concat([df, pd.read_csv(data_path/file_name).iloc[:-1, :]], axis=0)\n",
      "/tmp/ipykernel_148370/4281240930.py:4: FutureWarning: In a future version, object-dtype columns with all-bool values will not be included in reductions with bool_only=True. Explicitly cast to bool dtype instead.\n",
      "  df = pd.concat([df, pd.read_csv(data_path/file_name).iloc[:-1, :]], axis=0)\n",
      "/tmp/ipykernel_148370/4281240930.py:4: FutureWarning: In a future version, object-dtype columns with all-bool values will not be included in reductions with bool_only=True. Explicitly cast to bool dtype instead.\n",
      "  df = pd.concat([df, pd.read_csv(data_path/file_name).iloc[:-1, :]], axis=0)\n",
      "/tmp/ipykernel_148370/4281240930.py:4: FutureWarning: In a future version, object-dtype columns with all-bool values will not be included in reductions with bool_only=True. Explicitly cast to bool dtype instead.\n",
      "  df = pd.concat([df, pd.read_csv(data_path/file_name).iloc[:-1, :]], axis=0)\n",
      "/tmp/ipykernel_148370/4281240930.py:4: FutureWarning: In a future version, object-dtype columns with all-bool values will not be included in reductions with bool_only=True. Explicitly cast to bool dtype instead.\n",
      "  df = pd.concat([df, pd.read_csv(data_path/file_name).iloc[:-1, :]], axis=0)\n",
      "/tmp/ipykernel_148370/4281240930.py:4: FutureWarning: In a future version, object-dtype columns with all-bool values will not be included in reductions with bool_only=True. Explicitly cast to bool dtype instead.\n",
      "  df = pd.concat([df, pd.read_csv(data_path/file_name).iloc[:-1, :]], axis=0)\n",
      "/tmp/ipykernel_148370/4281240930.py:4: FutureWarning: In a future version, object-dtype columns with all-bool values will not be included in reductions with bool_only=True. Explicitly cast to bool dtype instead.\n",
      "  df = pd.concat([df, pd.read_csv(data_path/file_name).iloc[:-1, :]], axis=0)\n",
      "/tmp/ipykernel_148370/4281240930.py:4: FutureWarning: In a future version, object-dtype columns with all-bool values will not be included in reductions with bool_only=True. Explicitly cast to bool dtype instead.\n",
      "  df = pd.concat([df, pd.read_csv(data_path/file_name).iloc[:-1, :]], axis=0)\n",
      "/tmp/ipykernel_148370/4281240930.py:4: FutureWarning: In a future version, object-dtype columns with all-bool values will not be included in reductions with bool_only=True. Explicitly cast to bool dtype instead.\n",
      "  df = pd.concat([df, pd.read_csv(data_path/file_name).iloc[:-1, :]], axis=0)\n",
      "/tmp/ipykernel_148370/4281240930.py:4: FutureWarning: In a future version, object-dtype columns with all-bool values will not be included in reductions with bool_only=True. Explicitly cast to bool dtype instead.\n",
      "  df = pd.concat([df, pd.read_csv(data_path/file_name).iloc[:-1, :]], axis=0)\n",
      "/tmp/ipykernel_148370/4281240930.py:4: FutureWarning: In a future version, object-dtype columns with all-bool values will not be included in reductions with bool_only=True. Explicitly cast to bool dtype instead.\n",
      "  df = pd.concat([df, pd.read_csv(data_path/file_name).iloc[:-1, :]], axis=0)\n",
      "/tmp/ipykernel_148370/4281240930.py:4: FutureWarning: In a future version, object-dtype columns with all-bool values will not be included in reductions with bool_only=True. Explicitly cast to bool dtype instead.\n",
      "  df = pd.concat([df, pd.read_csv(data_path/file_name).iloc[:-1, :]], axis=0)\n",
      "/tmp/ipykernel_148370/4281240930.py:4: FutureWarning: In a future version, object-dtype columns with all-bool values will not be included in reductions with bool_only=True. Explicitly cast to bool dtype instead.\n",
      "  df = pd.concat([df, pd.read_csv(data_path/file_name).iloc[:-1, :]], axis=0)\n",
      "/tmp/ipykernel_148370/4281240930.py:4: FutureWarning: In a future version, object-dtype columns with all-bool values will not be included in reductions with bool_only=True. Explicitly cast to bool dtype instead.\n",
      "  df = pd.concat([df, pd.read_csv(data_path/file_name).iloc[:-1, :]], axis=0)\n"
     ]
    },
    {
     "name": "stdout",
     "output_type": "stream",
     "text": [
      "11_topic_59.csv\n",
      "25_topic_201.csv\n",
      "4_topic_116.csv\n",
      "7_topic_119.csv\n",
      "8_topic_155.csv\n",
      "2_topic_196.csv\n",
      "5_topic_193.csv\n",
      "43_topic_148.csv\n",
      "57_topic_2.csv\n",
      "10_topic_194.csv\n",
      "3_topic_161.csv\n",
      "55_topic_19.csv\n",
      "17_topic_160.csv\n",
      "9_topic_162.csv\n",
      "56_topic_1.csv\n",
      "50_topic_46.csv\n",
      "16_topic_97.csv\n",
      "47_topic_52.csv\n",
      "32_topic_57.csv\n",
      "28_topic_53.csv\n",
      "34_topic_61.csv\n",
      "37_topic_58.csv\n"
     ]
    },
    {
     "name": "stderr",
     "output_type": "stream",
     "text": [
      "/tmp/ipykernel_148370/4281240930.py:4: FutureWarning: In a future version, object-dtype columns with all-bool values will not be included in reductions with bool_only=True. Explicitly cast to bool dtype instead.\n",
      "  df = pd.concat([df, pd.read_csv(data_path/file_name).iloc[:-1, :]], axis=0)\n",
      "/tmp/ipykernel_148370/4281240930.py:4: FutureWarning: In a future version, object-dtype columns with all-bool values will not be included in reductions with bool_only=True. Explicitly cast to bool dtype instead.\n",
      "  df = pd.concat([df, pd.read_csv(data_path/file_name).iloc[:-1, :]], axis=0)\n",
      "/tmp/ipykernel_148370/4281240930.py:4: FutureWarning: In a future version, object-dtype columns with all-bool values will not be included in reductions with bool_only=True. Explicitly cast to bool dtype instead.\n",
      "  df = pd.concat([df, pd.read_csv(data_path/file_name).iloc[:-1, :]], axis=0)\n",
      "/tmp/ipykernel_148370/4281240930.py:4: FutureWarning: In a future version, object-dtype columns with all-bool values will not be included in reductions with bool_only=True. Explicitly cast to bool dtype instead.\n",
      "  df = pd.concat([df, pd.read_csv(data_path/file_name).iloc[:-1, :]], axis=0)\n",
      "/tmp/ipykernel_148370/4281240930.py:4: FutureWarning: In a future version, object-dtype columns with all-bool values will not be included in reductions with bool_only=True. Explicitly cast to bool dtype instead.\n",
      "  df = pd.concat([df, pd.read_csv(data_path/file_name).iloc[:-1, :]], axis=0)\n",
      "/tmp/ipykernel_148370/4281240930.py:4: FutureWarning: In a future version, object-dtype columns with all-bool values will not be included in reductions with bool_only=True. Explicitly cast to bool dtype instead.\n",
      "  df = pd.concat([df, pd.read_csv(data_path/file_name).iloc[:-1, :]], axis=0)\n",
      "/tmp/ipykernel_148370/4281240930.py:4: FutureWarning: In a future version, object-dtype columns with all-bool values will not be included in reductions with bool_only=True. Explicitly cast to bool dtype instead.\n",
      "  df = pd.concat([df, pd.read_csv(data_path/file_name).iloc[:-1, :]], axis=0)\n",
      "/tmp/ipykernel_148370/4281240930.py:4: FutureWarning: In a future version, object-dtype columns with all-bool values will not be included in reductions with bool_only=True. Explicitly cast to bool dtype instead.\n",
      "  df = pd.concat([df, pd.read_csv(data_path/file_name).iloc[:-1, :]], axis=0)\n",
      "/tmp/ipykernel_148370/4281240930.py:4: FutureWarning: In a future version, object-dtype columns with all-bool values will not be included in reductions with bool_only=True. Explicitly cast to bool dtype instead.\n",
      "  df = pd.concat([df, pd.read_csv(data_path/file_name).iloc[:-1, :]], axis=0)\n",
      "/tmp/ipykernel_148370/4281240930.py:4: FutureWarning: In a future version, object-dtype columns with all-bool values will not be included in reductions with bool_only=True. Explicitly cast to bool dtype instead.\n",
      "  df = pd.concat([df, pd.read_csv(data_path/file_name).iloc[:-1, :]], axis=0)\n",
      "/tmp/ipykernel_148370/4281240930.py:4: FutureWarning: In a future version, object-dtype columns with all-bool values will not be included in reductions with bool_only=True. Explicitly cast to bool dtype instead.\n",
      "  df = pd.concat([df, pd.read_csv(data_path/file_name).iloc[:-1, :]], axis=0)\n",
      "/tmp/ipykernel_148370/4281240930.py:4: FutureWarning: In a future version, object-dtype columns with all-bool values will not be included in reductions with bool_only=True. Explicitly cast to bool dtype instead.\n",
      "  df = pd.concat([df, pd.read_csv(data_path/file_name).iloc[:-1, :]], axis=0)\n",
      "/tmp/ipykernel_148370/4281240930.py:4: FutureWarning: In a future version, object-dtype columns with all-bool values will not be included in reductions with bool_only=True. Explicitly cast to bool dtype instead.\n",
      "  df = pd.concat([df, pd.read_csv(data_path/file_name).iloc[:-1, :]], axis=0)\n",
      "/tmp/ipykernel_148370/4281240930.py:4: FutureWarning: In a future version, object-dtype columns with all-bool values will not be included in reductions with bool_only=True. Explicitly cast to bool dtype instead.\n",
      "  df = pd.concat([df, pd.read_csv(data_path/file_name).iloc[:-1, :]], axis=0)\n",
      "/tmp/ipykernel_148370/4281240930.py:4: FutureWarning: In a future version, object-dtype columns with all-bool values will not be included in reductions with bool_only=True. Explicitly cast to bool dtype instead.\n",
      "  df = pd.concat([df, pd.read_csv(data_path/file_name).iloc[:-1, :]], axis=0)\n",
      "/tmp/ipykernel_148370/4281240930.py:4: FutureWarning: In a future version, object-dtype columns with all-bool values will not be included in reductions with bool_only=True. Explicitly cast to bool dtype instead.\n",
      "  df = pd.concat([df, pd.read_csv(data_path/file_name).iloc[:-1, :]], axis=0)\n",
      "/tmp/ipykernel_148370/4281240930.py:4: FutureWarning: In a future version, object-dtype columns with all-bool values will not be included in reductions with bool_only=True. Explicitly cast to bool dtype instead.\n",
      "  df = pd.concat([df, pd.read_csv(data_path/file_name).iloc[:-1, :]], axis=0)\n",
      "/tmp/ipykernel_148370/4281240930.py:4: FutureWarning: In a future version, object-dtype columns with all-bool values will not be included in reductions with bool_only=True. Explicitly cast to bool dtype instead.\n",
      "  df = pd.concat([df, pd.read_csv(data_path/file_name).iloc[:-1, :]], axis=0)\n",
      "/tmp/ipykernel_148370/4281240930.py:4: FutureWarning: In a future version, object-dtype columns with all-bool values will not be included in reductions with bool_only=True. Explicitly cast to bool dtype instead.\n",
      "  df = pd.concat([df, pd.read_csv(data_path/file_name).iloc[:-1, :]], axis=0)\n",
      "/tmp/ipykernel_148370/4281240930.py:4: FutureWarning: In a future version, object-dtype columns with all-bool values will not be included in reductions with bool_only=True. Explicitly cast to bool dtype instead.\n",
      "  df = pd.concat([df, pd.read_csv(data_path/file_name).iloc[:-1, :]], axis=0)\n",
      "/tmp/ipykernel_148370/4281240930.py:4: FutureWarning: In a future version, object-dtype columns with all-bool values will not be included in reductions with bool_only=True. Explicitly cast to bool dtype instead.\n",
      "  df = pd.concat([df, pd.read_csv(data_path/file_name).iloc[:-1, :]], axis=0)\n"
     ]
    },
    {
     "name": "stdout",
     "output_type": "stream",
     "text": [
      "0_topic_8.csv\n",
      "12_topic_81.csv\n",
      "18_topic_110.csv\n",
      "45_topic_27.csv\n",
      "31_topic_127.csv\n",
      "14_topic_113.csv\n",
      "53_topic_9.csv\n",
      "19_topic_143.csv\n",
      "49_topic_24.csv\n",
      "6_topic_118.csv\n",
      "27_topic_150.csv\n",
      "39_topic_40.csv\n",
      "23_topic_62.csv\n",
      "22_topic_30.csv\n",
      "40_topic_84.csv\n",
      "46_topic_117.csv\n"
     ]
    },
    {
     "name": "stderr",
     "output_type": "stream",
     "text": [
      "/tmp/ipykernel_148370/4281240930.py:4: FutureWarning: In a future version, object-dtype columns with all-bool values will not be included in reductions with bool_only=True. Explicitly cast to bool dtype instead.\n",
      "  df = pd.concat([df, pd.read_csv(data_path/file_name).iloc[:-1, :]], axis=0)\n",
      "/tmp/ipykernel_148370/4281240930.py:4: FutureWarning: In a future version, object-dtype columns with all-bool values will not be included in reductions with bool_only=True. Explicitly cast to bool dtype instead.\n",
      "  df = pd.concat([df, pd.read_csv(data_path/file_name).iloc[:-1, :]], axis=0)\n",
      "/tmp/ipykernel_148370/4281240930.py:4: FutureWarning: In a future version, object-dtype columns with all-bool values will not be included in reductions with bool_only=True. Explicitly cast to bool dtype instead.\n",
      "  df = pd.concat([df, pd.read_csv(data_path/file_name).iloc[:-1, :]], axis=0)\n",
      "/tmp/ipykernel_148370/4281240930.py:4: FutureWarning: In a future version, object-dtype columns with all-bool values will not be included in reductions with bool_only=True. Explicitly cast to bool dtype instead.\n",
      "  df = pd.concat([df, pd.read_csv(data_path/file_name).iloc[:-1, :]], axis=0)\n",
      "/tmp/ipykernel_148370/4281240930.py:4: FutureWarning: In a future version, object-dtype columns with all-bool values will not be included in reductions with bool_only=True. Explicitly cast to bool dtype instead.\n",
      "  df = pd.concat([df, pd.read_csv(data_path/file_name).iloc[:-1, :]], axis=0)\n"
     ]
    }
   ],
   "source": [
    "df = pd.DataFrame()\n",
    "for file_name in os.listdir(data_path):\n",
    "    if file_name.split(\"_\")[1] == \"topic\":\n",
    "        df = pd.concat([df, pd.read_csv(data_path/file_name).iloc[:-1, :]], axis=0)\n",
    "        print(file_name)\n",
    "df_catchall = df[df.Topic==-1]\n",
    "df = df[df.Topic!=-1]\n",
    "\n",
    "stats_topics = df.groupby(\"Topic\").agg({\"text\": \"count\", \"unexpected_loss\": \"mean\", \"relatedness_bianchi\": \"mean\", \"relatedness_hoyle\": \"mean\"}).rename(columns={\"text\": \"Count\"})"
   ]
  },
  {
   "cell_type": "markdown",
   "metadata": {},
   "source": [
    "# Keyword search and finding report indices"
   ]
  },
  {
   "cell_type": "code",
   "execution_count": 12,
   "metadata": {},
   "outputs": [
    {
     "data": {
      "text/html": [
       "<div>\n",
       "<style scoped>\n",
       "    .dataframe tbody tr th:only-of-type {\n",
       "        vertical-align: middle;\n",
       "    }\n",
       "\n",
       "    .dataframe tbody tr th {\n",
       "        vertical-align: top;\n",
       "    }\n",
       "\n",
       "    .dataframe thead th {\n",
       "        text-align: right;\n",
       "    }\n",
       "</style>\n",
       "<table border=\"1\" class=\"dataframe\">\n",
       "  <thead>\n",
       "    <tr style=\"text-align: right;\">\n",
       "      <th></th>\n",
       "      <th>Title</th>\n",
       "      <th>Description</th>\n",
       "      <th>Year</th>\n",
       "      <th>Source</th>\n",
       "    </tr>\n",
       "  </thead>\n",
       "  <tbody>\n",
       "    <tr>\n",
       "      <th>214</th>\n",
       "      <td>Shifting land use - uncertainties for real est...</td>\n",
       "      <td>Recent decades in the developed markets have w...</td>\n",
       "      <td>2017</td>\n",
       "      <td>Sonar - external</td>\n",
       "    </tr>\n",
       "    <tr>\n",
       "      <th>264</th>\n",
       "      <td>Risky bets? Insurance demand in an age of shif...</td>\n",
       "      <td>Globally, too many people are un- or underinsu...</td>\n",
       "      <td>2019</td>\n",
       "      <td>Sonar - external</td>\n",
       "    </tr>\n",
       "    <tr>\n",
       "      <th>265</th>\n",
       "      <td>Shifting litigation regimes</td>\n",
       "      <td>Litigation funding and class actions especiall...</td>\n",
       "      <td>2019</td>\n",
       "      <td>Sonar - external</td>\n",
       "    </tr>\n",
       "    <tr>\n",
       "      <th>387</th>\n",
       "      <td>Shifting geopolitical landscape / war risk</td>\n",
       "      <td>Together with a general relative shift of glob...</td>\n",
       "      <td>2016</td>\n",
       "      <td>Other</td>\n",
       "    </tr>\n",
       "    <tr>\n",
       "      <th>388</th>\n",
       "      <td>Shifting range of pathogens</td>\n",
       "      <td>Due to the impacts of climate change and an ev...</td>\n",
       "      <td>2016</td>\n",
       "      <td>Other</td>\n",
       "    </tr>\n",
       "    <tr>\n",
       "      <th>1009</th>\n",
       "      <td>Shifting  Geopolitical  Landscape</td>\n",
       "      <td>After the recent period of Western-based liber...</td>\n",
       "      <td>2020</td>\n",
       "      <td>Other</td>\n",
       "    </tr>\n",
       "    <tr>\n",
       "      <th>1046</th>\n",
       "      <td>Shifting Range of Pathogens</td>\n",
       "      <td>Due to the impacts of climate change, trade an...</td>\n",
       "      <td>2020</td>\n",
       "      <td>Other</td>\n",
       "    </tr>\n",
       "    <tr>\n",
       "      <th>1056</th>\n",
       "      <td>Shifting  Geopolitical  Landscape</td>\n",
       "      <td>After the recent period of Western-based liber...</td>\n",
       "      <td>2021</td>\n",
       "      <td>Other</td>\n",
       "    </tr>\n",
       "    <tr>\n",
       "      <th>1092</th>\n",
       "      <td>Shifting Range of Pathogens</td>\n",
       "      <td>Due to the impacts of climate change, trade an...</td>\n",
       "      <td>2021</td>\n",
       "      <td>Other</td>\n",
       "    </tr>\n",
       "    <tr>\n",
       "      <th>1101</th>\n",
       "      <td>Shifting  Geopolitical  Landscape</td>\n",
       "      <td>The recent period of Western-based liberalisat...</td>\n",
       "      <td>2022</td>\n",
       "      <td>Other</td>\n",
       "    </tr>\n",
       "  </tbody>\n",
       "</table>\n",
       "</div>"
      ],
      "text/plain": [
       "                                                  Title  \\\n",
       "214   Shifting land use - uncertainties for real est...   \n",
       "264   Risky bets? Insurance demand in an age of shif...   \n",
       "265                         Shifting litigation regimes   \n",
       "387          Shifting geopolitical landscape / war risk   \n",
       "388                         Shifting range of pathogens   \n",
       "1009                  Shifting  Geopolitical  Landscape   \n",
       "1046                        Shifting Range of Pathogens   \n",
       "1056                  Shifting  Geopolitical  Landscape   \n",
       "1092                        Shifting Range of Pathogens   \n",
       "1101                  Shifting  Geopolitical  Landscape   \n",
       "\n",
       "                                            Description  Year  \\\n",
       "214   Recent decades in the developed markets have w...  2017   \n",
       "264   Globally, too many people are un- or underinsu...  2019   \n",
       "265   Litigation funding and class actions especiall...  2019   \n",
       "387   Together with a general relative shift of glob...  2016   \n",
       "388   Due to the impacts of climate change and an ev...  2016   \n",
       "1009  After the recent period of Western-based liber...  2020   \n",
       "1046  Due to the impacts of climate change, trade an...  2020   \n",
       "1056  After the recent period of Western-based liber...  2021   \n",
       "1092  Due to the impacts of climate change, trade an...  2021   \n",
       "1101  The recent period of Western-based liberalisat...  2022   \n",
       "\n",
       "                Source  \n",
       "214   Sonar - external  \n",
       "264   Sonar - external  \n",
       "265   Sonar - external  \n",
       "387              Other  \n",
       "388              Other  \n",
       "1009             Other  \n",
       "1046             Other  \n",
       "1056             Other  \n",
       "1092             Other  \n",
       "1101             Other  "
      ]
     },
     "execution_count": 12,
     "metadata": {},
     "output_type": "execute_result"
    }
   ],
   "source": [
    "source = \"\"\n",
    "kw = \"shifti\"\n",
    "year = 2000\n",
    "df_risks[df_risks.Source.str.lower().str.contains(source)&df_risks.Title.str.lower().str.contains(kw)&(df_risks.Year != year)]"
   ]
  },
  {
   "cell_type": "code",
   "execution_count": null,
   "metadata": {},
   "outputs": [
    {
     "data": {
      "text/plain": [
       "'Legal actions drive changing claims patterns'"
      ]
     },
     "metadata": {},
     "output_type": "display_data"
    }
   ],
   "source": [
    "df_risks.loc[11].Title"
   ]
  },
  {
   "cell_type": "code",
   "execution_count": null,
   "metadata": {},
   "outputs": [
    {
     "data": {
      "text/plain": [
       "\"Workplace safety in the western world has increased significantly during the last decades. However, new hazards are still developing. Workplace exposure to organic solvents, for instance, has recently been linked to heart defects in new-borns. The synthetic chemical PFOA, for instance, which is used in products such as lubricants or paper coatings may increase the likelihood of heart disease and stroke. Regulatory changes may also change the risk exposure. In the case of lead, for example, recent studies have shown that blood lead levels below the threshold deemed safe could already cause various health problems. Furthermore, liability may generally become easier to establish for various substances with increased scientific evidence and decreased legal barriers. Demographic shifts also create increasing pressure towards prolonging individuals' work life, which may also increase the detrimental health impacts of toxic substances at the workplace. These developments could have an impact on product liability, workers' compensation and pollution liability covers. \""
      ]
     },
     "metadata": {},
     "output_type": "display_data"
    }
   ],
   "source": [
    "df_risks.loc[21].Description"
   ]
  },
  {
   "cell_type": "markdown",
   "metadata": {},
   "source": [
    "# Overview Stats"
   ]
  },
  {
   "cell_type": "code",
   "execution_count": 6,
   "metadata": {},
   "outputs": [
    {
     "name": "stdout",
     "output_type": "stream",
     "text": [
      "Descriptiveness: 2.362\n",
      "Title Quality: 1.948\n"
     ]
    }
   ],
   "source": [
    "likert_bianchi_map =  {-2: 0, -1: 1, 1:2, 2:3}\n",
    "print(\"Descriptiveness:\", round(df_master.descriptiveness.apply(lambda x: likert_bianchi_map[x]).mean(), 3))\n",
    "print(\"Title Quality:\", round(df_master.title_quality.apply(lambda x: likert_bianchi_map[x]).mean(), 3))"
   ]
  },
  {
   "cell_type": "code",
   "execution_count": 18,
   "metadata": {},
   "outputs": [
    {
     "data": {
      "text/plain": [
       "0    36\n",
       "1    22\n",
       "Name: has_cause, dtype: int64"
      ]
     },
     "execution_count": 18,
     "metadata": {},
     "output_type": "execute_result"
    }
   ],
   "source": [
    "df_master.has_cause.value_counts()"
   ]
  },
  {
   "cell_type": "code",
   "execution_count": 19,
   "metadata": {},
   "outputs": [
    {
     "name": "stdout",
     "output_type": "stream",
     "text": [
      "Has Cause percent: 37.9\n"
     ]
    }
   ],
   "source": [
    "print(\"Has Cause percent:\", round(df_master.has_cause.mean(), 3) *100)"
   ]
  },
  {
   "cell_type": "code",
   "execution_count": 14,
   "metadata": {},
   "outputs": [
    {
     "data": {
      "text/html": [
       "<div>\n",
       "<style scoped>\n",
       "    .dataframe tbody tr th:only-of-type {\n",
       "        vertical-align: middle;\n",
       "    }\n",
       "\n",
       "    .dataframe tbody tr th {\n",
       "        vertical-align: top;\n",
       "    }\n",
       "\n",
       "    .dataframe thead th {\n",
       "        text-align: right;\n",
       "    }\n",
       "</style>\n",
       "<table border=\"1\" class=\"dataframe\">\n",
       "  <thead>\n",
       "    <tr style=\"text-align: right;\">\n",
       "      <th></th>\n",
       "      <th>report_id</th>\n",
       "      <th>text</th>\n",
       "      <th>n_chunks</th>\n",
       "      <th>n_sentences</th>\n",
       "      <th>n_words</th>\n",
       "      <th>company</th>\n",
       "      <th>filing_type</th>\n",
       "      <th>Year</th>\n",
       "      <th>x</th>\n",
       "      <th>y</th>\n",
       "      <th>probs</th>\n",
       "      <th>Topic_Name</th>\n",
       "      <th>text_wrapped</th>\n",
       "    </tr>\n",
       "    <tr>\n",
       "      <th>Topic</th>\n",
       "      <th></th>\n",
       "      <th></th>\n",
       "      <th></th>\n",
       "      <th></th>\n",
       "      <th></th>\n",
       "      <th></th>\n",
       "      <th></th>\n",
       "      <th></th>\n",
       "      <th></th>\n",
       "      <th></th>\n",
       "      <th></th>\n",
       "      <th></th>\n",
       "      <th></th>\n",
       "    </tr>\n",
       "  </thead>\n",
       "  <tbody>\n",
       "    <tr>\n",
       "      <th>-1</th>\n",
       "      <td>10</td>\n",
       "      <td>In management's opinion, ICH made significant ...</td>\n",
       "      <td>1</td>\n",
       "      <td>3</td>\n",
       "      <td>105</td>\n",
       "      <td>ICH CORP</td>\n",
       "      <td>10-K</td>\n",
       "      <td>1993</td>\n",
       "      <td>2.972630</td>\n",
       "      <td>5.460554</td>\n",
       "      <td>0.000000</td>\n",
       "      <td>No Topic</td>\n",
       "      <td>In management's opinion, ICH made significant ...</td>\n",
       "    </tr>\n",
       "    <tr>\n",
       "      <th>39</th>\n",
       "      <td>10</td>\n",
       "      <td>During the last half of 1993, Philadelphia Ame...</td>\n",
       "      <td>1</td>\n",
       "      <td>1</td>\n",
       "      <td>38</td>\n",
       "      <td>ICH CORP</td>\n",
       "      <td>10-K</td>\n",
       "      <td>1993</td>\n",
       "      <td>3.353310</td>\n",
       "      <td>4.818595</td>\n",
       "      <td>0.823143</td>\n",
       "      <td>T 39: Mortality, Mortality experience, Indicat...</td>\n",
       "      <td>During the last half of 1993, Philadelphia Ame...</td>\n",
       "    </tr>\n",
       "    <tr>\n",
       "      <th>14</th>\n",
       "      <td>1000</td>\n",
       "      <td>The increased losses resulted from both advers...</td>\n",
       "      <td>1</td>\n",
       "      <td>1</td>\n",
       "      <td>20</td>\n",
       "      <td>LOEWS CORP</td>\n",
       "      <td>10-K</td>\n",
       "      <td>1998</td>\n",
       "      <td>8.771750</td>\n",
       "      <td>4.084311</td>\n",
       "      <td>0.446972</td>\n",
       "      <td>T 14: Adverse development, Adverse, Satellite,...</td>\n",
       "      <td>The increased losses resulted from both advers...</td>\n",
       "    </tr>\n",
       "    <tr>\n",
       "      <th>-1</th>\n",
       "      <td>1002</td>\n",
       "      <td>Just as in 1992 when Mother Nature decided to ...</td>\n",
       "      <td>1</td>\n",
       "      <td>3</td>\n",
       "      <td>83</td>\n",
       "      <td>UNITED FIRE &amp; CASUALTY CO</td>\n",
       "      <td>10-K</td>\n",
       "      <td>1998</td>\n",
       "      <td>5.590752</td>\n",
       "      <td>2.852806</td>\n",
       "      <td>0.000000</td>\n",
       "      <td>No Topic</td>\n",
       "      <td>Just as in 1992 when Mother Nature decided to ...</td>\n",
       "    </tr>\n",
       "    <tr>\n",
       "      <th>51</th>\n",
       "      <td>1008</td>\n",
       "      <td>Expenses for 1998 were unusually high primaril...</td>\n",
       "      <td>1</td>\n",
       "      <td>2</td>\n",
       "      <td>48</td>\n",
       "      <td>NATIONAL WESTERN LIFE INSURANCE CO</td>\n",
       "      <td>10-K</td>\n",
       "      <td>1998</td>\n",
       "      <td>3.003181</td>\n",
       "      <td>6.618177</td>\n",
       "      <td>0.661435</td>\n",
       "      <td>T 51: Tax, Effective, Tax rate, Effective tax</td>\n",
       "      <td>Expenses for 1998 were unusually high primaril...</td>\n",
       "    </tr>\n",
       "    <tr>\n",
       "      <th>...</th>\n",
       "      <td>...</td>\n",
       "      <td>...</td>\n",
       "      <td>...</td>\n",
       "      <td>...</td>\n",
       "      <td>...</td>\n",
       "      <td>...</td>\n",
       "      <td>...</td>\n",
       "      <td>...</td>\n",
       "      <td>...</td>\n",
       "      <td>...</td>\n",
       "      <td>...</td>\n",
       "      <td>...</td>\n",
       "      <td>...</td>\n",
       "    </tr>\n",
       "    <tr>\n",
       "      <th>104</th>\n",
       "      <td>gb_prudential-AR_2018</td>\n",
       "      <td>EEV non-operating items Negative short-term fl...</td>\n",
       "      <td>1</td>\n",
       "      <td>1</td>\n",
       "      <td>43</td>\n",
       "      <td>gb_prudential</td>\n",
       "      <td>PDF</td>\n",
       "      <td>2018</td>\n",
       "      <td>0.244307</td>\n",
       "      <td>2.970795</td>\n",
       "      <td>1.000000</td>\n",
       "      <td>T 104: Negative, Short term, Term fluctuations...</td>\n",
       "      <td>EEV non-operating items Negative short-term fl...</td>\n",
       "    </tr>\n",
       "    <tr>\n",
       "      <th>63</th>\n",
       "      <td>nl_ing_grp-AR_2010</td>\n",
       "      <td>As a result of the ongoing and unprecedented v...</td>\n",
       "      <td>1</td>\n",
       "      <td>1</td>\n",
       "      <td>40</td>\n",
       "      <td>nl_ing_grp</td>\n",
       "      <td>PDF</td>\n",
       "      <td>2010</td>\n",
       "      <td>-0.061841</td>\n",
       "      <td>2.034062</td>\n",
       "      <td>0.190004</td>\n",
       "      <td>T 63: Unprecedented volatility, Ongoing unprec...</td>\n",
       "      <td>As a result of the ongoing and unprecedented v...</td>\n",
       "    </tr>\n",
       "    <tr>\n",
       "      <th>63</th>\n",
       "      <td>nl_ing_grp-AR_2011</td>\n",
       "      <td>As a result of the ongoing and unprecedented v...</td>\n",
       "      <td>1</td>\n",
       "      <td>1</td>\n",
       "      <td>40</td>\n",
       "      <td>nl_ing_grp</td>\n",
       "      <td>PDF</td>\n",
       "      <td>2011</td>\n",
       "      <td>0.037348</td>\n",
       "      <td>2.256469</td>\n",
       "      <td>1.000000</td>\n",
       "      <td>T 63: Unprecedented volatility, Ongoing unprec...</td>\n",
       "      <td>As a result of the ongoing and unprecedented v...</td>\n",
       "    </tr>\n",
       "    <tr>\n",
       "      <th>63</th>\n",
       "      <td>nl_ing_grp-AR_2012</td>\n",
       "      <td>As a result of the ongoing and unprecedented v...</td>\n",
       "      <td>1</td>\n",
       "      <td>1</td>\n",
       "      <td>42</td>\n",
       "      <td>nl_ing_grp</td>\n",
       "      <td>PDF</td>\n",
       "      <td>2012</td>\n",
       "      <td>0.054383</td>\n",
       "      <td>2.348704</td>\n",
       "      <td>0.900342</td>\n",
       "      <td>T 63: Unprecedented volatility, Ongoing unprec...</td>\n",
       "      <td>As a result of the ongoing and unprecedented v...</td>\n",
       "    </tr>\n",
       "    <tr>\n",
       "      <th>-1</th>\n",
       "      <td>nl_ing_grp-AR_2016</td>\n",
       "      <td>Uncertain external environment 2016 was a year...</td>\n",
       "      <td>1</td>\n",
       "      <td>5</td>\n",
       "      <td>85</td>\n",
       "      <td>nl_ing_grp</td>\n",
       "      <td>PDF</td>\n",
       "      <td>2016</td>\n",
       "      <td>-0.052787</td>\n",
       "      <td>1.142984</td>\n",
       "      <td>0.000000</td>\n",
       "      <td>No Topic</td>\n",
       "      <td>Uncertain external environment 2016 was a year...</td>\n",
       "    </tr>\n",
       "  </tbody>\n",
       "</table>\n",
       "<p>5824 rows × 13 columns</p>\n",
       "</div>"
      ],
      "text/plain": [
       "                   report_id  \\\n",
       "Topic                          \n",
       "-1                        10   \n",
       " 39                       10   \n",
       " 14                     1000   \n",
       "-1                      1002   \n",
       " 51                     1008   \n",
       "...                      ...   \n",
       " 104   gb_prudential-AR_2018   \n",
       " 63       nl_ing_grp-AR_2010   \n",
       " 63       nl_ing_grp-AR_2011   \n",
       " 63       nl_ing_grp-AR_2012   \n",
       "-1        nl_ing_grp-AR_2016   \n",
       "\n",
       "                                                    text  n_chunks  \\\n",
       "Topic                                                                \n",
       "-1     In management's opinion, ICH made significant ...         1   \n",
       " 39    During the last half of 1993, Philadelphia Ame...         1   \n",
       " 14    The increased losses resulted from both advers...         1   \n",
       "-1     Just as in 1992 when Mother Nature decided to ...         1   \n",
       " 51    Expenses for 1998 were unusually high primaril...         1   \n",
       "...                                                  ...       ...   \n",
       " 104   EEV non-operating items Negative short-term fl...         1   \n",
       " 63    As a result of the ongoing and unprecedented v...         1   \n",
       " 63    As a result of the ongoing and unprecedented v...         1   \n",
       " 63    As a result of the ongoing and unprecedented v...         1   \n",
       "-1     Uncertain external environment 2016 was a year...         1   \n",
       "\n",
       "       n_sentences  n_words                             company filing_type  \\\n",
       "Topic                                                                         \n",
       "-1               3      105                            ICH CORP        10-K   \n",
       " 39              1       38                            ICH CORP        10-K   \n",
       " 14              1       20                          LOEWS CORP        10-K   \n",
       "-1               3       83           UNITED FIRE & CASUALTY CO        10-K   \n",
       " 51              2       48  NATIONAL WESTERN LIFE INSURANCE CO        10-K   \n",
       "...            ...      ...                                 ...         ...   \n",
       " 104             1       43                       gb_prudential         PDF   \n",
       " 63              1       40                          nl_ing_grp         PDF   \n",
       " 63              1       40                          nl_ing_grp         PDF   \n",
       " 63              1       42                          nl_ing_grp         PDF   \n",
       "-1               5       85                          nl_ing_grp         PDF   \n",
       "\n",
       "       Year         x         y     probs  \\\n",
       "Topic                                       \n",
       "-1     1993  2.972630  5.460554  0.000000   \n",
       " 39    1993  3.353310  4.818595  0.823143   \n",
       " 14    1998  8.771750  4.084311  0.446972   \n",
       "-1     1998  5.590752  2.852806  0.000000   \n",
       " 51    1998  3.003181  6.618177  0.661435   \n",
       "...     ...       ...       ...       ...   \n",
       " 104   2018  0.244307  2.970795  1.000000   \n",
       " 63    2010 -0.061841  2.034062  0.190004   \n",
       " 63    2011  0.037348  2.256469  1.000000   \n",
       " 63    2012  0.054383  2.348704  0.900342   \n",
       "-1     2016 -0.052787  1.142984  0.000000   \n",
       "\n",
       "                                              Topic_Name  \\\n",
       "Topic                                                      \n",
       "-1                                              No Topic   \n",
       " 39    T 39: Mortality, Mortality experience, Indicat...   \n",
       " 14    T 14: Adverse development, Adverse, Satellite,...   \n",
       "-1                                              No Topic   \n",
       " 51        T 51: Tax, Effective, Tax rate, Effective tax   \n",
       "...                                                  ...   \n",
       " 104   T 104: Negative, Short term, Term fluctuations...   \n",
       " 63    T 63: Unprecedented volatility, Ongoing unprec...   \n",
       " 63    T 63: Unprecedented volatility, Ongoing unprec...   \n",
       " 63    T 63: Unprecedented volatility, Ongoing unprec...   \n",
       "-1                                              No Topic   \n",
       "\n",
       "                                            text_wrapped  \n",
       "Topic                                                     \n",
       "-1     In management's opinion, ICH made significant ...  \n",
       " 39    During the last half of 1993, Philadelphia Ame...  \n",
       " 14    The increased losses resulted from both advers...  \n",
       "-1     Just as in 1992 when Mother Nature decided to ...  \n",
       " 51    Expenses for 1998 were unusually high primaril...  \n",
       "...                                                  ...  \n",
       " 104   EEV non-operating items Negative short-term fl...  \n",
       " 63    As a result of the ongoing and unprecedented v...  \n",
       " 63    As a result of the ongoing and unprecedented v...  \n",
       " 63    As a result of the ongoing and unprecedented v...  \n",
       "-1     Uncertain external environment 2016 was a year...  \n",
       "\n",
       "[5824 rows x 13 columns]"
      ]
     },
     "execution_count": 14,
     "metadata": {},
     "output_type": "execute_result"
    }
   ],
   "source": [
    "df_tm"
   ]
  },
  {
   "cell_type": "code",
   "execution_count": 31,
   "metadata": {},
   "outputs": [
    {
     "data": {
      "image/png": "[encoded data removed]",
      "text/plain": [
       "<Figure size 527.953x326.3 with 1 Axes>"
      ]
     },
     "metadata": {},
     "output_type": "display_data"
    }
   ],
   "source": [
    "fig, ax = plt.subplots()\n",
    "g = sns.histplot(\n",
    "    df_master,\n",
    "    x=\"descriptiveness\",\n",
    "    common_norm=False,\n",
    "    binrange=(-2.5, 2.5), \n",
    "    bins=15,\n",
    "    ax=ax\n",
    ")\n",
    "ax.set_xlabel(\"Descriptiveness\")\n",
    "plt.savefig(figure_path/\"tm_descriptiveness.pgf\", bbox_inches=\"tight\")\n",
    "plt.savefig(figure_path/\"tm_descriptiveness.png\", bbox_inches=\"tight\")"
   ]
  },
  {
   "cell_type": "code",
   "execution_count": 30,
   "metadata": {},
   "outputs": [
    {
     "data": {
      "image/png": "[encoded data removed]",
      "text/plain": [
       "<Figure size 527.953x326.3 with 1 Axes>"
      ]
     },
     "metadata": {},
     "output_type": "display_data"
    }
   ],
   "source": [
    "fig, ax = plt.subplots()\n",
    "g = sns.histplot(\n",
    "    df_master,\n",
    "    x=\"title_quality\",\n",
    "    common_norm=False,\n",
    "    binrange=(-2.5, 2.5), \n",
    "    bins=15,\n",
    "    ax=ax\n",
    ")\n",
    "ax.set_xlabel(\"Title Quality\")\n",
    "plt.savefig(figure_path/\"tm_title_quality.pgf\", bbox_inches=\"tight\")\n",
    "plt.savefig(figure_path/\"tm_title_quality.png\", bbox_inches=\"tight\")"
   ]
  },
  {
   "cell_type": "code",
   "execution_count": 23,
   "metadata": {},
   "outputs": [
    {
     "data": {
      "text/plain": [
       "0.675"
      ]
     },
     "execution_count": 23,
     "metadata": {},
     "output_type": "execute_result"
    }
   ],
   "source": [
    "round(np.corrcoef(df_master.descriptiveness, df_master.title_quality)[0,1],3)"
   ]
  },
  {
   "cell_type": "code",
   "execution_count": 71,
   "metadata": {},
   "outputs": [
    {
     "data": {
      "image/png": "[encoded data removed]",
      "text/plain": [
       "<Figure size 527.953x326.3 with 1 Axes>"
      ]
     },
     "metadata": {},
     "output_type": "display_data"
    }
   ],
   "source": [
    "fig, ax = plt.subplots()\n",
    "g = sns.histplot(\n",
    "    df[~df.relatedness_bianchi.isna()],\n",
    "    x=\"relatedness_bianchi\",\n",
    "    common_norm=False,\n",
    "    binrange=(-0.5, 3.5), \n",
    "    bins=12,\n",
    "    ax=ax\n",
    ")\n",
    "ax.set_xlabel(\"Relatedness Bianchi\")\n",
    "plt.savefig(figure_path/\"tm_relatedness_bianchi_micro.pgf\", bbox_inches=\"tight\")\n",
    "plt.savefig(figure_path/\"tm_relatedness_bianchi_micro.png\", bbox_inches=\"tight\")"
   ]
  },
  {
   "cell_type": "code",
   "execution_count": 70,
   "metadata": {},
   "outputs": [
    {
     "data": {
      "image/png": "[encoded data removed]",
      "text/plain": [
       "<Figure size 527.953x326.3 with 1 Axes>"
      ]
     },
     "metadata": {},
     "output_type": "display_data"
    }
   ],
   "source": [
    "fig, ax = plt.subplots()\n",
    "g = sns.histplot(\n",
    "    df[~df.relatedness_hoyle.isna()],\n",
    "    x=\"relatedness_hoyle\",\n",
    "    common_norm=False,\n",
    "    binrange=(0.5, 3.5), \n",
    "    bins=9,\n",
    "    ax=ax\n",
    ")\n",
    "ax.set_xlabel(\"Relatedness Hoyle\")\n",
    "plt.savefig(figure_path/\"tm_relatedness_hoyle_micro.pgf\", bbox_inches=\"tight\")\n",
    "plt.savefig(figure_path/\"tm_relatedness_hoyle_micro.png\", bbox_inches=\"tight\")"
   ]
  },
  {
   "cell_type": "code",
   "execution_count": 36,
   "metadata": {},
   "outputs": [
    {
     "data": {
      "text/plain": [
       "0.967"
      ]
     },
     "execution_count": 36,
     "metadata": {},
     "output_type": "execute_result"
    }
   ],
   "source": [
    "round(np.corrcoef(df[df.representative_doc!= True].relatedness_bianchi , df[df.representative_doc!= True].relatedness_hoyle)[0,1], 3)"
   ]
  },
  {
   "cell_type": "code",
   "execution_count": 11,
   "metadata": {},
   "outputs": [],
   "source": [
    "row_order = [\"Relatedness Bianchi\", \"Relatedness Hoyle\", \"Unexpected loss\"]"
   ]
  },
  {
   "cell_type": "code",
   "execution_count": 83,
   "metadata": {},
   "outputs": [],
   "source": [
    "df[[\"Year\", \"relatedness_bianchi\", \"relatedness_hoyle\", \"unexpected_loss\"]].rename(columns={\"relatedness_bianchi\": \"Relatedness Bianchi\", \"relatedness_hoyle\": \"Relatedness Hoyle\", \"unexpected_loss\": \"Unexpected loss\"}).describe()[row_order + [\"Year\"]].T[[\"mean\",\"50%\", \"std\", \"min\", \"max\"]].rename(columns={\"50%\": \"median\"}).style.format(\"{:0.2f}\", subset=[\"mean\", \"std\", \"std\"]).format(\"{:0.0f}\", subset=[\"median\",\"min\", \"max\"]).to_latex(\n",
    "    table_path/\"tm_global_stats_micro.tex\",\n",
    "    position=\"H\",\n",
    "    caption=\"Descriptive statistics (micro) of all evaluated topics.\",\n",
    "    label=\"tab:tm_stats_overview_micro\",\n",
    "    environment=\"longtable\",\n",
    "    sparse_index=False,\n",
    "    sparse_columns=False,\n",
    "    hrules=True)"
   ]
  },
  {
   "cell_type": "code",
   "execution_count": 12,
   "metadata": {},
   "outputs": [],
   "source": [
    "df_master.rename(columns={\n",
    "    \"relatedness_bianchi\": \"Relatedness Bianchi\", \n",
    "    \"relatedness_hoyle\": \"Relatedness Hoyle\", \n",
    "    \"share_unexpected_loss\": \"Share unexpected loss\",\n",
    "    \"descriptiveness\": \"Title descriptiveness\",\n",
    "    \"title_quality\": \"Title quality\",\n",
    "    \"has_cause\": \"Has cause\"}).describe()[[\"Title descriptiveness\", \"Title quality\"] + row_order[:2] + [\"Count\"]].T[[\"mean\",\"50%\", \"std\", \"min\", \"max\"]].rename(columns={\"50%\": \"median\"}).style.format(\"{:0.2f}\", subset=[\"mean\", \"std\", \"std\", \"median\",\"min\", \"max\"]).to_latex(\n",
    "        table_path/\"tm_overview_stats_average_macro.tex\",\n",
    "        position=\"H\",\n",
    "        caption=\"Descriptive statistics macro average across all evaluated topics\",\n",
    "        label=\"tab:tm_stats_overview_macro\",\n",
    "        environment=\"longtable\",\n",
    "        sparse_index=False,\n",
    "        sparse_columns=False,\n",
    "        hrules=True)"
   ]
  },
  {
   "cell_type": "code",
   "execution_count": 84,
   "metadata": {},
   "outputs": [
    {
     "data": {
      "image/png": "[encoded data removed]",
      "text/plain": [
       "<Figure size 527.953x326.3 with 1 Axes>"
      ]
     },
     "metadata": {},
     "output_type": "display_data"
    }
   ],
   "source": [
    "fig, ax = plt.subplots()\n",
    "g = sns.histplot(\n",
    "    stats_topics[~stats_topics.relatedness_bianchi.isna()],\n",
    "    x=\"relatedness_bianchi\",\n",
    "    common_norm=False,\n",
    "    binrange=(-0.5, 3.5), \n",
    "    bins=12,\n",
    "    ax=ax\n",
    ")\n",
    "ax.set_xlabel(\"Relatedness Bianchi\")\n",
    "plt.savefig(figure_path/\"tm_relatedness_bianchi_macro.pgf\", bbox_inches=\"tight\")\n",
    "plt.savefig(figure_path/\"tm_relatedness_bianchi_macro.png\", bbox_inches=\"tight\")"
   ]
  },
  {
   "cell_type": "code",
   "execution_count": 62,
   "metadata": {},
   "outputs": [
    {
     "data": {
      "image/png": "[encoded data removed]",
      "text/plain": [
       "<Figure size 527.953x326.3 with 1 Axes>"
      ]
     },
     "metadata": {},
     "output_type": "display_data"
    }
   ],
   "source": [
    "fig, ax = plt.subplots()\n",
    "g = sns.histplot(\n",
    "    stats_topics[~stats_topics.relatedness_hoyle.isna()],\n",
    "    x=\"relatedness_hoyle\",\n",
    "    common_norm=False,\n",
    "    binrange=(1, 3), \n",
    "    bins=12,\n",
    "    ax=ax\n",
    ")\n",
    "ax.set_xlabel(\"Relatedness Hoyle\")\n",
    "plt.savefig(figure_path/\"tm_relatedness_hoyle_macro.pgf\", bbox_inches=\"tight\")\n",
    "plt.savefig(figure_path/\"tm_relatedness_hoyle_macro.png\", bbox_inches=\"tight\")"
   ]
  },
  {
   "cell_type": "code",
   "execution_count": 65,
   "metadata": {},
   "outputs": [
    {
     "data": {
      "image/png": "[encoded data removed]",
      "text/plain": [
       "<Figure size 527.953x326.3 with 1 Axes>"
      ]
     },
     "metadata": {},
     "output_type": "display_data"
    }
   ],
   "source": [
    "fig, ax = plt.subplots()\n",
    "g = sns.histplot(\n",
    "    stats_topics[~stats_topics.unexpected_loss.isna()],\n",
    "    x=\"unexpected_loss\",\n",
    "    common_norm=False,\n",
    "    binrange=(0, 1), \n",
    "    bins=10,\n",
    "    ax=ax\n",
    ")\n",
    "ax.set_xlabel(\"Unexpected loss\")\n",
    "plt.savefig(figure_path/\"tm_unexpected_loss_macro.pgf\", bbox_inches=\"tight\")\n",
    "plt.savefig(figure_path/\"tm_unexpectd_loss_macro.png\", bbox_inches=\"tight\")"
   ]
  },
  {
   "cell_type": "code",
   "execution_count": 69,
   "metadata": {},
   "outputs": [],
   "source": [
    "df_catchall[[\"Year\", \"relatedness_bianchi\", \"relatedness_hoyle\", \"unexpected_loss\"]].rename(columns={\"relatedness_bianchi\": \"Relatedness Bianchi\", \"relatedness_hoyle\": \"Relatedness Hoyle\", \"unexpected_loss\": \"Unexpected loss\"}).describe()[row_order + [\"Year\"]].T[[\"mean\",\"50%\", \"std\", \"min\", \"max\"]].rename(columns={\"50%\": \"median\"}).style.format(\"{:0.2f}\", subset=[\"mean\", \"std\", \"std\"]).format(\"{:0.0f}\", subset=[\"median\",\"min\", \"max\"]).to_latex(\n",
    "    table_path/\"tm_catchall_stats.tex\",\n",
    "    position=\"H\",\n",
    "    caption=\"Descriptive statistics (micro) of a sample of 30 paragraphs (including the 4 representative documents) from the catchall/unassigned cluster.\",\n",
    "    label=\"tab:tm_catchall_stats\",\n",
    "    environment=\"longtable\",\n",
    "    sparse_index=False,\n",
    "    sparse_columns=False,\n",
    "    hrules=True)"
   ]
  },
  {
   "cell_type": "markdown",
   "metadata": {},
   "source": [
    "# Automatically create subsections"
   ]
  },
  {
   "cell_type": "code",
   "execution_count": 82,
   "metadata": {},
   "outputs": [],
   "source": [
    "master = stats_topics.join(df_master.set_index(\"Topic\"), how=\"left\", rsuffix=\"_master\")"
   ]
  },
  {
   "cell_type": "code",
   "execution_count": 83,
   "metadata": {},
   "outputs": [],
   "source": [
    "tm_df = pd.read_pickle(base_path/'Dashboard/topic_models'/\"emb_bge_large_en_8\"/\"tm_df.pkl\")\n",
    "tm_df = tm_df.set_index(\"Topic\")\n",
    "df_risks = pd.read_pickle(base_path/'Dashboard/topic_models'/\"emb_bge_large_en_8\"/\"df_risks.pkl\")\n",
    "\n",
    "eval_topics = [8, 161, 193, 194, 59, 139, 143, 135, 30, 53, 83, 57, 197, 40, 84, 85, 117, 34, 45, 19]\n",
    "dff = df_master[df_master.Topic.isin(eval_topics)].drop([\"relatedness_hoyle\", \"relatedness_bianchi\"], axis=1).set_index(\"Topic\").join(df.set_index(\"Topic\").drop([\"comment\", \"y\", \"Unnamed: 8\"], axis = 1), how=\"left\", rsuffix=\"_master\")\n",
    "\n",
    "dff[\"related\"] = (dff.relatedness_hoyle > 2) & (dff.relatedness_bianchi > 1)| dff.representative_doc\n",
    "dff[\"belonging\"] = dff.apply(lambda x: \"related \\\\& ul\" if x.related and x.unexpected_loss > 0.5 else (\"not ul\" if x.related else (\"not related\" if x.unexpected_loss > 0.5 else \"neither related or ul\")), axis=1)\n",
    "extract_list = lambda x: [i for i in x.split(\",\") if i not in[\"\", \" \"]  ] if type(x) == str else []\n",
    "df_master.top_10_risks_index = df_master.top_10_risks_index.apply(lambda x: [int(i) for i in extract_list(x)])\n",
    "df_master.related_risks_index = df_master.related_risks_index.apply(lambda x: [int(i) for i in extract_list(x)])\n",
    "df_master.keywords = df_master.keywords.apply(extract_list)\n",
    "\n",
    "dm = df_master[df_master.Topic.isin(eval_topics)].drop([\"relatedness_hoyle\", \"relatedness_bianchi\"], axis=1).set_index(\"Topic\")\n"
   ]
  },
  {
   "cell_type": "markdown",
   "metadata": {},
   "source": [
    "### Templates"
   ]
  },
  {
   "cell_type": "code",
   "execution_count": 84,
   "metadata": {},
   "outputs": [],
   "source": [
    "topic_template = \"\"\"\n",
    "\\\\subsection{{{topic_name}}}\\\\label{{subsec:topic_{topic_number}}}\n",
    "    {risk_description}\n",
    "\n",
    "    {figure}\n",
    "\n",
    "    {risk_comments}\n",
    "    \n",
    "    {quotes}\n",
    "\n",
    "    {representative_docs}\n",
    "\"\"\"\n",
    "\n",
    "representative_document_template = \"\"\"\n",
    "\\\\begin{{itemize}}\n",
    "    \\\\item {}\n",
    "    \\\\item {}\n",
    "    \\\\item {}\n",
    "\\\\end{{itemize}}\n",
    "\"\"\"\n",
    "\n",
    "super_figure_teplate = \"\"\"\n",
    "\\\\begin{{figure}}[H]\n",
    "    \\\\centering\n",
    "    \\\\begin{{subfigure}}[t]{{0.65\\\\textwidth}}\n",
    "        \\\\begin{{center}}\n",
    "            \\\\resizebox{{\\\\textwidth}}{{!}}{{\\\\inputpgf{{./figures/plots/topics}}{{topic_{topic}_time.pgf}}}}\n",
    "        \\\\end{{center}}\n",
    "        \\\\caption{{{caption}}}\n",
    "    \\end{{subfigure}}\n",
    "    \\\\begin{{subfigure}}[t]{{0.34\\\\textwidth}}\n",
    "        \\\\begin{{subfigure}}[t]{{0.9\\\\textwidth}}\n",
    "            \\\\begin{{subfigure}}[t]{{\\\\linewidth}}\n",
    "                \\\\begin{{center}}\n",
    "                    \\\\resizebox{{\\\\linewidth}}{{!}}{{\\\\inputpgf{{./figures/plots/topics}}{{topic_{topic}_words.pgf}}}}\n",
    "                \\\\caption{{Top n-grams}}\n",
    "                \\\\end{{center}}\n",
    "            \\end{{subfigure}}\n",
    "            \\\\begin{{subfigure}}[t]{{\\\\linewidth}}\n",
    "                \\\\includegraphics[width=\\\\linewidth]{{figures/plots/topics/topic_{topic}_filing_shares.png}}\n",
    "                \\\\caption{{Share of related unexpected losses by filing and company}}\n",
    "            \\end{{subfigure}}\n",
    "        \\end{{subfigure}}\n",
    "    \\end{{subfigure}}\n",
    "    \\\\caption{{Overview of cluster {cluster_name}}}\n",
    "    \\\\label{{{label}}}\n",
    "\\\\end{{figure}}\"\"\""
   ]
  },
  {
   "cell_type": "code",
   "execution_count": 85,
   "metadata": {},
   "outputs": [],
   "source": [
    "risk_source_map = {\n",
    "    'Sonar - external': \"SRS\",\n",
    "    'World Economic Forum (WEF) Global Risks Report': \"WEF\",\n",
    "    'Other': \"OTH\",\n",
    "    'Allianz Risk Barometer': \"ARB\",\n",
    "    'Insurance Banana Skins': \"IBS\",\n",
    "    'Eurasia Group': \"EUR\", \n",
    "    'GESDA': \"GES\",\n",
    " }"
   ]
  },
  {
   "cell_type": "code",
   "execution_count": 86,
   "metadata": {},
   "outputs": [],
   "source": [
    "df_risks.Source = df_risks.Source.apply(lambda x: risk_source_map[x])"
   ]
  },
  {
   "cell_type": "markdown",
   "metadata": {},
   "source": [
    "### Stitching stuff together"
   ]
  },
  {
   "cell_type": "code",
   "execution_count": 87,
   "metadata": {},
   "outputs": [
    {
     "name": "stdout",
     "output_type": "stream",
     "text": [
      "8\n",
      "161\n",
      "193\n",
      "194\n",
      "59\n",
      "139\n",
      "143\n",
      "135\n",
      "30\n",
      "53\n",
      "83\n",
      "57\n",
      "197\n",
      "40\n",
      "84\n",
      "85\n",
      "117\n",
      "34\n",
      "45\n",
      "19\n"
     ]
    }
   ],
   "source": [
    "all_topic_files = \"\"\n",
    "for topic in eval_topics:\n",
    "    dfff = dff.loc[topic]\n",
    "    start_year = dfff[dfff.belonging == \"related \\\\& ul\"].Year.min()\n",
    "    matplotlib.rcParams.update({\n",
    "        \"font.family\": 'sans',  # use serif/main font for text elements\n",
    "        \"font.size\": 7,\n",
    "        \"text.usetex\": False,   # use inline math for ticks\n",
    "        \"pgf.rcfonts\": False,   # don't setup fonts from rc parameters\n",
    "        \"pgf.texsystem\" : \"lualatex\",\n",
    "        \"figure.figsize\": [0.65*width, 0.65*height]})\n",
    "    fig, ax = plt.subplots()\n",
    "    # ax.axvline(x=dfff.Year.mean(), color=\"black\", linestyle=\":\", linewidth=1)\n",
    "    g = sns.histplot(dfff, \n",
    "                     x=\"Year\", \n",
    "                     hue=\"belonging\",\n",
    "                     hue_order=[\"related \\\\& ul\", \"not related\", \"not ul\", \"neither related or ul\"],\n",
    "                     multiple=\"stack\",\n",
    "                     ax=ax, \n",
    "                     binrange=(1993.25, 2020.25), \n",
    "                     bins=27*2+1)\n",
    "    #ax.set_xlim((1994, 2021))\n",
    "    y_min, y_max = ax.get_ylim()\n",
    "    footnote = {}\n",
    "    if dm.loc[topic].top_10_risks_index:\n",
    "        dr = df_risks.loc[dm.loc[topic].top_10_risks_index].sort_values(by=\"Year\", ascending=True)\n",
    "        years = set(dr.Year.unique())\n",
    "        for i, year in enumerate(dr.Year.unique()):\n",
    "            if year < start_year:\n",
    "                ax.axvline(x=year, color=\"red\", linestyle=\"-\", linewidth=1)\n",
    "                ax.text(year-0.4, y_max*1.02, f\"[{i}]\", color=\"red\", fontsize=7)\n",
    "            else:\n",
    "                ax.axvline(x=year, color=\"black\", linestyle=\"-\", linewidth=1)\n",
    "                ax.text(year-0.4, y_max*1.02, f\"[{i}]\", color=\"black\", fontsize=7)\n",
    "            footnotes = [f\"{source}{str(year)[2:]}: \\\\emph{{{title}}}\" for title, source in zip(dr[dr.Year==year].Title.values, dr[dr.Year==year].Source.values)]\n",
    "            footnotes =[f.replace(\"$\", \"\\\\$\").replace(\"%\", \"\\\\%\").replace(\"&\", \"\\\\&\") for f in footnotes]\n",
    "            footnote[year] = f\"[{i}] {'; '.join(footnotes)}\"\n",
    "    else:\n",
    "        years = set([])\n",
    "    if dm.loc[topic].related_risks_index:\n",
    "        dr = df_risks.loc[dm.loc[topic].related_risks_index].sort_values(by=\"Year\", ascending=True)\n",
    "        new_years = set(dr.Year.unique()) - years\n",
    "        for i, year in enumerate(dr.Year.unique(), start = len(years)):\n",
    "            if year in new_years:\n",
    "                if year < start_year:\n",
    "                    ax.axvline(x=year, color=\"red\", linestyle=\"--\", linewidth=1)\n",
    "                    ax.text(year-0.4, y_max*1.02, f\"[{i}]\", color=\"red\", fontsize=7)\n",
    "                else:\n",
    "                    ax.axvline(x=year, color=\"black\", linestyle=\"--\", linewidth=1)\n",
    "                    ax.text(year-0.4, y_max*1.02, f\"[{i}]\", color=\"black\", fontsize=7)\n",
    "            footnotes = [f\"{source}{str(year)[2:]}: \\\\emph{{{title}}}\" for title, source in zip(dr[dr.Year==year].Title.values, dr[dr.Year==year].Source.values)]\n",
    "            footnotes =[f.replace(\"$\", \"\\\\$\").replace(\"%\", \"\\\\%\").replace(\"&\", \"\\\\&\") for f in footnotes]\n",
    "            if year in footnote.keys():\n",
    "                footnote[year] = f\"{footnote[year]}; {'; '.join(footnotes)}\"\n",
    "            else:\n",
    "                footnote[year] = f\"[{i}] {'; '.join(footnotes)}\"\n",
    "    ax.set_ylabel(\"Count\")\n",
    "    ax.set_xticks(range(1994, 2020, 1), minor=True)\n",
    "    leg = ax.get_legend()\n",
    "    leg.set_title(\"\")\n",
    "    plt.savefig(figure_path/f\"topics/topic_{topic}_time.pgf\")\n",
    "    if dm.loc[topic].keywords:\n",
    "        keywords = f\"\\\\textbf{{Keywords searched for (dahed lines):}} {'; '.join(dm.loc[topic].keywords)}\"\n",
    "    else:\n",
    "        keywords = \" \"\n",
    "    figure = super_figure_teplate.format(\n",
    "        topic=topic, \n",
    "        caption=f\"{' '.join([x for x in footnote.values()])} {keywords}\",\n",
    "        cluster_name= dm.loc[topic].given_name,\n",
    "        label=f\"fig:topic_{topic}_time\")\n",
    "    with open(writing_path/f\"figures/topics/topic_{topic}_time.tex\", \"w\") as f:\n",
    "        f.write(figure)\n",
    "    rep_docs = [x.replace(\"$\", \"\\\\$\").replace(\"%\", \"\\\\%\").replace(\"&\", \"\\\\&\") for x in  dfff[dfff.representative_doc==True].text.to_list()]\n",
    "    if dm.loc[topic].quotes:\n",
    "        quotes = f\"\\\\paragraph{{Quotes:}} {dm.loc[topic].quotes}\"\n",
    "    else:\n",
    "        quotes = \"\"\n",
    "    topic_file = topic_template.format(\n",
    "            topic_name=dm.loc[topic].given_name,\n",
    "            topic_number=topic,\n",
    "            risk_description=f\"\\\\paragraph{{Risk Description:}} {dm.loc[topic].description}\",\n",
    "            figure=f\"\\\\input{{./figures/topics/topic_{topic}_time.tex}}\",\n",
    "            representative_docs=\"\\\\paragraph{Representative Documents:}\" + representative_document_template.format(rep_docs[0], rep_docs[1], rep_docs[2]),\n",
    "            risk_comments=f\"\\\\paragraph{{Summary:}} {dm.loc[topic].risks_comment}\",\n",
    "            quotes=quotes\n",
    "        )\n",
    "    with open(writing_path/f\"sections/05_Results/topics/topic_{topic}.tex\", \"w\") as f:\n",
    "        f.write(topic_file)\n",
    "    all_topic_files += f\"\\\\input{{./sections/05_Results/topics/topic_{topic}.tex}}\\n \\\\newpage \\n\"\n",
    "    matplotlib.rcParams.update({\n",
    "        \"font.family\": 'sans',  # use serif/main font for text elements\n",
    "        \"font.size\": 6,\n",
    "        \"text.usetex\": False,   # use inline math for ticks\n",
    "        \"pgf.rcfonts\": False,   # don't setup fonts from rc parameters\n",
    "        \"pgf.texsystem\" : \"lualatex\",\n",
    "        \"figure.figsize\": [height*0.5*0.8, width*0.5*0.8]})\n",
    "    fig, ax = plt.subplots()\n",
    "    top_words = pd.DataFrame(tm_df.loc[topic][\"Top_Words\"]).sort_values(by=1)\n",
    "    p = top_words.set_index(0).plot(kind=\"barh\", ax=ax)\n",
    "    ax.tick_params(axis='y', direction='in',pad=-7)\n",
    "    ax.set_yticklabels(top_words[0].tolist(), horizontalalignment = \"left\")\n",
    "    p.legend().remove()\n",
    "    p.set_ylabel(\" \")\n",
    "    plt.savefig(figure_path/f\"topics/topic_{topic}_words.pgf\")\n",
    "    matplotlib.rcParams.update({\n",
    "        \"font.family\": 'sans',  # use serif/main font for text elements\n",
    "        \"font.size\": 7,\n",
    "        \"text.usetex\": False,   # use inline math for ticks\n",
    "        \"pgf.rcfonts\": False,   # don't setup fonts from rc parameters\n",
    "        \"pgf.texsystem\" : \"lualatex\",\n",
    "        \"figure.figsize\": [width, height]})\n",
    "    print(topic)\n",
    "    texts = dfff[dfff.belonging == \"related \\\\& ul\"].text.tolist()\n",
    "    fig = px.sunburst(\n",
    "        df_tm[df_tm.text.isin(texts)].loc[topic], \n",
    "        path=['filing_type', 'company'],\n",
    "        color='filing_type',\n",
    "        height=500,\n",
    "        width=500,\n",
    "        color_discrete_map={\"PDF\": \"#ff7f0e\", \"10-K\": \"#1f77b4\"})\n",
    "    fig.write_image(figure_path/f\"topics/topic_{topic}_filing_shares.png\")\n",
    "    matplotlib.pyplot.close(\"all\")\n",
    "with open(writing_path/f\"sections/05_Results/all_topics.tex\", \"w\") as f:\n",
    "    f.write(all_topic_files)\n"
   ]
  },
  {
   "cell_type": "markdown",
   "metadata": {},
   "source": [
    "# Table Styling"
   ]
  },
  {
   "cell_type": "code",
   "execution_count": 39,
   "metadata": {},
   "outputs": [],
   "source": [
    "cmap = matplotlib.cm.RdYlGn"
   ]
  },
  {
   "cell_type": "code",
   "execution_count": 61,
   "metadata": {},
   "outputs": [],
   "source": [
    "column_name_map = {\n",
    "    \"descriptiveness\": \"Desc.\",\n",
    "    \"title_quality\": \"Qual.\",\n",
    "    \"relatedness_bianchi\": \"Rel. B\",\n",
    "    \"relatedness_hoyle\": \"Rel. H\",\n",
    "    \"share_unexpected_loss\": \"\\\\% UL\",\n",
    "    \"has_cause\": \"Has cause\",\n",
    "    \"Count\": \"\\\\#\"\n",
    "}"
   ]
  },
  {
   "cell_type": "code",
   "execution_count": 66,
   "metadata": {},
   "outputs": [],
   "source": [
    "df_master.share_unexpected_loss = df_master.share_unexpected_loss.round(2)*100\n",
    "df_master.Name = df_master.Name.apply(lambda x: x.split(\": \")[1])\n",
    "df_master[\"selected\"] = df_master.apply(lambda x: (x.has_cause *x.share_unexpected_loss) >50 , axis=1)\n",
    "df_master = df_master.set_index(\"Topic\").sort_values(by=\"Count\", ascending=False)\n",
    "df_master.loc[8, \"selected\"] = True\n",
    "df_master.loc[34, \"selected\"] = True"
   ]
  },
  {
   "cell_type": "code",
   "execution_count": 53,
   "metadata": {},
   "outputs": [],
   "source": [
    "cmap= sns.diverging_palette(10, 140, s=100, l=50, center=\"dark\", as_cmap=True)"
   ]
  },
  {
   "cell_type": "code",
   "execution_count": 87,
   "metadata": {},
   "outputs": [],
   "source": [
    "df_master[[\"Name\", \"title_quality\", \"descriptiveness\", \"relatedness_hoyle\", \"relatedness_bianchi\", \"share_unexpected_loss\", \"has_cause\", \"Count\"]].rename(columns=column_name_map).style.text_gradient(cmap=cmap, subset=[\"Desc.\", \"Qual.\", \"Rel. B\", \"Rel. H\", \"\\\\% UL\", \"Has cause\"]).text_gradient(cmap=cmap, gmap=df_master.selected, subset=[\"Name\"] ).format(precision=1).to_latex(\n",
    "    table_path/\"topic_evaluation.tex\", \n",
    "    position=\"H\",\n",
    "    caption=\"Overview of topics with peak after 2012. Qual. = Title Quality, Desc. = Title Descriptiveness, Rel. B = Average of Relatedness Bianchi, Rel. H = Average of Relatedness Hoyle, \\\\% UL = Share of Unexpected Loss. Topic names are colored according to whether the topic was selected (green) for further analysis.\",\n",
    "    label=\"tab:tm_overview\",\n",
    "    environment=\"longtable\",\n",
    "    column_format=\"P{0.9cm}|P{4.5cm}P{0.9cm}P{0.9cm}P{0.8cm}P{0.8cm}P{0.85cm}P{1cm}P{0.4cm}\",\n",
    "    sparse_index=False,\n",
    "    sparse_columns=False,\n",
    "    convert_css=True,\n",
    "    hrules=True)"
   ]
  }
 ],
 "metadata": {
  "kernelspec": {
   "display_name": ".venv",
   "language": "python",
   "name": "python3"
  },
  "language_info": {
   "codemirror_mode": {
    "name": "ipython",
    "version": 3
   },
   "file_extension": ".py",
   "mimetype": "text/x-python",
   "name": "python",
   "nbconvert_exporter": "python",
   "pygments_lexer": "ipython3",
   "version": "3.10.10"
  },
  "orig_nbformat": 4
 },
 "nbformat": 4,
 "nbformat_minor": 2
}
